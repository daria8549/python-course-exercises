{
 "cells": [
  {
   "cell_type": "markdown",
   "metadata": {
    "deletable": false,
    "editable": false,
    "nbgrader": {
     "cell_type": "markdown",
     "checksum": "fc03a7138e65bed1398a187aba5d254f",
     "grade": false,
     "grade_id": "cell-686ce4b70e164ed9",
     "locked": true,
     "schema_version": 3,
     "solution": false,
     "task": false
    }
   },
   "source": [
    "## Assignment 2"
   ]
  },
  {
   "cell_type": "markdown",
   "metadata": {
    "deletable": false,
    "editable": false,
    "nbgrader": {
     "cell_type": "markdown",
     "checksum": "106407c6aa2789022d3ea43be6f9b53d",
     "grade": false,
     "grade_id": "cell-386fbe56c4a1fe31",
     "locked": true,
     "schema_version": 3,
     "solution": false,
     "task": false
    },
    "tags": []
   },
   "source": [
    "#### Circular Linked List\n",
    "\n",
    "Given is an implementation of a circular linked list: a circular linked list is a linked list where the last element of the list  points to the first element.\n",
    "\n",
    "In the below implementation, the linked list consists of individual list elements of type `Element`. Each element has a value `value`, and a reference to the next element `next`.\n",
    "The class `LinkedList` itself has a pointer to the first element of the list (`self.first`) and the last element of the list (`self.last`). In addition, the class has already the function `push`: this function receives a value, adds a new element as the first element and updates the `next` references accordingly."
   ]
  },
  {
   "cell_type": "code",
   "execution_count": null,
   "metadata": {
    "deletable": false,
    "editable": false,
    "nbgrader": {
     "cell_type": "code",
     "checksum": "5586ed1d79918a123fc8da732a2fa1c8",
     "grade": false,
     "grade_id": "cell-f8f1dc8580ac8c6c",
     "locked": true,
     "schema_version": 3,
     "solution": false,
     "task": false
    }
   },
   "outputs": [],
   "source": [
    "#This class lets us create the individual items of a queue\n",
    "class Element:\n",
    "    def __init__(self, value):\n",
    "        self.value = value\n",
    "        self.next = None\n",
    "\n",
    "        \n",
    "class LinkedList:\n",
    "    def __init__(self):\n",
    "        self.first = None\n",
    "        self.last = None\n",
    "\n",
    "    def push(self, v):\n",
    "        temp = Element(v)\n",
    "        if self.first == None:\n",
    "            # empty list\n",
    "            self.first = temp\n",
    "            self.last = temp\n",
    "        else:\n",
    "            temp.next = self.first\n",
    "            self.first = temp\n",
    "        self.last.next = self.first\n",
    "\n",
    "\n",
    "# we create a new linked list and fill it with elements\n",
    "ll = LinkedList()\n",
    "ll.push(\"toes\")\n",
    "ll.push(\"knees\")\n",
    "ll.push(\"shoulders\")\n",
    "ll.push(\"head\")\n",
    "\n",
    "# access the elements of the list\n",
    "el = ll.first.next\n",
    "print('Second:', el.value)\n",
    "# show the circular property\n",
    "el = ll.last.next\n",
    "print('Circle:', el.value)"
   ]
  },
  {
   "cell_type": "markdown",
   "metadata": {
    "deletable": false,
    "editable": false,
    "nbgrader": {
     "cell_type": "markdown",
     "checksum": "eed95438c01f0a833a5855f2321f42ae",
     "grade": false,
     "grade_id": "cell-a3351c402471444e",
     "locked": true,
     "schema_version": 3,
     "solution": false,
     "task": false
    }
   },
   "source": [
    "#### Task 1\n",
    "\n",
    "Answer the following questions by setting the variables `a_x` to `True` or `False`:\n",
    "\n",
    "**Q1**: Which of the statements about Linked Lists are true and false? \\\n",
    "a_1: The size is dynamic, i.e., an arbitrary number of elements can be added. \\\n",
    "b_1: The length is fixed on intialization of the linked list. \\\n",
    "c_1: Searching the linked list can be done in logarithmic time.\n",
    "\n",
    "**Q2**: Which of the statements about the above implementation of `LinkedList` is true and false, respectively? \\\n",
    "a_2: If the list is empty both, `first` and `last` are not set, i.e., they are set to `None`. \\\n",
    "b_2: If the list contains only one element it is its own successor. \\\n",
    "c_2: When a new element gets pushed (`push`) to the list it has to first visit all elements of the list. \n",
    "\n",
    "**Q3**: Which of the statements about Stacks are true and false? \\\n",
    "a_3: A Stack is a LOFI store. \\\n",
    "b_3: The top element of a Stack is always the last element of a Linked List. \\\n",
    "c_3: Stacks use non-numeric keys (mostly strings) to address the elements they contain.\n",
    "\n",
    "**Q4**: Which of the statements about Queues are true and false? \\\n",
    "a_4: A queue can contain another queue. \\\n",
    "b_4: The `put` method is used to populate a queue. \\\n",
    "c_4: A Linked List can be used to implement a Queue."
   ]
  },
  {
   "cell_type": "code",
   "execution_count": 1,
   "metadata": {
    "deletable": false,
    "nbgrader": {
     "cell_type": "code",
     "checksum": "5bfd780a49864a6385d4d3c1bda4db8c",
     "grade": false,
     "grade_id": "cell-f47930faa175277e",
     "locked": false,
     "schema_version": 3,
     "solution": true,
     "task": false
    }
   },
   "outputs": [],
   "source": [
    "# Q1:\n",
    "a_1 = True \n",
    "b_1 = False\n",
    "c_1 = False\n",
    "# Q2:\n",
    "a_2 = True \n",
    "b_2 = True \n",
    "c_2 = False\n",
    "# Q3:\n",
    "a_3 = True\n",
    "b_3 = False\n",
    "c_3 = False\n",
    "# Q4:\n",
    "a_4 = False \n",
    "b_4 = False\n",
    "c_4 = True\n",
    "\n",
    "# REMOVE THE FOLLOWING LINE \"raise NotImplementedError()\" IN YOUR SUBMISSION\n",
    "# YOUR CODE HERE\n"
   ]
  },
  {
   "cell_type": "code",
   "execution_count": null,
   "metadata": {
    "deletable": false,
    "editable": false,
    "nbgrader": {
     "cell_type": "code",
     "checksum": "ea6b043d57f3c41426eef420913b3589",
     "grade": true,
     "grade_id": "cell-9951822ec2be7123",
     "locked": true,
     "points": 0.5,
     "schema_version": 3,
     "solution": false,
     "task": false
    }
   },
   "outputs": [],
   "source": [
    "# DO NOT REMOVE CELL"
   ]
  },
  {
   "cell_type": "code",
   "execution_count": null,
   "metadata": {
    "deletable": false,
    "editable": false,
    "nbgrader": {
     "cell_type": "code",
     "checksum": "e91e52895390de493b386525990076bb",
     "grade": true,
     "grade_id": "cell-e5e5651f6b641733",
     "locked": true,
     "points": 0.5,
     "schema_version": 3,
     "solution": false,
     "task": false
    }
   },
   "outputs": [],
   "source": [
    "# DO NOT REMOVE CELL"
   ]
  },
  {
   "cell_type": "code",
   "execution_count": null,
   "metadata": {
    "deletable": false,
    "editable": false,
    "nbgrader": {
     "cell_type": "code",
     "checksum": "1654ad76fa903d940f7344f46830c51f",
     "grade": true,
     "grade_id": "cell-19d034a1fd07ebfc",
     "locked": true,
     "points": 0.5,
     "schema_version": 3,
     "solution": false,
     "task": false
    }
   },
   "outputs": [],
   "source": [
    "# DO NOT REMOVE CELL"
   ]
  },
  {
   "cell_type": "code",
   "execution_count": null,
   "metadata": {
    "deletable": false,
    "editable": false,
    "nbgrader": {
     "cell_type": "code",
     "checksum": "95d13ca32c9ef262ae7030f3214f4622",
     "grade": true,
     "grade_id": "cell-c778c97a812884dc",
     "locked": true,
     "points": 0.5,
     "schema_version": 3,
     "solution": false,
     "task": false
    }
   },
   "outputs": [],
   "source": [
    "# DO NOT REMOVE CELL"
   ]
  },
  {
   "cell_type": "markdown",
   "metadata": {
    "deletable": false,
    "editable": false,
    "nbgrader": {
     "cell_type": "markdown",
     "checksum": "7ab07b840ca52b99e454a082a9610a99",
     "grade": false,
     "grade_id": "cell-3878586fab29bf68",
     "locked": true,
     "schema_version": 3,
     "solution": false,
     "task": false
    }
   },
   "source": [
    "**Task 2:** Extend the class `LinkedList` by the function `print_list` which prints all values of the list seperated by a comma and a space, e.g.:\n",
    "\n",
    "```\n",
    "head, shoulders, knees, toes\n",
    "```"
   ]
  },
  {
   "cell_type": "code",
   "execution_count": 41,
   "metadata": {
    "deletable": false,
    "nbgrader": {
     "cell_type": "code",
     "checksum": "d0b22beb1a47d8fc26b351e7b1a7143d",
     "grade": false,
     "grade_id": "cell-8e397b8bca71b69a",
     "locked": false,
     "schema_version": 3,
     "solution": true,
     "task": false
    }
   },
   "outputs": [],
   "source": [
    "class Element:\n",
    "    def __init__(self, value):\n",
    "        self.value = value\n",
    "        self.next = None\n",
    "\n",
    "        \n",
    "class LinkedList:\n",
    "    def __init__(self):\n",
    "        self.first = None\n",
    "        self.last = None\n",
    "\n",
    "    def push(self, item):\n",
    "        temp = Element(item)\n",
    "        if self.first == None:\n",
    "            # empty list\n",
    "            self.first = temp\n",
    "            self.last = temp\n",
    "        else:\n",
    "            temp.next = self.first\n",
    "            self.first = temp\n",
    "        self.last.next = self.first\n",
    "\n",
    "    def print_list(self):\n",
    "        if self.first is None:  \n",
    "            print(\"empty cllist\")\n",
    "        else: \n",
    "            temp = self.last\n",
    "            while temp.next != self.last:  \n",
    "                temp = temp.next            \n",
    "                print(temp.value, \", \", end=\" \")\n",
    "            print(temp.next.value)  "
   ]
  },
  {
   "cell_type": "code",
   "execution_count": 42,
   "metadata": {
    "deletable": false,
    "editable": false,
    "nbgrader": {
     "cell_type": "code",
     "checksum": "646f5c5c165677a69c112da6c0cbf785",
     "grade": true,
     "grade_id": "cell-82a9f1991c24db26",
     "locked": true,
     "points": 2,
     "schema_version": 3,
     "solution": false,
     "task": false
    }
   },
   "outputs": [
    {
     "name": "stdout",
     "output_type": "stream",
     "text": [
      "head ,  shoulders ,  knees ,  toes\n"
     ]
    }
   ],
   "source": [
    "# DO NOT REMOVE CELL\n",
    "ll = LinkedList()\n",
    "ll.push(\"toes\")\n",
    "ll.push(\"knees\")\n",
    "ll.push(\"shoulders\")\n",
    "ll.push(\"head\")\n",
    "\n",
    "ll.print_list()\n"
   ]
  },
  {
   "cell_type": "markdown",
   "metadata": {
    "deletable": false,
    "editable": false,
    "nbgrader": {
     "cell_type": "markdown",
     "checksum": "a39c5cf8fcfe4d5a066a3364cf6440f1",
     "grade": false,
     "grade_id": "cell-0afe1ce6420ca3fc",
     "locked": true,
     "schema_version": 3,
     "solution": false,
     "task": false
    }
   },
   "source": [
    "**Task 3:** Extend the class `LinkedList` by the function `pop`: The function should remove the first element and return its value."
   ]
  },
  {
   "cell_type": "code",
   "execution_count": 39,
   "metadata": {
    "deletable": false,
    "nbgrader": {
     "cell_type": "code",
     "checksum": "57f05236fa5ce18d1dd6c4cdaed6ce24",
     "grade": false,
     "grade_id": "cell-a6c864d074f832fc",
     "locked": false,
     "schema_version": 3,
     "solution": true,
     "task": false
    }
   },
   "outputs": [],
   "source": [
    "class Element:\n",
    "    def __init__(self, value):\n",
    "        self.value = value\n",
    "        self.next = None\n",
    "\n",
    "        \n",
    "class LinkedList:\n",
    "    def __init__(self):\n",
    "        self.first = None\n",
    "        self.last = None\n",
    "\n",
    "    def push(self, item):\n",
    "        temp = Element(item)\n",
    "        if self.first == None:\n",
    "            # empty list\n",
    "            self.first = temp\n",
    "            self.last = temp\n",
    "        else:\n",
    "            temp.next = self.first\n",
    "            self.first = temp\n",
    "        self.last.next = self.first\n",
    "\n",
    "    def pop(self):  #all three options -> if there is non nodes, one nodes, more nodes\n",
    "        if self.first is None:               \n",
    "            print(\"no nodes in cllist!\")\n",
    "        else:\n",
    "            if self.first == self.last:       \n",
    "                self.first = None\n",
    "            else:                           \n",
    "                temp = self.first.value         \n",
    "                self.first = self.first.next                       \n",
    "                self.last.next = self.first       \n",
    "                return temp"
   ]
  },
  {
   "cell_type": "code",
   "execution_count": 40,
   "metadata": {
    "deletable": false,
    "editable": false,
    "nbgrader": {
     "cell_type": "code",
     "checksum": "b4e6ef62ef5c59a654d1485c5f3c89a0",
     "grade": true,
     "grade_id": "cell-6f7668f2aafa71f0",
     "locked": true,
     "points": 3,
     "schema_version": 3,
     "solution": false,
     "task": false
    }
   },
   "outputs": [
    {
     "name": "stdout",
     "output_type": "stream",
     "text": [
      "Removed the first element: head\n",
      "New first: shoulders\n",
      "Circle: shoulders\n"
     ]
    }
   ],
   "source": [
    "# DO NOT REMOVE CELL\n",
    "ll = LinkedList()\n",
    "ll.push(\"toes\")\n",
    "ll.push(\"knees\")\n",
    "ll.push(\"shoulders\")\n",
    "ll.push(\"head\")\n",
    "\n",
    "print('Removed the first element:', ll.pop())\n",
    "# print the first element\n",
    "print('New first:', ll.first.value)\n",
    "# show the circular property\n",
    "print('Circle:', ll.last.next.value)"
   ]
  },
  {
   "cell_type": "markdown",
   "metadata": {
    "deletable": false,
    "editable": false,
    "nbgrader": {
     "cell_type": "markdown",
     "checksum": "99a7ce40a0ab1b4373fabb62d335bb56",
     "grade": false,
     "grade_id": "cell-1761e3ca0f32ad2e",
     "locked": true,
     "schema_version": 3,
     "solution": false,
     "task": false
    }
   },
   "source": [
    "**Task 4:** Extend the class `LinkedList` by the function `length`: The function should return an integer which is the length of the list."
   ]
  },
  {
   "cell_type": "code",
   "execution_count": 1,
   "metadata": {
    "deletable": false,
    "nbgrader": {
     "cell_type": "code",
     "checksum": "45a9493a348020ed3d79c1c6e1dbe0ad",
     "grade": false,
     "grade_id": "cell-86b3009aab065895",
     "locked": false,
     "schema_version": 3,
     "solution": true,
     "task": false
    }
   },
   "outputs": [],
   "source": [
    "class Element:\n",
    "    def __init__(self, value):\n",
    "        self.value = value\n",
    "        self.next = None\n",
    "\n",
    "        \n",
    "class LinkedList:\n",
    "    def __init__(self):\n",
    "        self.first = None\n",
    "        self.last = None\n",
    "\n",
    "    def push(self, item):\n",
    "        temp = Element(item)\n",
    "        if self.first == None:\n",
    "            # empty list\n",
    "            self.first = temp\n",
    "            self.last = temp\n",
    "        else:\n",
    "            temp.next = self.first\n",
    "            self.first = temp\n",
    "        self.last.next = self.first\n",
    "\n",
    "    def length(self):\n",
    "        if self.first is None:\n",
    "            return 0\n",
    "        else:\n",
    "            count = 1\n",
    "            temp = self.first\n",
    "            while temp.next != self.first:\n",
    "                count += 1\n",
    "                temp = temp.next\n",
    "            return count"
   ]
  },
  {
   "cell_type": "code",
   "execution_count": 2,
   "metadata": {
    "deletable": false,
    "editable": false,
    "nbgrader": {
     "cell_type": "code",
     "checksum": "e43b62d7123951ff8fbe0c65c74a27ed",
     "grade": true,
     "grade_id": "cell-35a56152c04167c8",
     "locked": true,
     "points": 3,
     "schema_version": 3,
     "solution": false,
     "task": false
    }
   },
   "outputs": [
    {
     "name": "stdout",
     "output_type": "stream",
     "text": [
      "Length of the list: 4\n"
     ]
    }
   ],
   "source": [
    "# DO NOT REMOVE CELL\n",
    "ll = LinkedList()\n",
    "ll.push(\"toes\")\n",
    "ll.push(\"knees\")\n",
    "ll.push(\"shoulders\")\n",
    "ll.push(\"head\")\n",
    "print('Length of the list:', ll.length())"
   ]
  },
  {
   "cell_type": "code",
   "execution_count": null,
   "metadata": {},
   "outputs": [],
   "source": []
  },
  {
   "cell_type": "code",
   "execution_count": null,
   "metadata": {},
   "outputs": [],
   "source": []
  }
 ],
 "metadata": {
  "kernelspec": {
   "display_name": "Python 3",
   "language": "python",
   "name": "python3"
  },
  "language_info": {
   "codemirror_mode": {
    "name": "ipython",
    "version": 3
   },
   "file_extension": ".py",
   "mimetype": "text/x-python",
   "name": "python",
   "nbconvert_exporter": "python",
   "pygments_lexer": "ipython3",
   "version": "3.8.5"
  }
 },
 "nbformat": 4,
 "nbformat_minor": 4
}
