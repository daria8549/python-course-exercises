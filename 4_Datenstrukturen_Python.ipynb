{
 "cells": [
  {
   "cell_type": "markdown",
   "metadata": {},
   "source": [
    "# Data structures\n"
   ]
  },
  {
   "cell_type": "markdown",
   "metadata": {},
   "source": [
    "## Custom data structures\n",
    "\n",
    "Python has **primitive** built-in data structures, and **non-primitive** built-in data structures.\n",
    "\n",
    "Some of the primitive data structures include:\n",
    "* Integer\n",
    "* Float\n",
    "* Boolean\n",
    "* String\n",
    "\n",
    "In the following we will deal with non-primitive data structures. Among others, the following are built into Python:\n",
    "* (Arrays)\n",
    "* Lists\n",
    "* Tuples\n",
    "* Dictionaries\n",
    "* Sets"
   ]
  },
  {
   "cell_type": "markdown",
   "metadata": {},
   "source": [
    "## Arrays\n",
    "\n",
    "\n",
    "[Arrays in Python](https://docs.python.org/3/library/array.html) are very rarely used.\n",
    "To use arrays, they must be implemented with the `array` module, and must first be initialised. \n",
    "\n",
    "During initialisation, the data type to be stored in the array must be specified. Here, `i` is used to indicate that integers will be stored in this array: "
   ]
  },
  {
   "cell_type": "code",
   "execution_count": 1,
   "metadata": {},
   "outputs": [
    {
     "data": {
      "text/plain": [
       "array.array"
      ]
     },
     "execution_count": 1,
     "metadata": {},
     "output_type": "execute_result"
    }
   ],
   "source": [
    "import array as arr\n",
    "a = arr.array(\"i\",[3,6,-3])\n",
    "type(a)"
   ]
  },
  {
   "cell_type": "markdown",
   "metadata": {},
   "source": [
    "See [Python documentation](https://docs.python.org/3/library/array.html) for more information on array functionality."
   ]
  },
  {
   "cell_type": "markdown",
   "metadata": {},
   "source": [
    "## Lists\n",
    "\n",
    "Lists are used in Python to store values of any data type in a certain order. A list can be recognised by the square brackets `[` and `]` that enclose the elements of the list; the individual values are separated by a comma `,`."
   ]
  },
  {
   "cell_type": "code",
   "execution_count": 2,
   "metadata": {},
   "outputs": [
    {
     "data": {
      "text/plain": [
       "list"
      ]
     },
     "execution_count": 2,
     "metadata": {},
     "output_type": "execute_result"
    }
   ],
   "source": [
    "x = [] # Empty list\n",
    "type(x)"
   ]
  },
  {
   "cell_type": "code",
   "execution_count": 3,
   "metadata": {},
   "outputs": [
    {
     "data": {
      "text/plain": [
       "list"
      ]
     },
     "execution_count": 3,
     "metadata": {},
     "output_type": "execute_result"
    }
   ],
   "source": [
    "x1 = [1,2,3]\n",
    "type(x1)"
   ]
  },
  {
   "cell_type": "markdown",
   "metadata": {},
   "source": [
    "The individual elements of the list can be accessed via the position (*index*). The first position has index `0`."
   ]
  },
  {
   "cell_type": "code",
   "execution_count": 4,
   "metadata": {
    "scrolled": true
   },
   "outputs": [
    {
     "name": "stdout",
     "output_type": "stream",
     "text": [
      "apple\n"
     ]
    }
   ],
   "source": [
    "x2 = list([1,'apple',3])\n",
    "print(x2[1])"
   ]
  },
  {
   "cell_type": "markdown",
   "metadata": {},
   "source": [
    "With `append` elements can be appended to the end of the list. With `insert` elements can be inserted at a specific position."
   ]
  },
  {
   "cell_type": "code",
   "execution_count": 5,
   "metadata": {},
   "outputs": [
    {
     "name": "stdout",
     "output_type": "stream",
     "text": [
      "[1, 'apple', 3, 'banana']\n"
     ]
    }
   ],
   "source": [
    "x2.append('banana')\n",
    "print(x2)"
   ]
  },
  {
   "cell_type": "code",
   "execution_count": 6,
   "metadata": {
    "scrolled": true
   },
   "outputs": [
    {
     "name": "stdout",
     "output_type": "stream",
     "text": [
      "['raspberry', 1, 'apple', 3, 'banana']\n"
     ]
    }
   ],
   "source": [
    "x2.insert(0, 'raspberry')\n",
    "print(x2)"
   ]
  },
  {
   "cell_type": "markdown",
   "metadata": {},
   "source": [
    "### Stacks\n",
    "\n",
    "Python lists can easily be used as stacks. See the [Python Documentation: Using Lists as Stacks](https://docs.python.org/3/tutorial/datastructures.html#using-lists-as-stacks)."
   ]
  },
  {
   "cell_type": "markdown",
   "metadata": {},
   "source": [
    "<div style=\"border:3px red solid; padding: 0px 20px 10px;\">\n",
    "    <h2 style=\"color:red\">Exercise 4</h2>\n",
    "    <li style=\"color:red\">Your function <code>correct_brackets</code> should check whether in the passed text every open bracket <code>(</code> is closed again <code>)</code>.</li>\n",
    "    <li style=\"color:red\"><b>Implement the function using a stack</b>.</li>\n",
    "    <li style=\"color:red\">The program should return True if the parentheses are correct, False otherwise.</li>\n",
    "    <li style=\"color:red\">At the end you will find text examples with which you should test your function.</li>\n",
    "</div>"
   ]
  },
  {
   "cell_type": "code",
   "execution_count": 27,
   "metadata": {},
   "outputs": [],
   "source": [
    "def correct_brackets(input_text):\n",
    "    stack = []\n",
    "    for char in input_text:\n",
    "        if char == '(':\n",
    "            stack.append(char)\n",
    "        elif char == ')':\n",
    "            if stack == []:\n",
    "                return False\n",
    "            stack.pop()       #we remove '(' from the stack to continue search\n",
    "    return len(stack) == 0\n",
    "\n"
   ]
  },
  {
   "cell_type": "code",
   "execution_count": 28,
   "metadata": {},
   "outputs": [],
   "source": [
    "text1 = \"Lorem ipsum (dolor) sit amet\"\n",
    "text2 = \"consetetur sadipscing elitr, sed (diam nonumy eirmod) tempor invidunt ut labore) et dolore magna aliquyam erat, sed diam (voluptua.\"\n",
    "text3 = \"(At vero eos et (accusam et justo duo) dolores et) ea rebum.\"\n",
    "text4 = \"Lorem ipsum (dolor sit amet, consetetur) sadipscing (elitr), sed diam nonumy eirmod tempor) invidunt ((ut labore et dolore magna aliquyam erat, sed diam voluptua). At vero eos et accusam et justo duo dolores et ea rebum.\"\n",
    "text5 = \"(Stet (clita kasd) gubergren), no sea takimata ((sanctus) est Lorem ipsum dolor() sit amet.)\"\n",
    "# These are test cases for correct_brackets:\n",
    "# If you implement the funtion correctly this will run without any errors\n",
    "assert correct_brackets(text1) == True\n",
    "assert correct_brackets(text2) == False\n",
    "assert correct_brackets(text3) == True\n",
    "assert correct_brackets(text4) == False\n",
    "assert correct_brackets(text5) == True"
   ]
  },
  {
   "cell_type": "markdown",
   "metadata": {},
   "source": [
    "### Queues\n",
    "\n",
    "Python lists can also be used simply as queues. Read the following paragraph in the [Python Documentation: Using Lists as Queues](https://docs.python.org/3/tutorial/datastructures.html#using-lists-as-queues)."
   ]
  },
  {
   "cell_type": "markdown",
   "metadata": {},
   "source": [
    "## Sets\n",
    "\n",
    "Sets are a collection of distinct/distinguishable items. They are not sorted."
   ]
  },
  {
   "cell_type": "code",
   "execution_count": 29,
   "metadata": {},
   "outputs": [
    {
     "name": "stdout",
     "output_type": "stream",
     "text": [
      "{2, 3, 5}\n"
     ]
    }
   ],
   "source": [
    "numbers = set([3, 5, 2])\n",
    "print(numbers)"
   ]
  },
  {
   "cell_type": "code",
   "execution_count": 30,
   "metadata": {},
   "outputs": [
    {
     "data": {
      "text/plain": [
       "False"
      ]
     },
     "execution_count": 30,
     "metadata": {},
     "output_type": "execute_result"
    }
   ],
   "source": [
    "4 in numbers"
   ]
  },
  {
   "cell_type": "code",
   "execution_count": 31,
   "metadata": {
    "scrolled": true
   },
   "outputs": [
    {
     "name": "stdout",
     "output_type": "stream",
     "text": [
      "{2, 3, 5}\n"
     ]
    }
   ],
   "source": [
    "# if you add a element that is already in the set it stays the same\n",
    "numbers.add(2)\n",
    "print(numbers)"
   ]
  },
  {
   "cell_type": "code",
   "execution_count": 32,
   "metadata": {},
   "outputs": [
    {
     "name": "stdout",
     "output_type": "stream",
     "text": [
      "{2, 3}\n"
     ]
    }
   ],
   "source": [
    "numbers.remove(5)\n",
    "print(numbers)"
   ]
  },
  {
   "cell_type": "markdown",
   "metadata": {},
   "source": [
    "#### Set operations\n",
    "\n",
    "Python Sets support various [set](https://en.wikipedia.org/wiki/Set_theory) operations; a list of all operations can be found in the [Python Documentation](https://docs.python.org/3/library/stdtypes.html#set)."
   ]
  },
  {
   "cell_type": "markdown",
   "metadata": {},
   "source": [
    "<div style=\"border:3px red solid; padding: 0px 20px 10px;\">\n",
    "    Given the following five quantities:  \n",
    "    \n",
    "$A = \\{ 3,5,7,12,14,17,19,23 \\}$,  \n",
    "$B = \\{ 3,5,17 \\}$,  \n",
    "$C = \\{ 12,14,17,24 \\}$,  \n",
    "$D = \\{ 5,7,19 \\}$,  \n",
    "$E = \\{ 7,12,19 \\}$\n",
    "\n",
    "<h2 style=\"color:red\">Exercise 5</h2>\n",
    "    <ul>\n",
    "        <li style=\"color:red\">Using Python Sets, calculate the quantities given below.</li>\n",
    "    </ul>\n",
    "</div>\n",
    "\n",
    "$(A \\cup B)$  \n",
    "    \n",
    "$(A \\cup B) \\cap E$  \n",
    "    \n",
    "$( D \\setminus E ) \\cup ( E \\setminus D )$  \n",
    "  \n",
    "$D \\triangle E$  \n",
    "    \n",
    "$(C \\setminus B) \\cup A$  "
   ]
  },
  {
   "cell_type": "code",
   "execution_count": 38,
   "metadata": {},
   "outputs": [
    {
     "name": "stdout",
     "output_type": "stream",
     "text": [
      "A ∪ B = {1, 2, 3, 4, 5, 6, 7, 8}\n",
      "(A ∪ B) ∩ E = {3, 4, 5}\n",
      "(D ∖ E) ∪ (E ∖ D) = {1, 2, 4, 5, 9, 10}\n",
      "D △ E = {1, 2, 4, 5, 9, 10}\n",
      "(C ∖ B) ∪ A = {1, 2, 3, 4, 5, 10}\n"
     ]
    }
   ],
   "source": [
    "A = {1, 2, 3, 4, 5}\n",
    "B = {4, 5, 6, 7, 8}\n",
    "C = {1, 4, 7, 10}\n",
    "D = {1, 2, 3, 9}\n",
    "E = {3, 4, 5, 10}\n",
    "\n",
    "# 1. Union: A ∪ B\n",
    "union_A_B = A.union(B)\n",
    "print(f\"A ∪ B = {union_A_B}\")\n",
    "\n",
    "# 2. Intersection of union with E: (A ∪ B) ∩ E\n",
    "intersection_union_E = union_A_B.intersection(E)\n",
    "print(f\"(A ∪ B) ∩ E = {intersection_union_E}\")\n",
    "\n",
    "# 3. Symmetric Difference: (D \\ E) ∪ (E \\ D)\n",
    "sym_diff_D_E = (D.difference(E)).union(E.difference(D))\n",
    "print(f\"(D ∖ E) ∪ (E ∖ D) = {sym_diff_D_E}\")\n",
    "\n",
    "# 4. Symmetric Difference: D △ E\n",
    "sym_diff_D_E_alt = (D.symmetric_difference(E))\n",
    "print(f\"D △ E = {sym_diff_D_E_alt}\")\n",
    "\n",
    "# 5. Union of Difference with A: (C \\ B) ∪ A\n",
    "union_diff_C_B_A = (C.difference(B)).union(A) \n",
    "print(f\"(C ∖ B) ∪ A = {union_diff_C_B_A}\")"
   ]
  },
  {
   "cell_type": "markdown",
   "metadata": {},
   "source": [
    "## Dictionaries\n",
    "\n",
    "Normal lists in Python are a set of numbered elements: If you want to access an element, you must specify its number (*index*). This number uniquely identifies the element itself. \n",
    "\n",
    "However, since this item number is not always ideal as an access, there are **associative arrays** as data structures that allow you to use any index type instead of a numeric index. In Python, this data structure is called **dictionary**: `dict`. \n",
    "\n",
    "As a simple example, consider the dictionary Capitals: the index is the name of the country, and the value, the name of the capital of that country:"
   ]
  },
  {
   "cell_type": "code",
   "execution_count": 46,
   "metadata": {},
   "outputs": [
    {
     "data": {
      "text/plain": [
       "dict"
      ]
     },
     "execution_count": 46,
     "metadata": {},
     "output_type": "execute_result"
    }
   ],
   "source": [
    "# create an empty dictionary\n",
    "capitals = dict()\n",
    "# alternatively, you can create a dictionary using { }\n",
    "# capitals = {}\n",
    "\n",
    "# add some values\n",
    "capitals['Austria'] = 'Vienna'\n",
    "capitals['Ukraine'] = 'Kiev'\n",
    "capitals['USA'] = 'Washington'\n",
    "\n",
    "type(capitals)"
   ]
  },
  {
   "cell_type": "markdown",
   "metadata": {},
   "source": [
    "Alternatively, a dictionary can be filled with values when it is created:"
   ]
  },
  {
   "cell_type": "code",
   "execution_count": 47,
   "metadata": {
    "scrolled": true
   },
   "outputs": [
    {
     "name": "stdout",
     "output_type": "stream",
     "text": [
      "{'Germany': 'Berlin', 'Ukraine': 'Kiev', 'USA': 'Washington'}\n"
     ]
    }
   ],
   "source": [
    "capitals = {\n",
    "    'Germany': 'Berlin',\n",
    "    'Ukraine': 'Kiev',\n",
    "    'USA': 'Washington'\n",
    "}\n",
    "\n",
    "print(capitals)"
   ]
  },
  {
   "cell_type": "markdown",
   "metadata": {},
   "source": [
    "To access a value, the corresponding index must be used:"
   ]
  },
  {
   "cell_type": "code",
   "execution_count": 48,
   "metadata": {},
   "outputs": [
    {
     "name": "stdout",
     "output_type": "stream",
     "text": [
      "Washington\n"
     ]
    }
   ],
   "source": [
    "if 'USA' in capitals:\n",
    "    print(capitals['USA'])"
   ]
  },
  {
   "cell_type": "markdown",
   "metadata": {},
   "source": [
    "With a `for` loop you can iterate over all keys (indices):"
   ]
  },
  {
   "cell_type": "code",
   "execution_count": 49,
   "metadata": {},
   "outputs": [
    {
     "name": "stdout",
     "output_type": "stream",
     "text": [
      "The capital of Germany is Berlin\n",
      "The capital of Ukraine is Kiev\n",
      "The capital of USA is Washington\n"
     ]
    }
   ],
   "source": [
    "for country in capitals:\n",
    "    print('The capital of ' + country + ' is ' + capitals[country])"
   ]
  },
  {
   "cell_type": "markdown",
   "metadata": {},
   "source": [
    "You can find a tutorial and further examples [here](https://www.snakify.org/de/lessons/dictionaries_dicts/)."
   ]
  },
  {
   "cell_type": "markdown",
   "metadata": {},
   "source": [
    "<div style=\"border:3px red solid; padding: 0px 20px 10px;\">\n",
    "    <h2 style=\"color:red\">Optional Exercise 6</h2>\n",
    "    <ul>\n",
    "        <li style=\"color:red\">Python dictionaries use the same structure as the <a href=\"https://en.wikipedia.org/wiki/JSON\">JSON data format</a>. That's why using JSON <a href=\"https://en.wikipedia.org/wiki/API\">APIs</a> - interfaces to retrieve structured data - is very easy in Python.</li>\n",
    "        <li style=\"color:red\">In the code below, the current weather forecast for Vienna is retrieved from <a href=\"https://www.metaweather.com/de/\">metaweather.com</a> as JSON, and converted into a Python dictionary (<code>data</code>).\n",
    "    <li style=\"color:red\">Output the maximum and minimum temperature, and the corresponding date, for the coming days. See the response <code>data</code> from metaweather.com.</li>\n",
    "    </ul>\n",
    "</div>\n"
   ]
  },
  {
   "cell_type": "code",
   "execution_count": 53,
   "metadata": {},
   "outputs": [
    {
     "ename": "JSONDecodeError",
     "evalue": "Expecting value: line 1 column 1 (char 0)",
     "output_type": "error",
     "traceback": [
      "\u001b[0;31m---------------------------------------------------------------------------\u001b[0m",
      "\u001b[0;31mJSONDecodeError\u001b[0m                           Traceback (most recent call last)",
      "\u001b[0;32m<ipython-input-53-0902d57c0f44>\u001b[0m in \u001b[0;36m<module>\u001b[0;34m\u001b[0m\n\u001b[1;32m      3\u001b[0m \u001b[0murl\u001b[0m \u001b[0;34m=\u001b[0m \u001b[0;34m\"https://www.meteosource.com/\"\u001b[0m\u001b[0;34m\u001b[0m\u001b[0;34m\u001b[0m\u001b[0m\n\u001b[1;32m      4\u001b[0m \u001b[0mresponse\u001b[0m \u001b[0;34m=\u001b[0m \u001b[0mrequests\u001b[0m\u001b[0;34m.\u001b[0m\u001b[0mget\u001b[0m\u001b[0;34m(\u001b[0m\u001b[0murl\u001b[0m\u001b[0;34m)\u001b[0m\u001b[0;34m\u001b[0m\u001b[0;34m\u001b[0m\u001b[0m\n\u001b[0;32m----> 5\u001b[0;31m \u001b[0mdata\u001b[0m \u001b[0;34m=\u001b[0m \u001b[0mresponse\u001b[0m\u001b[0;34m.\u001b[0m\u001b[0mjson\u001b[0m\u001b[0;34m(\u001b[0m\u001b[0;34m)\u001b[0m\u001b[0;34m\u001b[0m\u001b[0;34m\u001b[0m\u001b[0m\n\u001b[0m\u001b[1;32m      6\u001b[0m \u001b[0mprint\u001b[0m\u001b[0;34m(\u001b[0m\u001b[0mdata\u001b[0m\u001b[0;34m[\u001b[0m\u001b[0;34m'title'\u001b[0m\u001b[0;34m]\u001b[0m\u001b[0;34m)\u001b[0m\u001b[0;34m\u001b[0m\u001b[0;34m\u001b[0m\u001b[0m\n",
      "\u001b[0;32m/opt/conda/lib/python3.8/site-packages/requests/models.py\u001b[0m in \u001b[0;36mjson\u001b[0;34m(self, **kwargs)\u001b[0m\n\u001b[1;32m    896\u001b[0m                     \u001b[0;31m# used.\u001b[0m\u001b[0;34m\u001b[0m\u001b[0;34m\u001b[0m\u001b[0;34m\u001b[0m\u001b[0m\n\u001b[1;32m    897\u001b[0m                     \u001b[0;32mpass\u001b[0m\u001b[0;34m\u001b[0m\u001b[0;34m\u001b[0m\u001b[0m\n\u001b[0;32m--> 898\u001b[0;31m         \u001b[0;32mreturn\u001b[0m \u001b[0mcomplexjson\u001b[0m\u001b[0;34m.\u001b[0m\u001b[0mloads\u001b[0m\u001b[0;34m(\u001b[0m\u001b[0mself\u001b[0m\u001b[0;34m.\u001b[0m\u001b[0mtext\u001b[0m\u001b[0;34m,\u001b[0m \u001b[0;34m**\u001b[0m\u001b[0mkwargs\u001b[0m\u001b[0;34m)\u001b[0m\u001b[0;34m\u001b[0m\u001b[0;34m\u001b[0m\u001b[0m\n\u001b[0m\u001b[1;32m    899\u001b[0m \u001b[0;34m\u001b[0m\u001b[0m\n\u001b[1;32m    900\u001b[0m     \u001b[0;34m@\u001b[0m\u001b[0mproperty\u001b[0m\u001b[0;34m\u001b[0m\u001b[0;34m\u001b[0m\u001b[0m\n",
      "\u001b[0;32m/opt/conda/lib/python3.8/json/__init__.py\u001b[0m in \u001b[0;36mloads\u001b[0;34m(s, cls, object_hook, parse_float, parse_int, parse_constant, object_pairs_hook, **kw)\u001b[0m\n\u001b[1;32m    355\u001b[0m             \u001b[0mparse_int\u001b[0m \u001b[0;32mis\u001b[0m \u001b[0;32mNone\u001b[0m \u001b[0;32mand\u001b[0m \u001b[0mparse_float\u001b[0m \u001b[0;32mis\u001b[0m \u001b[0;32mNone\u001b[0m \u001b[0;32mand\u001b[0m\u001b[0;34m\u001b[0m\u001b[0;34m\u001b[0m\u001b[0m\n\u001b[1;32m    356\u001b[0m             parse_constant is None and object_pairs_hook is None and not kw):\n\u001b[0;32m--> 357\u001b[0;31m         \u001b[0;32mreturn\u001b[0m \u001b[0m_default_decoder\u001b[0m\u001b[0;34m.\u001b[0m\u001b[0mdecode\u001b[0m\u001b[0;34m(\u001b[0m\u001b[0ms\u001b[0m\u001b[0;34m)\u001b[0m\u001b[0;34m\u001b[0m\u001b[0;34m\u001b[0m\u001b[0m\n\u001b[0m\u001b[1;32m    358\u001b[0m     \u001b[0;32mif\u001b[0m \u001b[0mcls\u001b[0m \u001b[0;32mis\u001b[0m \u001b[0;32mNone\u001b[0m\u001b[0;34m:\u001b[0m\u001b[0;34m\u001b[0m\u001b[0;34m\u001b[0m\u001b[0m\n\u001b[1;32m    359\u001b[0m         \u001b[0mcls\u001b[0m \u001b[0;34m=\u001b[0m \u001b[0mJSONDecoder\u001b[0m\u001b[0;34m\u001b[0m\u001b[0;34m\u001b[0m\u001b[0m\n",
      "\u001b[0;32m/opt/conda/lib/python3.8/json/decoder.py\u001b[0m in \u001b[0;36mdecode\u001b[0;34m(self, s, _w)\u001b[0m\n\u001b[1;32m    335\u001b[0m \u001b[0;34m\u001b[0m\u001b[0m\n\u001b[1;32m    336\u001b[0m         \"\"\"\n\u001b[0;32m--> 337\u001b[0;31m         \u001b[0mobj\u001b[0m\u001b[0;34m,\u001b[0m \u001b[0mend\u001b[0m \u001b[0;34m=\u001b[0m \u001b[0mself\u001b[0m\u001b[0;34m.\u001b[0m\u001b[0mraw_decode\u001b[0m\u001b[0;34m(\u001b[0m\u001b[0ms\u001b[0m\u001b[0;34m,\u001b[0m \u001b[0midx\u001b[0m\u001b[0;34m=\u001b[0m\u001b[0m_w\u001b[0m\u001b[0;34m(\u001b[0m\u001b[0ms\u001b[0m\u001b[0;34m,\u001b[0m \u001b[0;36m0\u001b[0m\u001b[0;34m)\u001b[0m\u001b[0;34m.\u001b[0m\u001b[0mend\u001b[0m\u001b[0;34m(\u001b[0m\u001b[0;34m)\u001b[0m\u001b[0;34m)\u001b[0m\u001b[0;34m\u001b[0m\u001b[0;34m\u001b[0m\u001b[0m\n\u001b[0m\u001b[1;32m    338\u001b[0m         \u001b[0mend\u001b[0m \u001b[0;34m=\u001b[0m \u001b[0m_w\u001b[0m\u001b[0;34m(\u001b[0m\u001b[0ms\u001b[0m\u001b[0;34m,\u001b[0m \u001b[0mend\u001b[0m\u001b[0;34m)\u001b[0m\u001b[0;34m.\u001b[0m\u001b[0mend\u001b[0m\u001b[0;34m(\u001b[0m\u001b[0;34m)\u001b[0m\u001b[0;34m\u001b[0m\u001b[0;34m\u001b[0m\u001b[0m\n\u001b[1;32m    339\u001b[0m         \u001b[0;32mif\u001b[0m \u001b[0mend\u001b[0m \u001b[0;34m!=\u001b[0m \u001b[0mlen\u001b[0m\u001b[0;34m(\u001b[0m\u001b[0ms\u001b[0m\u001b[0;34m)\u001b[0m\u001b[0;34m:\u001b[0m\u001b[0;34m\u001b[0m\u001b[0;34m\u001b[0m\u001b[0m\n",
      "\u001b[0;32m/opt/conda/lib/python3.8/json/decoder.py\u001b[0m in \u001b[0;36mraw_decode\u001b[0;34m(self, s, idx)\u001b[0m\n\u001b[1;32m    353\u001b[0m             \u001b[0mobj\u001b[0m\u001b[0;34m,\u001b[0m \u001b[0mend\u001b[0m \u001b[0;34m=\u001b[0m \u001b[0mself\u001b[0m\u001b[0;34m.\u001b[0m\u001b[0mscan_once\u001b[0m\u001b[0;34m(\u001b[0m\u001b[0ms\u001b[0m\u001b[0;34m,\u001b[0m \u001b[0midx\u001b[0m\u001b[0;34m)\u001b[0m\u001b[0;34m\u001b[0m\u001b[0;34m\u001b[0m\u001b[0m\n\u001b[1;32m    354\u001b[0m         \u001b[0;32mexcept\u001b[0m \u001b[0mStopIteration\u001b[0m \u001b[0;32mas\u001b[0m \u001b[0merr\u001b[0m\u001b[0;34m:\u001b[0m\u001b[0;34m\u001b[0m\u001b[0;34m\u001b[0m\u001b[0m\n\u001b[0;32m--> 355\u001b[0;31m             \u001b[0;32mraise\u001b[0m \u001b[0mJSONDecodeError\u001b[0m\u001b[0;34m(\u001b[0m\u001b[0;34m\"Expecting value\"\u001b[0m\u001b[0;34m,\u001b[0m \u001b[0ms\u001b[0m\u001b[0;34m,\u001b[0m \u001b[0merr\u001b[0m\u001b[0;34m.\u001b[0m\u001b[0mvalue\u001b[0m\u001b[0;34m)\u001b[0m \u001b[0;32mfrom\u001b[0m \u001b[0;32mNone\u001b[0m\u001b[0;34m\u001b[0m\u001b[0;34m\u001b[0m\u001b[0m\n\u001b[0m\u001b[1;32m    356\u001b[0m         \u001b[0;32mreturn\u001b[0m \u001b[0mobj\u001b[0m\u001b[0;34m,\u001b[0m \u001b[0mend\u001b[0m\u001b[0;34m\u001b[0m\u001b[0;34m\u001b[0m\u001b[0m\n",
      "\u001b[0;31mJSONDecodeError\u001b[0m: Expecting value: line 1 column 1 (char 0)"
     ]
    }
   ],
   "source": [
    "import requests\n",
    "# 551801 is the code for Vienna\n",
    "url = \"https://www.meteosource.com/\"\n",
    "response = requests.get(url)\n",
    "data = response.json()\n",
    "print(data['title'])"
   ]
  },
  {
   "cell_type": "code",
   "execution_count": null,
   "metadata": {},
   "outputs": [],
   "source": [
    "# Exercise 6: your code here"
   ]
  }
 ],
 "metadata": {
  "kernelspec": {
   "display_name": "Python 3",
   "language": "python",
   "name": "python3"
  },
  "language_info": {
   "codemirror_mode": {
    "name": "ipython",
    "version": 3
   },
   "file_extension": ".py",
   "mimetype": "text/x-python",
   "name": "python",
   "nbconvert_exporter": "python",
   "pygments_lexer": "ipython3",
   "version": "3.8.5"
  }
 },
 "nbformat": 4,
 "nbformat_minor": 4
}
