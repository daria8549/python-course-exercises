{
 "cells": [
  {
   "cell_type": "markdown",
   "metadata": {
    "deletable": false,
    "editable": false,
    "id": "SRtFpTQHYsKf",
    "nbgrader": {
     "cell_type": "markdown",
     "checksum": "5bb1653cd31fa3c30e323b7a49a50c3c",
     "grade": false,
     "grade_id": "cell-7eaeeec79db08b65",
     "locked": true,
     "schema_version": 3,
     "solution": false,
     "task": false
    }
   },
   "source": [
    "# Task 1"
   ]
  },
  {
   "cell_type": "code",
   "execution_count": null,
   "metadata": {
    "deletable": false,
    "editable": false,
    "id": "yT7tLGF6Ylqb",
    "nbgrader": {
     "cell_type": "code",
     "checksum": "b093ffb7a87fcc4fa0cb707eff0a7ab1",
     "grade": false,
     "grade_id": "cell-318c38bac4c0bea7",
     "locked": true,
     "schema_version": 3,
     "solution": false,
     "task": false
    }
   },
   "outputs": [],
   "source": [
    "phoneBook = [{'fname': 'Sophia', 'lname': 'Thorarensen', 'number': '06508641036'},\n",
    " {'fname': 'Emma', 'lname': 'Blöndal', 'number': '06504228512'},\n",
    " {'fname': 'Olivia', 'lname': 'Thorarensen', 'number': '06501126965'},\n",
    " {'fname': 'Ava', 'lname': 'Hansen', 'number': '06762858077'},\n",
    " {'fname': 'Isabella', 'lname': 'Olsen', 'number': '06801324090'},\n",
    " {'fname': 'Evelyn', 'lname': 'Bergmann', 'number': '06805592151'},\n",
    " {'fname': 'Charlotte', 'lname': 'Andersen', 'number': '06762229010'},\n",
    " {'fname': 'Liam', 'lname': 'Briem', 'number': '06767141082'},\n",
    " {'fname': 'Oliver', 'lname': 'Briem', 'number': '06802647719'},\n",
    " {'fname': 'Noah', 'lname': 'Thorlacius', 'number': '06805539375'},\n",
    " {'fname': 'William', 'lname': 'Jensen', 'number': '06765392663'},\n",
    " {'fname': 'James', 'lname': 'Hjaltalín', 'number': '06508393585'},\n",
    " {'fname': 'Oliver', 'lname': 'Scheving', 'number': '06769395459'},\n",
    " {'fname': 'Benjamin', 'lname': 'Petersen', 'number': '06505619735'},\n",
    " {'fname': 'Sophia', 'lname': 'Andersen', 'number': '06763080277'},\n",
    " {'fname': 'Charlotte', 'lname': 'Petersen', 'number': '06766619175'},\n",
    " {'fname': 'Mia', 'lname': 'Möller', 'number': '06802090547'},\n",
    " {'fname': 'Amelia', 'lname': 'Nielsen', 'number': '06765209564'},\n",
    " {'fname': 'Mia', 'lname': 'Waage', 'number': '06802348806'},\n",
    " {'fname': 'Elijah', 'lname': 'Kvaran', 'number': '06507279982'},\n",
    " {'fname': 'Logan', 'lname': 'Jensen', 'number': '06508886974'},\n",
    " {'fname': 'Logan', 'lname': 'Fjeldsted', 'number': '06763174139'},\n",
    " {'fname': 'Lucas', 'lname': 'Norddahl', 'number': '06768229218'},\n",
    " {'fname': 'Mason', 'lname': 'Berndsen', 'number': '06807930516'}]"
   ]
  },
  {
   "cell_type": "markdown",
   "metadata": {
    "deletable": false,
    "editable": false,
    "id": "H28S31Z7Ylqe",
    "nbgrader": {
     "cell_type": "markdown",
     "checksum": "3fd43aa5c2e5e97870b2408d48600808",
     "grade": false,
     "grade_id": "cell-2eaae6dc3a5e3c96",
     "locked": true,
     "schema_version": 3,
     "solution": false,
     "task": false
    }
   },
   "source": [
    "Answer the following questions by setting the variables `a_x` to `True` or `False`?\n",
    "\n",
    "**Q1**: What is the datatype of the value `'06508641036'`? (Mark the true statement) \\\n",
    "a_1: It is an integer. \\\n",
    "b_1:  It is a float. \\\n",
    "c_1: It is a string.\n",
    "\n",
    "**Q2**: Which of the statements about the above `phoneBook` is true and false, respectively? \\\n",
    "a_2: `phoneBook` is a list of dictionaries. \\\n",
    "b_2: `phoneBook` is a dictionary of lists. \\\n",
    "c_2: `phoneBook` is a list of variables. \n",
    "\n",
    "**Q3**: What is `fname` in ? \\\n",
    "a_3: It is a key in the dictionary. \\\n",
    "b_3:  It is a value in the list. \\\n",
    "c_3: It is a dictionary nested in another dictionary.\n",
    "\n",
    "**Q4**: Which of the statements about dictionaries are true and false? \\\n",
    "a_4: A dictionary can contain another dictionary. \\\n",
    "b_4: A dictionary can also contain a list, and vice versa. \\\n",
    "c_4: Dictionaries can contain duplicate keys with different values."
   ]
  },
  {
   "cell_type": "code",
   "execution_count": null,
   "metadata": {
    "deletable": false,
    "id": "u59bo4JcYlqe",
    "nbgrader": {
     "cell_type": "code",
     "checksum": "df3acf112c081a42c869d4412d0e25a9",
     "grade": false,
     "grade_id": "cell-c765ccb826f3ed59",
     "locked": false,
     "schema_version": 3,
     "solution": true,
     "task": false
    }
   },
   "outputs": [],
   "source": [
    "# Q1:\n",
    "a_1 = True\n",
    "b_1 = False\n",
    "c_1 = False\n",
    "# Q2:\n",
    "a_2 = False\n",
    "b_2 = True or False\n",
    "c_2 = True or False\n",
    "# Q3:\n",
    "a_3 = True\n",
    "b_3 = False\n",
    "c_3 = False\n",
    "# Q4:\n",
    "a_4 = True or False\n",
    "b_4 = True or False\n",
    "c_4 = True or False\n",
    "\n",
    "# REMOVE THE FOLLOWING LINE \"raise NotImplementedError()\" IN YOUR SUBMISSION\n",
    "# YOUR CODE HERE\n",
    "raise NotImplementedError()"
   ]
  },
  {
   "cell_type": "code",
   "execution_count": null,
   "metadata": {
    "deletable": false,
    "editable": false,
    "id": "RO78HUa8Ylqe",
    "nbgrader": {
     "cell_type": "code",
     "checksum": "5116134a81d7600c114bec1f0b24fa2e",
     "grade": true,
     "grade_id": "cell-4d9dd51d44af3e42",
     "locked": true,
     "points": 0.5,
     "schema_version": 3,
     "solution": false,
     "task": false
    },
    "outputId": "f7aab081-c0e0-48cb-f9b4-5f8eb2f622d3"
   },
   "outputs": [],
   "source": [
    "# DO NOT REMOVE CELL"
   ]
  },
  {
   "cell_type": "code",
   "execution_count": null,
   "metadata": {
    "deletable": false,
    "editable": false,
    "nbgrader": {
     "cell_type": "code",
     "checksum": "58fbea36d9f09af208ea9350e657e2b3",
     "grade": true,
     "grade_id": "cell-7ce85c5b37a56e6a",
     "locked": true,
     "points": 0.5,
     "schema_version": 3,
     "solution": false,
     "task": false
    }
   },
   "outputs": [],
   "source": [
    "# DO NOT REMOVE CELL"
   ]
  },
  {
   "cell_type": "code",
   "execution_count": null,
   "metadata": {
    "deletable": false,
    "editable": false,
    "nbgrader": {
     "cell_type": "code",
     "checksum": "de1a33aa911c1406a31a710e4b66534e",
     "grade": true,
     "grade_id": "cell-0b117afe5de66c9b",
     "locked": true,
     "points": 0.5,
     "schema_version": 3,
     "solution": false,
     "task": false
    }
   },
   "outputs": [],
   "source": [
    "# DO NOT REMOVE CELL"
   ]
  },
  {
   "cell_type": "code",
   "execution_count": null,
   "metadata": {
    "deletable": false,
    "editable": false,
    "nbgrader": {
     "cell_type": "code",
     "checksum": "8ca21f57607486097a154ae2e34c872b",
     "grade": true,
     "grade_id": "cell-90500a671ae52c05",
     "locked": true,
     "points": 0.5,
     "schema_version": 3,
     "solution": false,
     "task": false
    }
   },
   "outputs": [],
   "source": [
    "# DO NOT REMOVE CELL"
   ]
  },
  {
   "cell_type": "markdown",
   "metadata": {
    "deletable": false,
    "editable": false,
    "id": "r60Y42LeYlqk",
    "nbgrader": {
     "cell_type": "markdown",
     "checksum": "cf1fbfe2e3c0c91b5958ba4b6550011c",
     "grade": false,
     "grade_id": "cell-5a5bdefe1eec45bd",
     "locked": true,
     "schema_version": 3,
     "solution": false,
     "task": false
    }
   },
   "source": [
    "# Task 2\n",
    "\n",
    "In this task you will use an existing sorting algorithm to sort lists of different length. By measuring the time it takes to sort the list you have to empirically prove the runtime complexity of a sorting algortihm. <br>\n",
    "\n",
    "<span style=\"color:indianred\">Carefully read the examples:  You will not have to implement the sorting algorithm yourself but rather use the provided functions and examples to come up with a solution. </span>\n",
    "\n",
    "This step-by-step should give you an idea on how to this can be solved. \n",
    "\n",
    "1. Select an sorting algorithm that was discussed in the lecture and is available from the sorting library. \n",
    "1. Create a list filled with random integer values and specified length `n`.\n",
    "1. Measure the time it takes to sort the random list. \n",
    "1. Repeat step 2. and 3. with different list lengths. Make sure to select sensible array lengths and not bruteforce all possible combinations. \n",
    "1. Plot the results for all list lengths. It is expected that one can clearly see the mathematical function the complexity is following.\n",
    "1. As an alternative to 5. you can also compute the growth rate at each step.\n",
    "\n",
    "It is expected that you experiment is repeatable. Re-running your solution has to yield similar results. <br>\n",
    "<span style=\"color:indianred\"> Do not record and compute sorting times manually. </span>"
   ]
  },
  {
   "cell_type": "markdown",
   "metadata": {
    "deletable": false,
    "editable": false,
    "id": "rod2I_rLY2V6",
    "nbgrader": {
     "cell_type": "markdown",
     "checksum": "1ef8d3cec3bf5e0fb0ab8eb07d09e48c",
     "grade": false,
     "grade_id": "cell-86ec2c424f6a2de0",
     "locked": true,
     "schema_version": 3,
     "solution": false,
     "task": false
    }
   },
   "source": [
    "<span style=\"color:red\"> EXECUTE THE CELL BELOW BEFORE CONTINUING <span>"
   ]
  },
  {
   "cell_type": "code",
   "execution_count": null,
   "metadata": {
    "colab": {
     "base_uri": "https://localhost:8080/",
     "height": 617
    },
    "deletable": false,
    "editable": false,
    "id": "VNf17C_VYlql",
    "nbgrader": {
     "cell_type": "code",
     "checksum": "022ab4cfa8312e5aeb35bfd830e4f6fa",
     "grade": false,
     "grade_id": "cell-af713301c124818c",
     "locked": true,
     "schema_version": 3,
     "solution": false,
     "task": false
    },
    "outputId": "4edf4d8f-46db-452e-eb03-487354bbc77f"
   },
   "outputs": [],
   "source": [
    "# EXECUTE THIS CELL BEFORE CONTINUING\n",
    "!pip install sorting seaborn\n",
    "\n",
    "import sorting\n",
    "import random\n",
    "import seaborn as sns\n",
    "import time\n",
    "\n",
    "def get_random_list(length_list):\n",
    "    \"\"\"\n",
    "    Returns a list with random number of length  `length_list\n",
    "    \"\"\"\n",
    "    random_list = list()\n",
    "    upper_bound = 100_000\n",
    "    lower_bound = 1\n",
    "    \n",
    "    for i in range(length_list):\n",
    "        random_list.append(random.randint(lower_bound, upper_bound))\n",
    "    \n",
    "    return random_list\n",
    "\n",
    "def plot_sorting_times(sorting_times_results, algorithm_name):\n",
    "    array_lengths = [ x['list_length'] for x in sorting_times_results]\n",
    "    sorting_times = [ x['sorting_time'] for x in sorting_times_results]\n",
    "    sns.lineplot(x=array_lengths, y=sorting_times).set(title=algorithm_name)"
   ]
  },
  {
   "cell_type": "markdown",
   "metadata": {
    "deletable": false,
    "editable": false,
    "id": "olG1RhPnYlqm",
    "nbgrader": {
     "cell_type": "markdown",
     "checksum": "bd37cbe0ea085689d080d226b306bc3f",
     "grade": false,
     "grade_id": "cell-f2a845e24dd49963",
     "locked": true,
     "schema_version": 3,
     "solution": false,
     "task": false
    }
   },
   "source": [
    "### Example 1: Generating Random Lists and Sorting It\n",
    "\n",
    "In this example we are using the sorting library (https://pypi.org/project/sorting/). <br>\n",
    "Follow the link, in the usage section is a code listing which shows all available algorithms. An additional example which uses the bubble sort can be found in the cell below. "
   ]
  },
  {
   "cell_type": "code",
   "execution_count": null,
   "metadata": {
    "deletable": false,
    "editable": false,
    "id": "PWpvYXx7Ylqm",
    "nbgrader": {
     "cell_type": "code",
     "checksum": "e414f4acac2c6833ef665a24601c1b5a",
     "grade": false,
     "grade_id": "cell-56666fb5acf2a672",
     "locked": true,
     "schema_version": 3,
     "solution": false,
     "task": false
    },
    "outputId": "8003af8f-8bb8-4ec1-c3d0-8f30629b4343"
   },
   "outputs": [],
   "source": [
    "# Generate a random list using the function \"get_random_list\"\n",
    "my_random_list = get_random_list(10)\n",
    "print(\"Random list\")\n",
    "print(my_random_list)\n",
    "\n",
    "# Now we sort the list using bubble sort \n",
    "my_sorted_list = sorting.bubble(my_random_list)\n",
    "print(\"Sorted list\")\n",
    "print(my_sorted_list)"
   ]
  },
  {
   "cell_type": "markdown",
   "metadata": {
    "deletable": false,
    "editable": false,
    "id": "vEWebuk4Ylqm",
    "nbgrader": {
     "cell_type": "markdown",
     "checksum": "e49ff6aba4a2e44c894a817fbe2f9911",
     "grade": false,
     "grade_id": "cell-0e684afd5b25c7c3",
     "locked": true,
     "schema_version": 3,
     "solution": false,
     "task": false
    }
   },
   "source": [
    "### Example 2: Measuring time\n",
    "We want to measure time it takes to execute a function call. For this purpose we are taking the time before the function call and after the function call. By subtracting the time difference we get the time it took to execute the code. "
   ]
  },
  {
   "cell_type": "code",
   "execution_count": null,
   "metadata": {
    "deletable": false,
    "editable": false,
    "id": "S3vmlxMkYlqm",
    "nbgrader": {
     "cell_type": "code",
     "checksum": "ef5c2d1377ca796a572ee56d590853b8",
     "grade": false,
     "grade_id": "cell-7175ad55b20ab697",
     "locked": true,
     "schema_version": 3,
     "solution": false,
     "task": false
    },
    "outputId": "7250bb99-b5c3-409d-cbf9-8361ea511758"
   },
   "outputs": [],
   "source": [
    "start_time = time.perf_counter()\n",
    "# Function that blocks for one second\n",
    "time.sleep(1)\n",
    "end_time = time.perf_counter()\n",
    "\n",
    "# Compute difference\n",
    "time_difference = end_time - start_time\n",
    "\n",
    "# Should plot approx. 1\n",
    "print(time_difference)"
   ]
  },
  {
   "cell_type": "markdown",
   "metadata": {
    "deletable": false,
    "editable": false,
    "id": "Cql38prCYlqn",
    "nbgrader": {
     "cell_type": "markdown",
     "checksum": "e3023181ce2515ef8a5d857ba89e04c8",
     "grade": false,
     "grade_id": "cell-1600503c73172584",
     "locked": true,
     "schema_version": 3,
     "solution": false,
     "task": false
    }
   },
   "source": [
    "### Example 3: Create a list of dictionaries\n",
    "\n",
    "You will have to programatically create a list of dictionaries. "
   ]
  },
  {
   "cell_type": "code",
   "execution_count": null,
   "metadata": {
    "deletable": false,
    "editable": false,
    "id": "zSzMiIP7Ylqn",
    "nbgrader": {
     "cell_type": "code",
     "checksum": "f03bab0865ffee829cc603d9c32fd387",
     "grade": false,
     "grade_id": "cell-0d4d72ef316c5d31",
     "locked": true,
     "schema_version": 3,
     "solution": false,
     "task": false
    },
    "outputId": "f69bd20a-486e-4e08-9988-2af2b953843b"
   },
   "outputs": [],
   "source": [
    "my_results_example = list()\n",
    "\n",
    "for i in range(1, 10, 2):\n",
    "    my_results_example.append({\n",
    "        'example_key_1': i,\n",
    "        'example_key_2': i*i\n",
    "    })\n",
    "    \n",
    "my_results_example"
   ]
  },
  {
   "cell_type": "markdown",
   "metadata": {
    "deletable": false,
    "editable": false,
    "id": "z0w36KEsYlqn",
    "nbgrader": {
     "cell_type": "markdown",
     "checksum": "345a50796630270646e5909337dc2c40",
     "grade": false,
     "grade_id": "cell-33678e04a0687238",
     "locked": true,
     "schema_version": 3,
     "solution": false,
     "task": false
    }
   },
   "source": [
    "### Example 4: Plotting the data\n",
    "The datastructure is a list containing dictionaries with two keys. The key `array_length` describes the length of the array that was sorted and the key `sorting_time` describes the time it took to sort the array. \n",
    "\n",
    "Pass the list of dictionaries and the parameter `algorithm_name`, which is the title of the plot, to the function `plot_sorting_times` which will plot graph for you. "
   ]
  },
  {
   "cell_type": "code",
   "execution_count": null,
   "metadata": {
    "deletable": false,
    "editable": false,
    "id": "8j3YW3w5Ylqo",
    "nbgrader": {
     "cell_type": "code",
     "checksum": "878f49bca6abc5075c5560017274b0c7",
     "grade": false,
     "grade_id": "cell-053eaac23dda2d89",
     "locked": true,
     "schema_version": 3,
     "solution": false,
     "task": false
    },
    "outputId": "de21457f-7b06-4bc5-c6b8-6529bc48e2f1"
   },
   "outputs": [],
   "source": [
    "example_sorting_results = [\n",
    "    {'list_length': 100, 'sorting_time': 100},\n",
    "    {'list_length': 1000, 'sorting_time': 200},\n",
    "    {'list_length': 10000, 'sorting_time': 500},\n",
    "    {'list_length': 100000, 'sorting_time': 1000},\n",
    "    {'list_length': 200000, 'sorting_time': 1200},\n",
    "]\n",
    "\n",
    "plot_sorting_times(example_sorting_results, \"Example Sort\")"
   ]
  },
  {
   "cell_type": "markdown",
   "metadata": {
    "deletable": false,
    "editable": false,
    "nbgrader": {
     "cell_type": "markdown",
     "checksum": "991f64ad84be08ab1082e903e807d12e",
     "grade": false,
     "grade_id": "cell-68b6ba6fabcdfec8",
     "locked": true,
     "schema_version": 3,
     "solution": false,
     "task": false
    }
   },
   "source": [
    "## Your Solution Starts Here\n",
    "The implementation of your solution starts from here.\n",
    "\n",
    "It is possible that your solution spans multiple cells"
   ]
  },
  {
   "cell_type": "code",
   "execution_count": null,
   "metadata": {
    "deletable": false,
    "id": "YswGg341Ylqo",
    "nbgrader": {
     "cell_type": "code",
     "checksum": "e45eb704c7ddaebfb4c38ba0fdd9d36f",
     "grade": true,
     "grade_id": "cell-6014e0fed342fd45",
     "locked": false,
     "points": 8,
     "schema_version": 3,
     "solution": true,
     "task": false
    }
   },
   "outputs": [],
   "source": [
    "# YOUR CODE HERE\n",
    "raise NotImplementedError()"
   ]
  }
 ],
 "metadata": {
  "colab": {
   "collapsed_sections": [],
   "provenance": []
  },
  "kernelspec": {
   "display_name": "Python 3",
   "language": "python",
   "name": "python3"
  },
  "language_info": {
   "codemirror_mode": {
    "name": "ipython",
    "version": 3
   },
   "file_extension": ".py",
   "mimetype": "text/x-python",
   "name": "python",
   "nbconvert_exporter": "python",
   "pygments_lexer": "ipython3",
   "version": "3.8.5"
  },
  "vscode": {
   "interpreter": {
    "hash": "da181bd79ccbfbcbb24bc21ca0c51ec7edcb283eb344f427c5c1ba2a9a8edf06"
   }
  }
 },
 "nbformat": 4,
 "nbformat_minor": 4
}
