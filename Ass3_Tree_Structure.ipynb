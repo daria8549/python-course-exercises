{
 "cells": [
  {
   "cell_type": "markdown",
   "metadata": {
    "deletable": false,
    "editable": false,
    "nbgrader": {
     "cell_type": "markdown",
     "checksum": "10553f8bc0ef975389da612504279eb1",
     "grade": false,
     "grade_id": "cell-290fcb3e7ca3a759",
     "locked": true,
     "schema_version": 3,
     "solution": false,
     "task": false
    }
   },
   "source": [
    "## Assignment 3 (Group)\n",
    "\n",
    "For this task, you must first place the `data.txt` file from MyLearn in your Jupyter environment; this must be placed in the same directory as this notebook."
   ]
  },
  {
   "cell_type": "markdown",
   "metadata": {
    "deletable": false,
    "editable": false,
    "nbgrader": {
     "cell_type": "markdown",
     "checksum": "f82e04a5580422738d2484bb8743e0e8",
     "grade": false,
     "grade_id": "cell-8b243548eb247cb5",
     "locked": true,
     "schema_version": 3,
     "solution": false,
     "task": false
    }
   },
   "source": [
    "With the following lines of programme code, a class `Person` is created. A person is described by a name, its gender, and a list in which the children of this person are stored (again as Person objects)."
   ]
  },
  {
   "cell_type": "code",
   "execution_count": 2,
   "metadata": {
    "deletable": false,
    "editable": false,
    "nbgrader": {
     "cell_type": "code",
     "checksum": "d3ec169d64279eae0f5f81b999a211fb",
     "grade": false,
     "grade_id": "cell-4ce45641585ff719",
     "locked": true,
     "schema_version": 3,
     "solution": false,
     "task": false
    }
   },
   "outputs": [],
   "source": [
    "class Person:\n",
    "    def __init__(self, name, sex):\n",
    "        self.name = name\n",
    "        self.sex = sex\n",
    "        self.children = []"
   ]
  },
  {
   "cell_type": "markdown",
   "metadata": {
    "deletable": false,
    "editable": false,
    "nbgrader": {
     "cell_type": "markdown",
     "checksum": "0b11f7fdf4909de421e43595fb06132c",
     "grade": false,
     "grade_id": "cell-7b1cdfde4134f5b5",
     "locked": true,
     "schema_version": 3,
     "solution": false,
     "task": false
    }
   },
   "source": [
    "Here, a series of people and their relationship (`parentOf`) are read from the file `data.txt`. These are stored in the dictionary `familyTrees`:\n",
    "\n",
    "$ familyTrees := \\{jan \\rightarrow \\{name \\rightarrow jan,  sex \\rightarrow male, children \\rightarrow [...],  ...\\} $\n"
   ]
  },
  {
   "cell_type": "code",
   "execution_count": 3,
   "metadata": {
    "deletable": false,
    "editable": false,
    "nbgrader": {
     "cell_type": "code",
     "checksum": "b7d3df657181956156fbc6982720670a",
     "grade": false,
     "grade_id": "cell-f04a050cbfe19bb2",
     "locked": true,
     "schema_version": 3,
     "solution": false,
     "task": false
    }
   },
   "outputs": [],
   "source": [
    "familyTrees = {}\n",
    "names = []\n",
    "\n",
    "# In a first iteration, we add all people\n",
    "with open('data.txt') as f:\n",
    "    for row in f:\n",
    "        if row.startswith('female'):\n",
    "            name = row[row.index('(')+1:row.index(')')]\n",
    "            familyTrees[name] = Person(name, 'female')\n",
    "        elif row.startswith('male'):\n",
    "            name = row[row.index('(')+1:row.index(')')]\n",
    "            familyTrees[name] = Person(name, 'male')\n",
    "            \n",
    "\n",
    "# In another iteration, we add all children \n",
    "with open('data.txt') as f:\n",
    "    for row in f:\n",
    "        if row.startswith('parentOf'):\n",
    "            line = row[row.index('(')+1:row.index(')')]\n",
    "            names = line.split(',')\n",
    "            familyTrees[names[0]].children.append(familyTrees[names[1]])"
   ]
  },
  {
   "cell_type": "code",
   "execution_count": 4,
   "metadata": {
    "deletable": false,
    "editable": false,
    "nbgrader": {
     "cell_type": "code",
     "checksum": "9b1aaa3c1ce1a2bd299473b554825f6c",
     "grade": false,
     "grade_id": "cell-4486d68792a2f640",
     "locked": true,
     "schema_version": 3,
     "solution": false,
     "task": false
    }
   },
   "outputs": [],
   "source": [
    "# Check the number of recorded people\n",
    "assert len(familyTrees) == 2000"
   ]
  },
  {
   "cell_type": "code",
   "execution_count": 5,
   "metadata": {
    "deletable": false,
    "editable": false,
    "nbgrader": {
     "cell_type": "code",
     "checksum": "1a99d2dcb0ace70449f8a1179785c6b6",
     "grade": false,
     "grade_id": "cell-75d8c2b1f513f821",
     "locked": true,
     "schema_version": 3,
     "solution": false,
     "task": false
    }
   },
   "outputs": [
    {
     "name": "stdout",
     "output_type": "stream",
     "text": [
      "Name:  jan\n",
      "Sex:  male\n",
      "Children:\n",
      "marko\n",
      "anna15\n"
     ]
    }
   ],
   "source": [
    "# access a single person in familyTrees via the name as key\n",
    "p1 = familyTrees['jan']\n",
    "\n",
    "print(\"Name: \", p1.name)\n",
    "print(\"Sex: \", p1.sex)\n",
    "print(\"Children:\")\n",
    "for p in p1.children:\n",
    "    print(p.name)"
   ]
  },
  {
   "cell_type": "markdown",
   "metadata": {
    "deletable": false,
    "editable": false,
    "nbgrader": {
     "cell_type": "markdown",
     "checksum": "899e35c423f40a8c45eb63c098ace404",
     "grade": false,
     "grade_id": "cell-536ac6c2a2b89d15",
     "locked": true,
     "schema_version": 3,
     "solution": false,
     "task": false
    }
   },
   "source": [
    "## Task 1\n",
    "\n",
    "* Calculate the maximum and average number of children in this list of people and the male/female ratio.\n",
    "* Complete the function `describe`: This function returns a list containing three `float` entries. \n",
    "    - Entry 0 contains the maximum number of children across all people in familyTrees.\n",
    "    - Entry 1 contains the average number of children over all people in familyTrees.\n",
    "    - Entry 3 contains the male/female ratio of all entries (i.e. num. of male divided by num. of female)."
   ]
  },
  {
   "cell_type": "code",
   "execution_count": 6,
   "metadata": {
    "deletable": false,
    "nbgrader": {
     "cell_type": "code",
     "checksum": "a56675a342c927280d336689137c4454",
     "grade": false,
     "grade_id": "cell-aa969e946d303154",
     "locked": false,
     "schema_version": 3,
     "solution": true,
     "task": false
    }
   },
   "outputs": [
    {
     "name": "stdout",
     "output_type": "stream",
     "text": [
      "Maximum number of children: 5\n",
      "Average number of children: 1.354\n",
      "Male/Female ratio: 1.034587995930824\n"
     ]
    }
   ],
   "source": [
    "def describe(persons):\n",
    "    total_children = 0\n",
    "    max_children = 0\n",
    "    male_count = 0\n",
    "    female_count = 0\n",
    "    \n",
    "    for person in persons.values():\n",
    "        num_children = len(person.children)\n",
    "        total_children += num_children\n",
    "        \n",
    "        if num_children > max_children:\n",
    "            max_children = num_children\n",
    "        \n",
    "        if person.sex == 'male':\n",
    "            male_count += 1\n",
    "        elif person.sex == 'female':\n",
    "            female_count += 1\n",
    "    \n",
    "        average_children = total_children / len(persons)  \n",
    "        male_female_ratio = male_count / female_count  \n",
    "        \n",
    "    return [max_children, average_children, male_female_ratio]\n",
    "\n",
    "description = describe(familyTrees)\n",
    "print(f\"Maximum number of children: {description[0]}\")\n",
    "print(f\"Average number of children: {description[1]}\")\n",
    "print(f\"Male/Female ratio: {description[2]}\")\n",
    "\n"
   ]
  },
  {
   "cell_type": "code",
   "execution_count": 108,
   "metadata": {
    "deletable": false,
    "editable": false,
    "nbgrader": {
     "cell_type": "code",
     "checksum": "e19d1519a9497512c4e5f25f420a294a",
     "grade": true,
     "grade_id": "cell-0fe079d9f3135df9",
     "locked": true,
     "points": 2,
     "schema_version": 3,
     "solution": false,
     "task": false
    }
   },
   "outputs": [],
   "source": [
    "# Do not edit this cell."
   ]
  },
  {
   "cell_type": "markdown",
   "metadata": {
    "deletable": false,
    "editable": false,
    "nbgrader": {
     "cell_type": "markdown",
     "checksum": "c2e02534047589f479e4d2cbc4cb1497",
     "grade": false,
     "grade_id": "cell-d31d10f4fc3ed547",
     "locked": true,
     "schema_version": 3,
     "solution": false,
     "task": false
    }
   },
   "source": [
    "## Task 2\n",
    "\n",
    "* What is the total number of occurrences of people with a given first name (e.g.: `\"stefan\"`) in the data?\n",
    "* Complete the function `count` below: populate a dictionary with the unique first name as the key and the number of occurrences in `familyTrees` as the value.\n",
    "* Note that the first names have numerical suffices (e.g. `\"stefan3\"`) which you should ignore in the count (`\"stefan3\"` counts as an occurrence of `\"stefan\"`)."
   ]
  },
  {
   "cell_type": "code",
   "execution_count": 7,
   "metadata": {
    "deletable": false,
    "nbgrader": {
     "cell_type": "code",
     "checksum": "13ccdda46b1f1c9c4e9a164cc8acc3e1",
     "grade": false,
     "grade_id": "cell-666f5e1175280980",
     "locked": false,
     "schema_version": 3,
     "solution": true,
     "task": false
    }
   },
   "outputs": [],
   "source": [
    "def count(persons):\n",
    "    name_counts = {}\n",
    "\n",
    "    for person in persons.values():\n",
    "        name = person.name.rstrip('1234567890') \n",
    "\n",
    "        if name in name_counts:\n",
    "            name_counts[name] += 1\n",
    "        else:\n",
    "            name_counts[name] = 1\n",
    "    \n",
    "    return name_counts"
   ]
  },
  {
   "cell_type": "code",
   "execution_count": 8,
   "metadata": {
    "deletable": false,
    "editable": false,
    "nbgrader": {
     "cell_type": "code",
     "checksum": "3948774b3bdce1ea0841dc80c7e6622d",
     "grade": true,
     "grade_id": "cell-6f5e38cd660b5dbf",
     "locked": true,
     "points": 2,
     "schema_version": 3,
     "solution": false,
     "task": false
    }
   },
   "outputs": [],
   "source": [
    "assert count(familyTrees)['stefan'] == 20\n"
   ]
  },
  {
   "cell_type": "markdown",
   "metadata": {
    "deletable": false,
    "editable": false,
    "nbgrader": {
     "cell_type": "markdown",
     "checksum": "6aaa62eb4805416569f605449a794e40",
     "grade": false,
     "grade_id": "cell-0a0bb24f77ac0fed",
     "locked": true,
     "schema_version": 3,
     "solution": false,
     "task": false
    }
   },
   "source": [
    "## Task 3\n",
    "\n",
    "* How many people are there without ancestors (*root nodes*)?\n",
    "  - Complete `findRoots`: The function returns a list of all people who have no ancestors (*person objects*).\n",
    "* Which family tree is the largest one?\n",
    "  - Complete `findLargestFamily`: The function returns the name (*string*) of the person who spans the largest family tree, i.e. has the most ancestors."
   ]
  },
  {
   "cell_type": "code",
   "execution_count": 9,
   "metadata": {
    "deletable": false,
    "nbgrader": {
     "cell_type": "code",
     "checksum": "f0f01eded6e5b4927f32ed987e83d3ad",
     "grade": false,
     "grade_id": "cell-0dabb8b2beb3d97c",
     "locked": false,
     "schema_version": 3,
     "solution": true,
     "task": false
    }
   },
   "outputs": [],
   "source": [
    "def findRoots(persons):\n",
    "    all_people = set(persons.keys())\n",
    "    children = set()\n",
    "    for person in persons.values():\n",
    "        for child in person.children:\n",
    "            children.add(child.name)\n",
    "    \n",
    "    roots = all_people - children\n",
    "    return [persons[name] for name in roots]"
   ]
  },
  {
   "cell_type": "code",
   "execution_count": 112,
   "metadata": {
    "deletable": false,
    "editable": false,
    "nbgrader": {
     "cell_type": "code",
     "checksum": "a3915f9a412326baa29400b787de4082",
     "grade": true,
     "grade_id": "cell-5277c08b19cf89fe",
     "locked": true,
     "points": 1,
     "schema_version": 3,
     "solution": false,
     "task": false
    }
   },
   "outputs": [],
   "source": [
    "# DO NOT ALTER OR DELETE THIS CELL! "
   ]
  },
  {
   "cell_type": "code",
   "execution_count": 10,
   "metadata": {
    "deletable": false,
    "nbgrader": {
     "cell_type": "code",
     "checksum": "60b8515af050b76734d18dae43ac1300",
     "grade": false,
     "grade_id": "cell-e9e8cffe1fc73c5c",
     "locked": false,
     "schema_version": 3,
     "solution": true,
     "task": false
    }
   },
   "outputs": [],
   "source": [
    "def findLargestFamily(persons):\n",
    "    def count_descendants(person):\n",
    "        count = 0\n",
    "        stack = [person]\n",
    "        while stack:\n",
    "            current_person = stack.pop()\n",
    "            count += 1\n",
    "            stack.extend(current_person.children)\n",
    "        return count\n",
    "\n",
    "    largest_family = None\n",
    "    max_descendants = 0\n",
    "    \n",
    "    for person in persons.values():\n",
    "        num_descendants = count_descendants(person)\n",
    "        if num_descendants > max_descendants:\n",
    "            max_descendants = num_descendants\n",
    "            largest_family = person.name\n",
    "    \n",
    "    return largest_family"
   ]
  },
  {
   "cell_type": "code",
   "execution_count": 11,
   "metadata": {},
   "outputs": [
    {
     "data": {
      "text/plain": [
       "'selina'"
      ]
     },
     "execution_count": 11,
     "metadata": {},
     "output_type": "execute_result"
    }
   ],
   "source": [
    "findLargestFamily(familyTrees)"
   ]
  },
  {
   "cell_type": "code",
   "execution_count": 12,
   "metadata": {
    "deletable": false,
    "editable": false,
    "nbgrader": {
     "cell_type": "code",
     "checksum": "b409a44d5155e1b97f66134db4827c5d",
     "grade": true,
     "grade_id": "cell-81d365834c912ecd",
     "locked": true,
     "points": 2,
     "schema_version": 3,
     "solution": false,
     "task": false
    }
   },
   "outputs": [],
   "source": [
    "# DO NOT ALTER OR DELETE THIS CELL! "
   ]
  },
  {
   "cell_type": "markdown",
   "metadata": {
    "deletable": false,
    "editable": false,
    "nbgrader": {
     "cell_type": "markdown",
     "checksum": "68d1fcbd01ddd62ab70346368f9bc129",
     "grade": false,
     "grade_id": "cell-0de0ec72435033b0",
     "locked": true,
     "schema_version": 3,
     "solution": false,
     "task": false
    }
   },
   "source": [
    "## Task 4\n",
    "\n",
    "* Determine the longest generation path.\n",
    "* Complete `findSinglePath` and `findLongestPath`.\n",
    "* `findSinglePath` should output the number of descendant generations of a person. \n",
    "  * If the person has no descendants, 1 is returned.\n",
    "  * If the person has descendants, > 1 is returned, i.e. increased by 1 for each generation. (i.e.: no children: 1; children: 2; grandchildren: 3 etc.)\n",
    "* `findLongestPath` returns the length of the longest generation path. "
   ]
  },
  {
   "cell_type": "code",
   "execution_count": 20,
   "metadata": {
    "deletable": false,
    "nbgrader": {
     "cell_type": "code",
     "checksum": "97338e2c71927d94329bfe982441ca0e",
     "grade": false,
     "grade_id": "cell-ccb50f87ad19849e",
     "locked": false,
     "schema_version": 3,
     "solution": true,
     "task": false
    }
   },
   "outputs": [],
   "source": [
    "def findSinglePath(p):\n",
    "    if(p.children == []):\n",
    "        return 1\n",
    "    return 1 + max(findSinglePath(child) for child in p.children)\n",
    "\n",
    "def findLongestPath(persons):\n",
    "    return max(findSinglePath(person) for person in persons.values())"
   ]
  },
  {
   "cell_type": "code",
   "execution_count": 21,
   "metadata": {
    "deletable": false,
    "editable": false,
    "nbgrader": {
     "cell_type": "code",
     "checksum": "b7e726ce029ee053f75a978c79b6ca7a",
     "grade": true,
     "grade_id": "cell-2f32ac0651d6ddd4",
     "locked": true,
     "points": 3,
     "schema_version": 3,
     "solution": false,
     "task": false
    }
   },
   "outputs": [],
   "source": [
    "# DO NOT ALTER OR DELETE THIS CELL!\n",
    "assert findSinglePath(p1) == 2"
   ]
  },
  {
   "cell_type": "code",
   "execution_count": 22,
   "metadata": {},
   "outputs": [
    {
     "name": "stdout",
     "output_type": "stream",
     "text": [
      "10\n",
      "10\n"
     ]
    }
   ],
   "source": [
    "print(findSinglePath(familyTrees['selina/']))\n",
    "print(findLongestPath(familyTrees))"
   ]
  },
  {
   "cell_type": "code",
   "execution_count": null,
   "metadata": {},
   "outputs": [],
   "source": []
  }
 ],
 "metadata": {
  "kernelspec": {
   "display_name": "Python 3",
   "language": "python",
   "name": "python3"
  },
  "language_info": {
   "codemirror_mode": {
    "name": "ipython",
    "version": 3
   },
   "file_extension": ".py",
   "mimetype": "text/x-python",
   "name": "python",
   "nbconvert_exporter": "python",
   "pygments_lexer": "ipython3",
   "version": "3.8.6"
  }
 },
 "nbformat": 4,
 "nbformat_minor": 5
}
