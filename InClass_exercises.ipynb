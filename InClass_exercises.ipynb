{
 "cells": [
  {
   "cell_type": "markdown",
   "metadata": {},
   "source": [
    "### Create a recursive algorithm to calculate the factorial of a number n:"
   ]
  },
  {
   "cell_type": "code",
   "execution_count": 4,
   "metadata": {},
   "outputs": [],
   "source": [
    "# recursion : Factorial\n",
    "\n",
    "def factorial(value):\n",
    "    if value == 0:\n",
    "        return 1\n",
    "    return value * factorial(value-1)"
   ]
  },
  {
   "cell_type": "code",
   "execution_count": 5,
   "metadata": {},
   "outputs": [
    {
     "data": {
      "text/plain": [
       "120"
      ]
     },
     "execution_count": 5,
     "metadata": {},
     "output_type": "execute_result"
    }
   ],
   "source": [
    "factorial(5)"
   ]
  },
  {
   "cell_type": "markdown",
   "metadata": {},
   "source": [
    "### Write a recursive function to calculate a^b (a raised to the power of b)."
   ]
  },
  {
   "cell_type": "code",
   "execution_count": 2,
   "metadata": {},
   "outputs": [],
   "source": [
    "def power(a,b):\n",
    "    if b == 0:\n",
    "        return 1\n",
    "    return a* power(a, b-1)"
   ]
  },
  {
   "cell_type": "code",
   "execution_count": 3,
   "metadata": {},
   "outputs": [
    {
     "data": {
      "text/plain": [
       "27"
      ]
     },
     "execution_count": 3,
     "metadata": {},
     "output_type": "execute_result"
    }
   ],
   "source": [
    "power(3,3)"
   ]
  },
  {
   "cell_type": "markdown",
   "metadata": {},
   "source": [
    "## Binary Search Trees (BST)"
   ]
  },
  {
   "cell_type": "code",
   "execution_count": null,
   "metadata": {},
   "outputs": [],
   "source": []
  },
  {
   "cell_type": "code",
   "execution_count": null,
   "metadata": {},
   "outputs": [],
   "source": [
    "class BSTNode:\n",
    "    def __init__(self,value):\n",
    "        self.value = value\n",
    "        self.left = None\n",
    "        self.right = None\n",
    "        \n",
    "        \n",
    "class BST:\n",
    "    \n",
    "    def __init__(self):\n",
    "        self.root = None\n",
    "    \n",
    "    def insert(self, value):\n",
    "        n = BSTNode(value)\n",
    "        if self.root is None:\n",
    "            self.root = n\n",
    "            return\n",
    "        it = self.root\n",
    "        while True:\n",
    "            if value > it.value:\n",
    "                if it.right is None: #higher and empty\n",
    "                    it.right = n\n",
    "                    return\n",
    "                else:\n",
    "                    it = it.right    # higher and not empty\n",
    "            else: \n",
    "                if it.left is None:\n",
    "                    n = it.left\n",
    "                    return\n",
    "                else:\n",
    "                    it = it.left\n",
    "    \n",
    "    \n",
    "    def pre_order(self, node):\n",
    "        if node is not None:\n",
    "            print(node.value, end = '->')\n",
    "            self.pre_order(node.left)\n",
    "            self.pre_order(node.right)\n",
    "    \n",
    "    def in_order(self, node):\n",
    "        if node is not None:\n",
    "            self.in_ordner(node.left)\n",
    "            print(node.value, end = '->')\n",
    "            self.in_ordner(node.right)\n",
    "    \n",
    "    def post_order(self, node):\n",
    "        if node is not None:\n",
    "            self.post_ordner(node.left)\n",
    "            self.post_ordner(node.right)\n",
    "            print(node.value, end = '->')\n",
    "    \n",
    "    def largest_value(self):\n",
    "        if self.root is None:\n",
    "            print('Empty Tree')\n",
    "            return\n",
    "        it = self.root\n",
    "        while True:\n",
    "            if it.right is None: \n",
    "                return it.value\n",
    "            it = it.right\n",
    "            \n",
    "    def height(self, node):\n",
    "        if node is None:\n",
    "            return 0\n",
    "        h_left = self.height(node.left)\n",
    "        h_right = self.height(node.right)\n",
    "        if h_left > h_right:\n",
    "            return 1 + h_left\n",
    "        return 1 + h_right\n",
    "        \n",
    "    def iterative_search(self,value):\n",
    "        pass\n",
    "    \n",
    "    def recursive_search(self,n, value):\n",
    "        pass\n",
    "        "
   ]
  },
  {
   "cell_type": "code",
   "execution_count": null,
   "metadata": {},
   "outputs": [],
   "source": []
  },
  {
   "cell_type": "code",
   "execution_count": null,
   "metadata": {},
   "outputs": [],
   "source": []
  },
  {
   "cell_type": "code",
   "execution_count": null,
   "metadata": {},
   "outputs": [],
   "source": [
    "bst = BST()\n",
    "\n",
    "bst.insert(5)\n",
    "bst.insert(3)\n",
    "bst.insert(9)\n",
    "bst.insert(1)\n",
    "bst.insert(4)\n",
    "bst.insert(7)\n",
    "bst.insert(10)"
   ]
  },
  {
   "cell_type": "code",
   "execution_count": null,
   "metadata": {},
   "outputs": [],
   "source": [
    "bst.pre_order(bst.root)"
   ]
  },
  {
   "cell_type": "code",
   "execution_count": null,
   "metadata": {},
   "outputs": [],
   "source": [
    "bst.largest_value()"
   ]
  },
  {
   "cell_type": "code",
   "execution_count": null,
   "metadata": {},
   "outputs": [],
   "source": [
    "The following key values are inserted into an empty hashtable of length (7) using the hash function h(k)= k mod 7, \n",
    "the approach for collisions is open hashing with linear probing."
   ]
  },
  {
   "cell_type": "code",
   "execution_count": null,
   "metadata": {},
   "outputs": [],
   "source": [
    "key Values: 18,28,28,20,1"
   ]
  },
  {
   "cell_type": "code",
   "execution_count": null,
   "metadata": {},
   "outputs": [],
   "source": [
    "Answer: 28,1,,,18,,20"
   ]
  },
  {
   "cell_type": "code",
   "execution_count": null,
   "metadata": {},
   "outputs": [],
   "source": []
  }
 ],
 "metadata": {
  "kernelspec": {
   "display_name": "Python 3",
   "language": "python",
   "name": "python3"
  },
  "language_info": {
   "codemirror_mode": {
    "name": "ipython",
    "version": 3
   },
   "file_extension": ".py",
   "mimetype": "text/x-python",
   "name": "python",
   "nbconvert_exporter": "python",
   "pygments_lexer": "ipython3",
   "version": "3.8.5"
  }
 },
 "nbformat": 4,
 "nbformat_minor": 4
}
