{
 "cells": [
  {
   "cell_type": "markdown",
   "metadata": {},
   "source": [
    "# Tutorial 3 - Exercises\n"
   ]
  },
  {
   "cell_type": "markdown",
   "metadata": {},
   "source": [
    "Topics:\n",
    "- How to test a function with `assert`\n",
    "- Defining classes\n",
    "- Linked lists"
   ]
  },
  {
   "cell_type": "markdown",
   "metadata": {},
   "source": [
    "## Exercise 1 - Fun with functions"
   ]
  },
  {
   "cell_type": "markdown",
   "metadata": {},
   "source": [
    "The function below should calculate the mean (average) of an array. You can use the `sum(...)` and `len(...)` functions. Watch out for empty lists, they should have the mean value $0$. Use assertions to test your function. One test case is given, write at least two more and make sure they are not too similar."
   ]
  },
  {
   "cell_type": "code",
   "execution_count": 1,
   "metadata": {},
   "outputs": [],
   "source": [
    "def mean_value(values):\n",
    "    if len(values) == 0:\n",
    "        return 0\n",
    "    return sum(values) / len(values)\n",
    "\n",
    "assert mean_value([1]) == 1\n",
    "assert mean_value([1, 2]) == 1.5\n",
    "assert mean_value([]) == 0"
   ]
  },
  {
   "cell_type": "markdown",
   "metadata": {},
   "source": [
    "## Exercise 2 - A class on classes"
   ]
  },
  {
   "cell_type": "markdown",
   "metadata": {},
   "source": [
    "There is a basic class for dates defined below. A date is composed of a year, a month and a day of the month. Your task is to extend the class by adding the following functionality:\n",
    "\n",
    "- Check whether two dates are equal by defining a method `__eq__(self, otherDate)` in the class. Dates are considered equal when the year, month and day of the month match.\n",
    "- Write a method `next_year` that returns a *new* date that is one year ahead of the current one.\n",
    "- Write tests using `assert` to check that the class works as expected."
   ]
  },
  {
   "cell_type": "code",
   "execution_count": 2,
   "metadata": {},
   "outputs": [],
   "source": [
    "class Date:    \n",
    "    def __init__(self, day, month, year):\n",
    "        self.day = day\n",
    "        self.month = month\n",
    "        self.year = year\n",
    "    \n",
    "    def __str__(self):\n",
    "        return str(self.day) + \".\" + str(self.month) + \".\" + str(self.year)\n",
    "    \n",
    "    def __eq__(self, other):\n",
    "        return self.day == other.day and self.month == other.month and self.year == other.year\n",
    "    \n",
    "    def next_year(self):\n",
    "        return Date(self.day, self.month, self.year + 1)\n",
    "\n",
    "today = Date(29, 5, 2024);\n",
    "tomorrow = Date(30, 5, 2024)\n",
    "\n",
    "assert str(today) == '29.5.2024'\n",
    "assert today == today\n",
    "assert today != tomorrow\n",
    "assert today == Date(29, 5, 2024)\n",
    "assert today.next_year() == Date(29, 5, 2025)"
   ]
  },
  {
   "cell_type": "markdown",
   "metadata": {},
   "source": [
    "## Exercise 3"
   ]
  },
  {
   "cell_type": "markdown",
   "metadata": {},
   "source": [
    "In this exercises you will implement two classes that will work together to implement a simple task manager. The tasks are stored as a linked list.\n",
    "\n",
    "Try to expand the test cases using `assert` as you add functionality.\n",
    "\n",
    "The class `Task` represents a task in the list of tasks and should contain the following fields:\n",
    "- `title` will describe the task.\n",
    "- `next` which represents the next task in the task list.\n",
    "\n",
    "The class `TaskManager` stores all tasks in a linked list. The first task is stored in a field. The class should implement the following methods:\n",
    "- `add(self, new_task)` should add the new task to the list (it does not matter where in the list).\n",
    "- `count(self)` should count how many the tasks in the list.\n",
    "- `complete(self, task_title)` should find the task with the given title and remove it from the list.\n",
    "- `reset(self)` should clear the task list (remove all items)."
   ]
  },
  {
   "cell_type": "code",
   "execution_count": 3,
   "metadata": {},
   "outputs": [],
   "source": [
    "class Task:\n",
    "    def __init__(self, title):\n",
    "        self.title = title\n",
    "        self.next = None\n",
    "    \n",
    "    def __str__(self):\n",
    "        return \"Task '\" + self.title + \"'\"\n",
    "\n",
    "class TaskManager:\n",
    "    def __init__(self):\n",
    "        self.first_task = None\n",
    "        \n",
    "    def add(self, new_task):\n",
    "        if self.first_task == None:\n",
    "            self.first_task = new_task\n",
    "        else:\n",
    "            # This adds to the front.\n",
    "            # To add to the back you loop through the tasks until you find the last one and add the new task there.\n",
    "            second_task = self.first_task\n",
    "            self.first_task = new_task\n",
    "            self.first_task.next = second_task\n",
    "            \n",
    "    def count(self):\n",
    "        counter = 0\n",
    "        task = self.first_task\n",
    "        while task != None:\n",
    "            counter += 1\n",
    "            task = task.next\n",
    "        return counter\n",
    "    \n",
    "    def complete(self, task_title):\n",
    "        # Nothing to do if list is empty\n",
    "        if self.first_task == None:\n",
    "            return\n",
    "        \n",
    "        # If the first item matches, just skip it\n",
    "        if self.first_task.title == task_title:\n",
    "            self.first_task = self.first_task.next\n",
    "            return\n",
    "        \n",
    "        # Otherwise, search through the list\n",
    "        task = self.first_task\n",
    "        while task != None and task.next != None:\n",
    "            if task.next.title == task_title:\n",
    "                task.next = task.next.next\n",
    "                return\n",
    "            task = task.next\n",
    "            \n",
    "    def reset(self):\n",
    "        self.first_task = None\n",
    "\n",
    "petACat = Task(\"Pet a cat\")\n",
    "assert str(petACat) == \"Task 'Pet a cat'\"\n",
    "\n",
    "feedACat = Task(\"Feed a cat\")\n",
    "\n",
    "tm = TaskManager()\n",
    "assert tm.count() == 0\n",
    "\n",
    "tm.add(petACat)\n",
    "assert tm.count() == 1\n",
    "assert tm.first_task == petACat\n",
    "\n",
    "tm.add(feedACat)\n",
    "assert tm.count() == 2\n",
    "assert tm.first_task == feedACat\n",
    "assert tm.first_task.next == petACat\n",
    "\n",
    "tm.complete('Pet a cat')\n",
    "assert tm.count() == 1\n",
    "assert tm.first_task == feedACat\n",
    "\n",
    "tm.reset()\n",
    "assert tm.count() == 0"
   ]
  }
 ],
 "metadata": {
  "kernelspec": {
   "display_name": "Python 3",
   "language": "python",
   "name": "python3"
  },
  "language_info": {
   "codemirror_mode": {
    "name": "ipython",
    "version": 3
   },
   "file_extension": ".py",
   "mimetype": "text/x-python",
   "name": "python",
   "nbconvert_exporter": "python",
   "pygments_lexer": "ipython3",
   "version": "3.8.5"
  }
 },
 "nbformat": 4,
 "nbformat_minor": 4
}
