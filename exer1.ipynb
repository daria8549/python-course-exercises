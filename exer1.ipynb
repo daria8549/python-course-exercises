{
 "cells": [
  {
   "cell_type": "code",
   "execution_count": 1,
   "metadata": {},
   "outputs": [],
   "source": [
    "# Import the findspark module \n",
    "import findspark\n",
    "\n",
    "# Initialize via the full spark path\n",
    "findspark.init(\"/usr/local/spark/\")\n",
    "#findspark.init(\"C:/spark/\")"
   ]
  },
  {
   "cell_type": "code",
   "execution_count": 2,
   "metadata": {},
   "outputs": [],
   "source": [
    "# Import the SparkSession module\n",
    "from pyspark.sql import SparkSession\n",
    "\n",
    "# Import the collections module\n",
    "import collections\n",
    "\n",
    "# Gets an existing :class:`SparkSession` or, if there is no existing one, creates a\n",
    "# new one based on the options set in this builder.\n",
    "spark = SparkSession.builder \\\n",
    "   .master(\"local[8]\") \\\n",
    "   .appName(\"Ratings_Homework\") \\\n",
    "   .config(\"spark.executor.memory\", \"1gb\") \\\n",
    "   .getOrCreate()\n",
    "\n",
    "# Main entry point for Spark functionality. A SparkContext represents the\n",
    "# connection to a Spark cluster, and can be used to create :class:`RDD` and\n",
    "# broadcast variables on that cluster.\n",
    "sc = spark.sparkContext\n"
   ]
  },
  {
   "cell_type": "code",
   "execution_count": 3,
   "metadata": {},
   "outputs": [],
   "source": [
    "# laod file\n",
    "lines = sc.textFile(\"./data/ratings-woheader.csv\", minPartitions=4)"
   ]
  },
  {
   "cell_type": "code",
   "execution_count": 4,
   "metadata": {},
   "outputs": [
    {
     "name": "stdout",
     "output_type": "stream",
     "text": [
      "Number of unique movieID's: 9724\n"
     ]
    }
   ],
   "source": [
    "ids = lines.map(lambda x: x.split(\",\")[1])\n",
    "result = ids.distinct().count() # distinct = unique\n",
    "print(\"Number of unique movieID's:\", result )"
   ]
  },
  {
   "cell_type": "code",
   "execution_count": 5,
   "metadata": {},
   "outputs": [
    {
     "name": "stdout",
     "output_type": "stream",
     "text": [
      "UserID ID, Number of rankings: [('414', 2698), ('599', 2478), ('474', 2108), ('448', 1864), ('274', 1346)]\n"
     ]
    }
   ],
   "source": [
    "ids = lines.map(lambda x: x.split(\",\")[0])\n",
    "result = ids.countByValue()\n",
    "sortedResults = sorted(result.items(), key = lambda item: item[1], reverse = True) [:5] #sort ordered dictionary in decending order, take first 5 keys + values\n",
    "print(\"UserID ID, Number of rankings:\",sortedResults)"
   ]
  },
  {
   "cell_type": "code",
   "execution_count": 6,
   "metadata": {},
   "outputs": [
    {
     "name": "stdout",
     "output_type": "stream",
     "text": [
      "Number of rankings per category: OrderedDict([('1', 2811), ('2', 7551), ('3', 20047), ('4', 26818), ('5', 13211)])\n"
     ]
    }
   ],
   "source": [
    "ratings = lines.map(lambda x: x.split(\",\")[2]).filter(lambda x:x.isdigit() and float(x) %1 == 0)\n",
    "result = ratings.countByValue()\n",
    "sortedResults = collections.OrderedDict(sorted(result.items()))\n",
    "print(\"Number of rankings per category:\", sortedResults)"
   ]
  },
  {
   "cell_type": "code",
   "execution_count": 7,
   "metadata": {},
   "outputs": [
    {
     "name": "stdout",
     "output_type": "stream",
     "text": [
      "Movie ID, Number of rankings: [('356', 329), ('318', 317), ('296', 307), ('593', 279), ('2571', 278)]\n",
      "Movie ID, Number of 5 Stars rankings: [('318', 153), ('296', 123), ('356', 116), ('2571', 109), ('260', 104)]\n"
     ]
    }
   ],
   "source": [
    "ids = lines.map(lambda x: x.split(\",\")[1])\n",
    "result = ids.countByValue()\n",
    "sortedResults = sorted(result.items(), key=lambda item: item[1], reverse=True)[:5]\n",
    "print(\"Movie ID, Number of rankings:\",sortedResults)\n",
    "\n",
    "ratings = lines.filter(lambda x: float(x.split(\",\")[2]) == 5.0)\n",
    "ids_5 = ratings.map(lambda x: x.split(\",\")[1])\n",
    "result = ids_5.countByValue()\n",
    "sortedResults = sorted(result.items(), key=lambda item: item[1], reverse=True)[:5]\n",
    "print(\"Movie ID, Number of 5 Stars rankings:\",sortedResults)"
   ]
  },
  {
   "cell_type": "code",
   "execution_count": null,
   "metadata": {},
   "outputs": [],
   "source": []
  }
 ],
 "metadata": {
  "kernelspec": {
   "display_name": "Python 3",
   "language": "python",
   "name": "python3"
  },
  "language_info": {
   "codemirror_mode": {
    "name": "ipython",
    "version": 3
   },
   "file_extension": ".py",
   "mimetype": "text/x-python",
   "name": "python",
   "nbconvert_exporter": "python",
   "pygments_lexer": "ipython3",
   "version": "3.8.6"
  }
 },
 "nbformat": 4,
 "nbformat_minor": 4
}
