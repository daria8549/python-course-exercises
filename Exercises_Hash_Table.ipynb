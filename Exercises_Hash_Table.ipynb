{
 "cells": [
  {
   "cell_type": "code",
   "execution_count": 1,
   "metadata": {},
   "outputs": [],
   "source": [
    "### import random\n",
    "import math\n",
    "\n",
    "file = open('students.txt', 'r')\n",
    "raw = file.readlines()\n",
    "\n",
    "data = []\n",
    "for entry in raw:\n",
    "    e = entry.split(';')\n",
    "    data.append([e[0], e[1], e[2], e[3]])\n",
    "\n",
    "def id(student):\n",
    "    hashcode = 0 \n",
    "    for char in student.name:\n",
    "        hashcode = 31 * hashcode + ord(char)\n",
    "    return hashcode\n",
    "\n",
    "def isPrime(n):\n",
    "    i = 2;\n",
    "    while i <= math.sqrt(n):\n",
    "        if n % i == 0:\n",
    "            return False\n",
    "        i += 1\n",
    "    return True\n",
    "\n",
    "def N(expected):\n",
    "    min_size = int(expected * 1.3)\n",
    "    max_size = int(expected * 1.4)\n",
    "    for i in range(min_size, max_size + 1):\n",
    "        if isPrime(i):\n",
    "            return i\n",
    "    return max_size + 1\n",
    "\n",
    "class Student:\n",
    "    def __init__(self, rY, eNr, n, m):\n",
    "        self.registrationYear = rY\n",
    "        self.enrollmentNr = eNr\n",
    "        self.name = n\n",
    "        self.major = m"
   ]
  },
  {
   "cell_type": "code",
   "execution_count": 2,
   "metadata": {},
   "outputs": [],
   "source": [
    "def add(book, s):\n",
    "    # index for the student in the hash table\n",
    "    index = id(s) % len(book)\n",
    "    \n",
    "    if book[index] is None:\n",
    "        book[index] = []\n",
    "\n",
    "    # if the student is already in the bucket\n",
    "    for student in book[index]:\n",
    "        if (student.registrationYear == s.registrationYear and \n",
    "            student.enrollmentNr == s.enrollmentNr and\n",
    "            student.name == s.name and \n",
    "            student.major == s.major):\n",
    "            return False  # student already exists\n",
    "\n",
    "    book[index].append(s)\n",
    "    return True  # student successfully added"
   ]
  },
  {
   "cell_type": "code",
   "execution_count": 3,
   "metadata": {},
   "outputs": [
    {
     "name": "stdout",
     "output_type": "stream",
     "text": [
      "Test passed successfully!\n"
     ]
    }
   ],
   "source": [
    "# test student\n",
    "example = Student(\"1932\", \"00011\", \"Max Mustermann\", \"Malerei\")\n",
    "\n",
    "test = [None] * N(5)\n",
    "\n",
    "assert add(test, example) == True\n",
    "\n",
    "index = id(example) % len(test)\n",
    "\n",
    "assert example in test[index]\n",
    "\n",
    "print(\"Test passed successfully!\")"
   ]
  },
  {
   "cell_type": "code",
   "execution_count": null,
   "metadata": {},
   "outputs": [],
   "source": []
  }
 ],
 "metadata": {
  "kernelspec": {
   "display_name": "Python 3",
   "language": "python",
   "name": "python3"
  },
  "language_info": {
   "codemirror_mode": {
    "name": "ipython",
    "version": 3
   },
   "file_extension": ".py",
   "mimetype": "text/x-python",
   "name": "python",
   "nbconvert_exporter": "python",
   "pygments_lexer": "ipython3",
   "version": "3.8.5"
  }
 },
 "nbformat": 4,
 "nbformat_minor": 4
}
