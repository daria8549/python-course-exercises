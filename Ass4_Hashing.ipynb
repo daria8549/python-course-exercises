{
 "cells": [
  {
   "cell_type": "markdown",
   "metadata": {
    "deletable": false,
    "editable": false,
    "nbgrader": {
     "cell_type": "markdown",
     "checksum": "25398da8e27cbd6d5207ef1cc9e56f7f",
     "grade": false,
     "grade_id": "cell-c086ea5839e8b025",
     "locked": true,
     "schema_version": 3,
     "solution": false,
     "task": false
    }
   },
   "source": [
    "## Assignment 4\n",
    "\n",
    "For this task, you first need to place the file `students.txt` [1] from MyLearn in your Jupyter environment; this must be placed in the same directory as this notebook. The following code block reads the data into a dynamic data structure:\n",
    "\n",
    "[1] Sh. https://matrikel.adbk.de/matrikel"
   ]
  },
  {
   "cell_type": "code",
   "execution_count": 3,
   "metadata": {
    "deletable": false,
    "editable": false,
    "nbgrader": {
     "cell_type": "code",
     "checksum": "b9d055f954cb35e85181ef0cc71b4ca9",
     "grade": false,
     "grade_id": "cell-18320a67c6138192",
     "locked": true,
     "schema_version": 3,
     "solution": false,
     "task": false
    }
   },
   "outputs": [],
   "source": [
    "import random\n",
    "import math\n",
    "\n",
    "file = open('students.txt', 'r')\n",
    "raw = file.readlines()\n",
    "\n",
    "data = []\n",
    "for entry in raw:\n",
    "    e = entry.split(';')\n",
    "    data.append([e[0], e[1], e[2], e[3]])"
   ]
  },
  {
   "cell_type": "markdown",
   "metadata": {
    "deletable": false,
    "editable": false,
    "nbgrader": {
     "cell_type": "markdown",
     "checksum": "bf9b8638dba7078a242d4293e867795c",
     "grade": false,
     "grade_id": "cell-7425e7dda74abe88",
     "locked": true,
     "schema_version": 3,
     "solution": false,
     "task": false
    }
   },
   "source": [
    "The following lines provides a class `Student`. A `Student` is described by a name, the year of enrolment, a consecutive enrolment number (`enrollmentNr`) and the field of study (`major`)."
   ]
  },
  {
   "cell_type": "code",
   "execution_count": 4,
   "metadata": {
    "deletable": false,
    "editable": false,
    "nbgrader": {
     "cell_type": "code",
     "checksum": "9bba692f751d76be4451a29e59f28d9d",
     "grade": false,
     "grade_id": "cell-491ad0e39e808f30",
     "locked": true,
     "schema_version": 3,
     "solution": false,
     "task": false
    }
   },
   "outputs": [],
   "source": [
    "class Student:\n",
    "    def __init__(self, rY, eNr, n, m):\n",
    "        self.registrationYear = rY\n",
    "        self.enrollmentNr = eNr\n",
    "        self.name = n\n",
    "        self.major = m"
   ]
  },
  {
   "cell_type": "markdown",
   "metadata": {
    "deletable": false,
    "editable": false,
    "nbgrader": {
     "cell_type": "markdown",
     "checksum": "f25bb4938800fce2b0caaa05947677b9",
     "grade": false,
     "grade_id": "cell-e4d0c60099e5c8bd",
     "locked": true,
     "schema_version": 3,
     "solution": false,
     "task": false
    }
   },
   "source": [
    "## Task 1\n",
    "\n",
    "Implement the method `id()`, which represents a unique identifier for students. This identifier is a hash code, computed from the name of the student.\n",
    "\n",
    "* To compute the hash code, implement the Java hash code function for strings from the lecture slides. \n",
    "* The resulting integer value is to be returned."
   ]
  },
  {
   "cell_type": "code",
   "execution_count": 5,
   "metadata": {
    "deletable": false,
    "nbgrader": {
     "cell_type": "code",
     "checksum": "764d0a47eafb25946add7cc8c845e9fb",
     "grade": false,
     "grade_id": "cell-3fdc74efc0a53526",
     "locked": false,
     "schema_version": 3,
     "solution": true,
     "task": false
    }
   },
   "outputs": [],
   "source": [
    "def id(student):\n",
    "    hc = 0\n",
    "\n",
    "    for ch in student.name:\n",
    "        hc = 31 * hc + ord(ch)\n",
    "\n",
    "    return int(hc)\n"
   ]
  },
  {
   "cell_type": "code",
   "execution_count": 6,
   "metadata": {
    "deletable": false,
    "editable": false,
    "nbgrader": {
     "cell_type": "code",
     "checksum": "73e357d4aa4bd55380f5aee6663f17fa",
     "grade": true,
     "grade_id": "cell-3a329ac70479c8b5",
     "locked": true,
     "points": 1,
     "schema_version": 3,
     "solution": false,
     "task": false
    }
   },
   "outputs": [],
   "source": [
    "# DO NOT ALTER OR DELETE THIS CELL! \n",
    "example = Student(\"1932\", \"00011\", \"Max Mustermann\", \"Malerei\")"
   ]
  },
  {
   "cell_type": "code",
   "execution_count": 7,
   "metadata": {},
   "outputs": [
    {
     "data": {
      "text/plain": [
       "1959631739172568543302"
      ]
     },
     "execution_count": 7,
     "metadata": {},
     "output_type": "execute_result"
    }
   ],
   "source": [
    "id(example)"
   ]
  },
  {
   "cell_type": "markdown",
   "metadata": {
    "deletable": false,
    "editable": false,
    "nbgrader": {
     "cell_type": "markdown",
     "checksum": "5b5b6c85922605e0d331851372b35c36",
     "grade": false,
     "grade_id": "cell-e31c330224cfe5ca",
     "locked": true,
     "schema_version": 3,
     "solution": false,
     "task": false
    }
   },
   "source": [
    "## Task 2a\n",
    "\n",
    "Complete the function `N()`. The task of `N()` is to determine the size of a hash table based on the following \"rules of thumb\": \n",
    "\n",
    "- The basis of the calculation is the expected maximum number of keys in the hash table: `expected`;\n",
    "- The size should be larger than this base by a factor between 1.3 (minimum) and 1.4 (maximum).\n",
    "- The size should be a prime number. Use `isPrime()` for the implementation of `N()`."
   ]
  },
  {
   "cell_type": "code",
   "execution_count": 8,
   "metadata": {
    "deletable": false,
    "editable": false,
    "nbgrader": {
     "cell_type": "code",
     "checksum": "21295267b9f5a8b332b3c4c970d7465b",
     "grade": false,
     "grade_id": "cell-b568ce2262bca37e",
     "locked": true,
     "schema_version": 3,
     "solution": false,
     "task": false
    }
   },
   "outputs": [],
   "source": [
    "def isPrime(n):\n",
    "    i = 2;\n",
    "    while i <= math.sqrt(n):\n",
    "        if n % i == 0:\n",
    "            return False\n",
    "        i += 1\n",
    "    return True"
   ]
  },
  {
   "cell_type": "code",
   "execution_count": 9,
   "metadata": {
    "deletable": false,
    "nbgrader": {
     "cell_type": "code",
     "checksum": "668d6ad306e2654f91b35ab7c2f0180f",
     "grade": false,
     "grade_id": "cell-d388af8902626ccf",
     "locked": false,
     "schema_version": 3,
     "solution": true,
     "task": false
    }
   },
   "outputs": [],
   "source": [
    "def N(expected):\n",
    "    counter = 0\n",
    "    while True:\n",
    "        if expected <= 3: #We cannot get a prime number by multiplying 1, 2 or 3 by factors between 1.3 and 1.4, but the code below doesn't catch that\n",
    "            return False\n",
    "        possible_size = int(expected * round(random.uniform(1.3,1.4),(len(str(expected))-1)))\n",
    "        counter += 1\n",
    "        if isPrime(possible_size):\n",
    "            return possible_size\n",
    "        if counter > 100000: # to ensure we don't end up in an infinite loop if we cannot find a prime number\n",
    "            return False"
   ]
  },
  {
   "cell_type": "code",
   "execution_count": 10,
   "metadata": {},
   "outputs": [
    {
     "data": {
      "text/plain": [
       "131041"
      ]
     },
     "execution_count": 10,
     "metadata": {},
     "output_type": "execute_result"
    }
   ],
   "source": [
    "N(100000)"
   ]
  },
  {
   "cell_type": "code",
   "execution_count": 11,
   "metadata": {
    "deletable": false,
    "editable": false,
    "nbgrader": {
     "cell_type": "code",
     "checksum": "e46121f648abda33e5fba7ac7b7f3c1d",
     "grade": true,
     "grade_id": "cell-09bc6d2b266f744b",
     "locked": true,
     "points": 2,
     "schema_version": 3,
     "solution": false,
     "task": false
    }
   },
   "outputs": [],
   "source": [
    "# DO NOT ALTER OR DELETE THIS CELL! \n",
    "result = N(100)\n",
    "assert result == 131 or result == 137 or result == 139"
   ]
  },
  {
   "cell_type": "markdown",
   "metadata": {
    "deletable": false,
    "editable": false,
    "jp-MarkdownHeadingCollapsed": true,
    "nbgrader": {
     "cell_type": "markdown",
     "checksum": "45b8af1b1abb7c9c015d903043be9aa5",
     "grade": false,
     "grade_id": "cell-eb78fd79e894bfed",
     "locked": true,
     "schema_version": 3,
     "solution": false,
     "task": false
    },
    "tags": []
   },
   "source": [
    "## Task 2b\n",
    "\n",
    "Complete the function `add`. The task of `add` is to add a `student` to a hash table based on the `id()`. The hash table should use Seperate Chaining (Verkettung) in `add` to handle collisions.\n",
    "\n",
    "- To do this, use the function `id()` to get a hash code.\n",
    "- Calculate the position in the array based on this hashcode.\n",
    "- Return `True` if the student was successfully inserted, `False` if it was already included."
   ]
  },
  {
   "cell_type": "code",
   "execution_count": 12,
   "metadata": {
    "deletable": false,
    "nbgrader": {
     "cell_type": "code",
     "checksum": "9427587f485525db1e435d9c859009e4",
     "grade": false,
     "grade_id": "cell-22440ee5ba056111",
     "locked": false,
     "schema_version": 3,
     "solution": true,
     "task": false
    }
   },
   "outputs": [],
   "source": [
    "def contains(book, s):\n",
    "    id_ = id(s)\n",
    "    \n",
    "    idx = id_ % len(book)\n",
    "    \n",
    "    if book[idx] != None:\n",
    "        for i in book[idx]:\n",
    "            if id(i) == id_:\n",
    "                return True\n",
    "            \n",
    "    return False\n",
    "\n",
    "\n",
    "def add(book, s):\n",
    "    if contains(book,s):\n",
    "        return False\n",
    "    \n",
    "    id_ = id(s)\n",
    "\n",
    "    idx = id_ % len(book)\n",
    "        \n",
    "    if book[idx] == None:\n",
    "        book[idx] = []\n",
    "    book[idx].append(s)\n",
    "    \n",
    "    return True"
   ]
  },
  {
   "cell_type": "code",
   "execution_count": null,
   "metadata": {},
   "outputs": [],
   "source": []
  },
  {
   "cell_type": "code",
   "execution_count": 13,
   "metadata": {
    "deletable": false,
    "editable": false,
    "nbgrader": {
     "cell_type": "code",
     "checksum": "66053c5b1cf944c813c17a7a363fbd01",
     "grade": true,
     "grade_id": "cell-2f1ad15b34926d50",
     "locked": true,
     "points": 3,
     "schema_version": 3,
     "solution": false,
     "task": false
    }
   },
   "outputs": [],
   "source": [
    "# DO NOT ALTER OR DELETE THIS CELL!\n",
    "example = Student(\"1932\", \"00011\", \"Max Mustermann\", \"Malerei\")\n",
    "test = [None] * N(5)  # we use None to indicate empty positions in the hash table\n",
    "assert add(test, example) == True\n",
    "index = id(example) % len(test)\n",
    "assert example == test[index][0]\n"
   ]
  },
  {
   "cell_type": "markdown",
   "metadata": {
    "deletable": false,
    "editable": false,
    "nbgrader": {
     "cell_type": "markdown",
     "checksum": "db7c1b42df0eacf7e76bd35ec1345a7f",
     "grade": false,
     "grade_id": "cell-5bfae0c0fe833f74",
     "locked": true,
     "schema_version": 3,
     "solution": false,
     "task": false
    }
   },
   "source": [
    "In the following code, the hash table is created and filled in `book`.\n",
    "- The size of the hash table is determined by using the function `N()`. At the beginning, the individual positions are filled with `None`.\n",
    "- The function `add` is called for all entries in `data` (i.e. the data from `students.txt`)."
   ]
  },
  {
   "cell_type": "code",
   "execution_count": 14,
   "metadata": {
    "deletable": false,
    "editable": false,
    "nbgrader": {
     "cell_type": "code",
     "checksum": "bd235d6b8ae64632bb8bcc692b2c95f5",
     "grade": false,
     "grade_id": "cell-5ed69ef5f09a722f",
     "locked": true,
     "schema_version": 3,
     "solution": false,
     "task": false
    }
   },
   "outputs": [],
   "source": [
    "book = [None] * N(len(data))\n",
    "for entry in data:\n",
    "    if entry != None and len(entry) == 4:  # test if the current entry is a valid student\n",
    "        student = Student(entry[0].strip(), entry[1].strip(), entry[2].strip(), entry[3].strip())\n",
    "        add(book, student)"
   ]
  },
  {
   "cell_type": "code",
   "execution_count": null,
   "metadata": {},
   "outputs": [],
   "source": []
  },
  {
   "cell_type": "markdown",
   "metadata": {
    "deletable": false,
    "editable": false,
    "nbgrader": {
     "cell_type": "markdown",
     "checksum": "929b88034cc73aaaf114275b0085d774",
     "grade": false,
     "grade_id": "cell-3ac790a4ef7e8f7e",
     "locked": true,
     "schema_version": 3,
     "solution": false,
     "task": false
    }
   },
   "source": [
    "## Task 2c\n",
    "\n",
    "Complete the function `get`. \n",
    "- The return value is the searched `student`.\n",
    "- If the student you are looking for cannot be found in the hash table passed, `null` is returned."
   ]
  },
  {
   "cell_type": "code",
   "execution_count": 15,
   "metadata": {
    "deletable": false,
    "nbgrader": {
     "cell_type": "code",
     "checksum": "343e9ec6ee1cbee19836b4ff92554899",
     "grade": false,
     "grade_id": "cell-c44ba821455c6a5b",
     "locked": false,
     "schema_version": 3,
     "solution": true,
     "task": false
    }
   },
   "outputs": [],
   "source": [
    "def get(HT, sId):\n",
    "    \n",
    "    idx = sId % len(HT)\n",
    "    \n",
    "    if HT[idx] != None:\n",
    "        for student in HT[idx]:\n",
    "            if id(student) == sId:\n",
    "                return student\n",
    "            \n",
    "    return None"
   ]
  },
  {
   "cell_type": "code",
   "execution_count": 16,
   "metadata": {
    "deletable": false,
    "editable": false,
    "nbgrader": {
     "cell_type": "code",
     "checksum": "6f3c6234f680723918e384fb7c5fa2d1",
     "grade": true,
     "grade_id": "cell-ec93638cbbacfb10",
     "locked": true,
     "points": 3,
     "schema_version": 3,
     "solution": false,
     "task": false
    }
   },
   "outputs": [],
   "source": [
    "# DO NOT ALTER OR DELETE THIS CELL!\n",
    "\n",
    "test_student = Student(\"1820\", \"00569\", \"Franz Fidel Herz\", \"Malerei\")\n",
    "test_id = id(test_student)\n",
    "assert get(book, test_id).name == \"Franz Fidel Herz\"\n",
    "\n",
    "# test a random student which should not be included\n",
    "test_student = Student(\"1820\", \"00569\", \"Franz Fidel Hofer\", \"Malerei\")\n",
    "assert get(book, id(test_student)) == None\n"
   ]
  },
  {
   "cell_type": "markdown",
   "metadata": {
    "deletable": false,
    "editable": false,
    "nbgrader": {
     "cell_type": "markdown",
     "checksum": "79c487aa14d28a4b949e4a77fe124b80",
     "grade": false,
     "grade_id": "cell-4dc38081b6761087",
     "locked": true,
     "schema_version": 3,
     "solution": false,
     "task": false
    }
   },
   "source": [
    "## Task 2d\n",
    "\n",
    "Compute the **load factor** of the hash table. The load factor is defined as `n_used_slots / n_total_slots`.\n",
    "\n",
    "- Complete the function `get_load_factor()`\n",
    "- The return value is a float.\n",
    "\n",
    "Note:\n",
    "* Having a load factor of 1 just describes the ideal situation for a well-implemented hash table using Separate Chaining collision handling: no slots are left empty. Having all slots filled corresponds to a load factor of 1.\n",
    "* A load factor < 1 means that there are empty slots and items had to be added to a list in another slot, increasing the number of list traversal operations and wasting some memory.\n",
    "* For instance, if all items collide and occupy just one single slot, the effective load factor would be 0.01 (if table size is 100) and performance would be heavily impacted. "
   ]
  },
  {
   "cell_type": "code",
   "execution_count": 17,
   "metadata": {
    "deletable": false,
    "nbgrader": {
     "cell_type": "code",
     "checksum": "d2ffbb4e5f09c3dc0ec80245bc8eb07b",
     "grade": false,
     "grade_id": "cell-829ecfb14316dd8e",
     "locked": false,
     "schema_version": 3,
     "solution": true,
     "task": false
    }
   },
   "outputs": [],
   "source": [
    "def get_load_factor(book):\n",
    "    n_used_slots = 0\n",
    "    for student in book:\n",
    "        if student != None:\n",
    "            n_used_slots += 1\n",
    "    \n",
    "    return float(n_used_slots/len(book))"
   ]
  },
  {
   "cell_type": "code",
   "execution_count": 18,
   "metadata": {
    "deletable": false,
    "editable": false,
    "nbgrader": {
     "cell_type": "code",
     "checksum": "c23f47cea3fb9613777c3d945a120e79",
     "grade": true,
     "grade_id": "cell-9d512fd18af7e7c4",
     "locked": true,
     "points": 1,
     "schema_version": 3,
     "solution": false,
     "task": false
    }
   },
   "outputs": [],
   "source": [
    "# DO NOT ALTER OR DELETE THIS CELL!\n",
    "\n",
    "# Load factor calculated\n",
    "book = [None] * N(len(data))\n",
    "for entry in data:\n",
    "    if entry != None and len(entry) == 4:  # test if the current entry is a valid student\n",
    "        student = Student(entry[0].strip(), entry[1].strip(), entry[2].strip(), entry[3].strip())\n",
    "        add(book, student)\n",
    "\n",
    "loadFactor = get_load_factor(book)\n",
    "assert loadFactor < 0.6 and loadFactor > 0.5"
   ]
  },
  {
   "cell_type": "code",
   "execution_count": null,
   "metadata": {},
   "outputs": [],
   "source": []
  }
 ],
 "metadata": {
  "kernelspec": {
   "display_name": "Python 3",
   "language": "python",
   "name": "python3"
  },
  "language_info": {
   "codemirror_mode": {
    "name": "ipython",
    "version": 3
   },
   "file_extension": ".py",
   "mimetype": "text/x-python",
   "name": "python",
   "nbconvert_exporter": "python",
   "pygments_lexer": "ipython3",
   "version": "3.8.5"
  }
 },
 "nbformat": 4,
 "nbformat_minor": 4
}
