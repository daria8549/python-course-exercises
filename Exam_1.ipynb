{
 "cells": [
  {
   "cell_type": "code",
   "execution_count": 1,
   "metadata": {},
   "outputs": [],
   "source": [
    "def find_local_maxima(lst):\n",
    "    local_maxima = []\n",
    "    for i in range(1, len(lst) - 1):\n",
    "            if lst[i] >= lst[i - 1] and lst[i] >= lst[i + 1]:\n",
    "                local_maxima.append(lst[i])\n",
    "\n",
    "            if lst[0] >= lst[1]:\n",
    "                local_maxima.append(lst[0])\n",
    "            if lst[-1] >= lst[-2]:\n",
    "                local_maxima.append(lst[-1])\n",
    "            return local_maxima"
   ]
  },
  {
   "cell_type": "code",
   "execution_count": 2,
   "metadata": {},
   "outputs": [
    {
     "data": {
      "text/plain": [
       "[42, 30]"
      ]
     },
     "execution_count": 2,
     "metadata": {},
     "output_type": "execute_result"
    }
   ],
   "source": [
    "I = [36, 42, 24, 18, 12, 6, 24, 30]\n",
    "find_local_maxima(I)"
   ]
  },
  {
   "cell_type": "code",
   "execution_count": 3,
   "metadata": {},
   "outputs": [],
   "source": [
    "class ListItem:\n",
    "    def __init__(self, data):\n",
    "        self.data = data\n",
    "        self.next = None\n",
    "\n",
    "class LinkedList:\n",
    "    def __init__(self):\n",
    "        self.first = None\n",
    "        \n",
    "    def print_all(self):\n",
    "        p = self.first\n",
    "        print('[', end='')\n",
    "        if self.first:\n",
    "            while p.next:\n",
    "                print(p.data, end=', ')\n",
    "                p = p.next\n",
    "            print(p.data, end='')\n",
    "        print(']')\n",
    "  \n",
    "    def add(self, value):\n",
    "        item = ListItem(value)\n",
    "        if self.first:\n",
    "            p = self.first\n",
    "            while p.next:\n",
    "                p = p.next\n",
    "            p.next = item\n",
    "        else:\n",
    "            self.first = item\n",
    "\n",
    "    def pop(self):\n",
    "        if self.first is None:\n",
    "            print('List is empty')\n",
    "            return False\n",
    "        else:\n",
    "            old_first = self.first\n",
    "            self.first = self.first.next\n",
    "            return old_first.data\n",
    "        \n",
    "\n",
    "    def check_if_strings(self):\n",
    "        current = self.first\n",
    "        while current is not None:\n",
    "            if type(current.data) != str:\n",
    "                return False\n",
    "            current = current.next\n",
    "        return True\n",
    "  "
   ]
  },
  {
   "cell_type": "code",
   "execution_count": 4,
   "metadata": {},
   "outputs": [
    {
     "name": "stdout",
     "output_type": "stream",
     "text": [
      "[Harry, Hermione, Ron]\n",
      "[Hermione, Ron]\n"
     ]
    }
   ],
   "source": [
    "ll = LinkedList()\n",
    "ll.add(\"Harry\")\n",
    "ll.add(\"Hermione\")\n",
    "ll.add(\"Ron\")\n",
    "ll.print_all()\n",
    "assert ll.pop() == \"Harry\"\n",
    "ll.print_all()\n",
    "assert ll.check_if_strings() == True"
   ]
  },
  {
   "cell_type": "code",
   "execution_count": 5,
   "metadata": {},
   "outputs": [],
   "source": [
    "class Book:\n",
    "    def __init__(self, title, author):\n",
    "        self.title = title\n",
    "        self.author = author\n",
    "        self.left = None\n",
    "        self.right = None\n",
    "\n",
    "class BinarySearchTree:\n",
    "    def __init__(self):\n",
    "        self.root = None\n",
    "\n",
    "    \n",
    "    def find(self, title):\n",
    "        current_node = self.root\n",
    "        while current_node is not None:\n",
    "            if title == current_node.title:\n",
    "                return current_node\n",
    "            elif title < current_node.title:\n",
    "                current_node = current_node.left\n",
    "            else:\n",
    "                current_node = current_node.right\n",
    "        return None\n",
    "  \n",
    "\n",
    "    def all_books_by_author(self, author):\n",
    "        books = []\n",
    "        stack = []\n",
    "        current_node = self.root\n",
    "        \n",
    "        while current_node or stack:\n",
    "            while current_node:\n",
    "                stack.append(current_node)\n",
    "                current_node = current_node.left\n",
    "            \n",
    "            current_node = stack.pop()\n",
    "            if current_node.author == author:\n",
    "                books.append(current_node.title)\n",
    "            \n",
    "            current_node = current_node.right\n",
    "        \n",
    "        return books\n",
    "\n",
    "    def insert(self, title, author):\n",
    "        b = Book(title, author)\n",
    "        self.root = self.rec_insert(self.root, b)\n",
    "  \n",
    "    def rec_insert(self, n, b):\n",
    "        if n == None:\n",
    "            return b\n",
    "        if b.title < n.title:\n",
    "            n.left = self.rec_insert(n.left, b)\n",
    "        else:\n",
    "            n.right = self.rec_insert(n.right, b)\n",
    "        return n\n",
    "  "
   ]
  },
  {
   "cell_type": "code",
   "execution_count": 6,
   "metadata": {},
   "outputs": [],
   "source": [
    "library = BinarySearchTree()\n",
    "library.insert(\"Burmese Days\", \"George Orwell\")\n",
    "library.insert(\"Pride and Prejudice\", \"Jane Austen\")\n",
    "library.insert(\"The Catcher in the Rye\", \"J.D. Salinger\")\n",
    "library.insert(\"Animal Farm\", \"George Orwell\")\n",
    "library.insert(\"Franny and Zooey\", \"J.D. Salinger\")\n",
    "library.insert(\"1984\", \"George Orwell\")\n",
    "assert library.find(\"Moby-Dick\") == None\n",
    "assert len(library.all_books_by_author(\"J.D. Salinger\")) == 2\n"
   ]
  },
  {
   "cell_type": "code",
   "execution_count": 7,
   "metadata": {},
   "outputs": [],
   "source": [
    "class Book:\n",
    "    def __init__(self, title, author):\n",
    "        self.title = title\n",
    "        self.author = author\n",
    "        self.left = None\n",
    "        self.right = None\n",
    "\n",
    "class BinarySearchTree:\n",
    "    def __init__(self):\n",
    "        self.root = None\n",
    "\n",
    "    \n",
    "    def find(self, title):\n",
    "        current_node = self.root\n",
    "        while current_node is not None:\n",
    "            if title == current_node.title:\n",
    "                return current_node\n",
    "            elif title < current_node.title:\n",
    "                current_node = current_node.left\n",
    "            else:\n",
    "                current_node = current_node.right\n",
    "        return None\n",
    "    \n",
    "    def all_books_by_author(self, author):\n",
    "        books = []\n",
    "        self._collect_books_by_author(self.root, author, books)\n",
    "        return books\n",
    "\n",
    "    def _collect_books_by_author(self, node, author, books):\n",
    "        if node is None:\n",
    "            return\n",
    "        if node.author == author:\n",
    "            books.append(node.title)\n",
    "        self._collect_books_by_author(node.left, author, books)\n",
    "        self._collect_books_by_author(node.right, author, books)\n",
    "    \n",
    "    def insert(self, title, author):\n",
    "        b = Book(title, author)\n",
    "        self.root = self.rec_insert(self.root, b)\n",
    "  \n",
    "    def rec_insert(self, n, b):\n",
    "        if n == None:\n",
    "            return b\n",
    "        if b.title < n.title:\n",
    "            n.left = self.rec_insert(n.left, b)\n",
    "        else:\n",
    "            n.right = self.rec_insert(n.right, b)\n",
    "        return n"
   ]
  },
  {
   "cell_type": "code",
   "execution_count": 8,
   "metadata": {},
   "outputs": [],
   "source": [
    "library = BinarySearchTree()\n",
    "library.insert(\"Burmese Days\", \"George Orwell\")\n",
    "library.insert(\"Pride and Prejudice\", \"Jane Austen\")\n",
    "library.insert(\"The Catcher in the Rye\", \"J.D. Salinger\")\n",
    "library.insert(\"Animal Farm\", \"George Orwell\")\n",
    "library.insert(\"Franny and Zooey\", \"J.D. Salinger\")\n",
    "library.insert(\"1984\", \"George Orwell\")\n",
    "assert library.find(\"Moby-Dick\") == None\n",
    "assert len(library.all_books_by_author(\"J.D. Salinger\")) == 2"
   ]
  },
  {
   "cell_type": "code",
   "execution_count": null,
   "metadata": {},
   "outputs": [],
   "source": []
  },
  {
   "cell_type": "code",
   "execution_count": 9,
   "metadata": {},
   "outputs": [],
   "source": [
    "# Class Tree contains a root node and the functions\n",
    "# It uses the class node\n",
    "class Node(object):\n",
    "    def __init__(self, value):\n",
    "        self.value = value\n",
    "        self.left = None\n",
    "        self.right = None \n",
    "        \n",
    "class Tree:\n",
    "    def __init__(self):\n",
    "        self.root = None\n",
    "\n",
    "    def add_node(self, node, value): # Add function\n",
    "        if (self.root != None):\n",
    "            if (node.value == value):\n",
    "                print (\"Can't add same value twice!\")\n",
    "                return False\n",
    "            elif (value < node.value):\n",
    "                if (node.left == None):\n",
    "                    node.left = Node(value)\n",
    "                else:\n",
    "                    self.add_node(node.left, value)\n",
    "            else:\n",
    "                if (node.right == None):\n",
    "                    node.right = Node(value)\n",
    "                else:\n",
    "                    self.add_node(node.right, value)\n",
    "        else:\n",
    "            self.root = Node(value)\n",
    "        return True\n",
    "\n",
    "\n",
    "    def search(self, node, value): # Search function\n",
    "        # Returns the node that contains the value or False if the tree doesn't contain the value\n",
    "        if (node.value == value):\n",
    "            return node\n",
    "        elif (value < node.value and node.left != None):\n",
    "            return self.search(node.left, value)\n",
    "        elif (value > node.value and node.right != None):\n",
    "            return self.search(node.right, value)\n",
    "        return False\n",
    "\n",
    "    def depth(self, node):\n",
    "        if (node == None):\n",
    "            return 0\n",
    "        else:\n",
    "            leftDepth = self.depth(node.left)\n",
    "            rightDepth = self.depth(node.right)\n",
    "\n",
    "            if (leftDepth > rightDepth):\n",
    "                return leftDepth + 1\n",
    "            else:\n",
    "                return rightDepth + 1\n",
    "\n",
    "    def minValueNode(self, node):\n",
    "        current = node\n",
    "        while (current.left is not None):\n",
    "            current = current.left\n",
    "        return current\n",
    "            \n",
    "    def delete_node(self, node, value):\n",
    "        if(node is None):\n",
    "            return node\n",
    "        if (value > node.value):\n",
    "            node.right = self.delete_node(node.right, value)\n",
    "        \n",
    "        elif (value < node.value):\n",
    "            node.left = self.delete_node(node.left, value)\n",
    "        else:\n",
    "            if (node.right is None):\n",
    "                temp = node.left\n",
    "                node = None\n",
    "                return temp\n",
    "            \n",
    "            elif (node.left is None):\n",
    "                temp = node.right\n",
    "                node = None\n",
    "                return temp\n",
    "            temp = self.minValueNode(node.right)\n",
    "            node.value = temp.value\n",
    "            node.right = self.delete_node(node.right, temp.value)\n",
    "        return node\n",
    "            \n",
    "    def printInorder(self, node): # Inorder traversing as explained above\n",
    "        if (node != None):\n",
    "            self.printInorder(node.left)\n",
    "            print(node.value)\n",
    "            self.printInorder(node.right)\n",
    "\n",
    "    def printPreorder(self, node): # Preorder traversing as explained above\n",
    "        if (node != None):\n",
    "            print(node.value)\n",
    "            self.printPreorder(node.left)\n",
    "            self.printPreorder(node.right)\n",
    "\n",
    "    def printPostorder(self, node): # Postorder traversing as explained above\n",
    "        if (node != None):\n",
    "            self.printPostorder(node.left)\n",
    "            self.printPostorder(node.right)\n",
    "            print(node.value)"
   ]
  },
  {
   "cell_type": "code",
   "execution_count": 10,
   "metadata": {},
   "outputs": [
    {
     "data": {
      "text/plain": [
       "True"
      ]
     },
     "execution_count": 10,
     "metadata": {},
     "output_type": "execute_result"
    }
   ],
   "source": [
    "binaryTree = Tree()\n",
    "\n",
    "binaryTree.add_node(binaryTree.root, 'Selim') # root is always the startpoint here\n",
    "binaryTree.add_node(binaryTree.root, 'Emma')\n",
    "binaryTree.add_node(binaryTree.root, 'Ximena')\n",
    "binaryTree.add_node(binaryTree.root, 'Anar')\n",
    "binaryTree.add_node(binaryTree.root, 'Reza')\n",
    "binaryTree.add_node(binaryTree.root, 'Chiahao')\n",
    "binaryTree.add_node(binaryTree.root, 'Helma')\n",
    "binaryTree.add_node(binaryTree.root, 'Mira')\n",
    "binaryTree.add_node(binaryTree.root, 'Nur')\n",
    "binaryTree.add_node(binaryTree.root, 'Ya-ting')\n"
   ]
  },
  {
   "cell_type": "code",
   "execution_count": 11,
   "metadata": {},
   "outputs": [
    {
     "name": "stdout",
     "output_type": "stream",
     "text": [
      "Chiahao\n",
      "Anar\n",
      "Nur\n",
      "Mira\n",
      "Helma\n",
      "Reza\n",
      "Emma\n",
      "Ya-ting\n",
      "Ximena\n",
      "Selim\n"
     ]
    }
   ],
   "source": [
    "binaryTree.printPostorder(binaryTree.root)"
   ]
  },
  {
   "cell_type": "code",
   "execution_count": 12,
   "metadata": {},
   "outputs": [
    {
     "data": {
      "text/plain": [
       "<__main__.Node at 0x7f400c1c1df0>"
      ]
     },
     "execution_count": 12,
     "metadata": {},
     "output_type": "execute_result"
    }
   ],
   "source": [
    "binaryTree.delete_node(binaryTree.root, 'Anar')"
   ]
  },
  {
   "cell_type": "code",
   "execution_count": 13,
   "metadata": {},
   "outputs": [
    {
     "name": "stdout",
     "output_type": "stream",
     "text": [
      "Chiahao\n",
      "Emma\n",
      "Helma\n",
      "Mira\n",
      "Nur\n",
      "Reza\n",
      "Selim\n",
      "Ximena\n",
      "Ya-ting\n"
     ]
    }
   ],
   "source": [
    "binaryTree.printInorder(binaryTree.root)"
   ]
  },
  {
   "cell_type": "code",
   "execution_count": 14,
   "metadata": {},
   "outputs": [
    {
     "name": "stdout",
     "output_type": "stream",
     "text": [
      "Chiahao\n",
      "Emma\n",
      "Helma\n",
      "Mira\n",
      "Nur\n",
      "Reza\n",
      "Ximena\n",
      "Ya-ting\n"
     ]
    }
   ],
   "source": [
    "binaryTree.delete_node(binaryTree.root, 'Selim')\n",
    "binaryTree.printInorder(binaryTree.root)"
   ]
  },
  {
   "cell_type": "code",
   "execution_count": null,
   "metadata": {},
   "outputs": [],
   "source": []
  }
 ],
 "metadata": {
  "kernelspec": {
   "display_name": "Python 3",
   "language": "python",
   "name": "python3"
  },
  "language_info": {
   "codemirror_mode": {
    "name": "ipython",
    "version": 3
   },
   "file_extension": ".py",
   "mimetype": "text/x-python",
   "name": "python",
   "nbconvert_exporter": "python",
   "pygments_lexer": "ipython3",
   "version": "3.8.5"
  }
 },
 "nbformat": 4,
 "nbformat_minor": 4
}
