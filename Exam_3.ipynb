{
 "cells": [
  {
   "cell_type": "code",
   "execution_count": 1,
   "metadata": {},
   "outputs": [
    {
     "name": "stdout",
     "output_type": "stream",
     "text": [
      "Iteration 0: [35, 8, 10, 53, 2, 7, 23, 1]\n",
      "Iteration 1: [1, 8, 10, 53, 2, 7, 23, 35]\n",
      "Iteration 2: [1, 2, 10, 53, 8, 7, 23, 35]\n",
      "Iteration 3: [1, 2, 7, 53, 8, 10, 23, 35]\n",
      "Iteration 4: [1, 2, 7, 8, 53, 10, 23, 35]\n",
      "Iteration 5: [1, 2, 7, 8, 10, 53, 23, 35]\n",
      "Iteration 6: [1, 2, 7, 8, 10, 23, 53, 35]\n",
      "Iteration 7: [1, 2, 7, 8, 10, 23, 35, 53]\n",
      "Sorted array:[1, 2, 7, 8, 10, 23, 35, 53]\n"
     ]
    }
   ],
   "source": [
    "ary = [35,8,10,53,2,7,23,1]\n",
    "\n",
    "def selectionSort(ary):\n",
    "    for i in range(len(ary)):\n",
    "        print(\"Iteration {i}: {ary}\".\n",
    "              format(i = i, ary = ary)) # remove # for detailed informations\n",
    "        min_index = i\n",
    "        for j in range(i + 1, len(ary)):\n",
    "            if (ary[min_index] > ary[j]):\n",
    "                min_index = j\n",
    "        tmp = ary[i]\n",
    "        ary[i] = ary[min_index]\n",
    "        ary[min_index] = tmp\n",
    "\n",
    "selectionSort(ary)\n",
    "print(\"Sorted array:{ary}\".format(ary = ary))"
   ]
  },
  {
   "cell_type": "code",
   "execution_count": 2,
   "metadata": {},
   "outputs": [
    {
     "name": "stdout",
     "output_type": "stream",
     "text": [
      "Iteration 1: [35, 8, 10, 53, 2, 7, 23, 1]\n",
      "Iteration 2: [35, 8, 10, 53, 2, 7, 23, 1]\n",
      "Iteration 3: [35, 10, 8, 53, 2, 7, 23, 1]\n",
      "Iteration 4: [53, 35, 10, 8, 2, 7, 23, 1]\n",
      "Iteration 5: [53, 35, 10, 8, 2, 7, 23, 1]\n",
      "Iteration 6: [53, 35, 10, 8, 7, 2, 23, 1]\n",
      "Iteration 7: [53, 35, 23, 10, 8, 7, 2, 1]\n",
      "Sorted array:[53, 35, 23, 10, 8, 7, 2, 1]\n"
     ]
    }
   ],
   "source": [
    "ary = [35,8,10,53,2,7,23,1]\n",
    "\n",
    "def insertionSort(ary):\n",
    "    for i in range(1, len(ary)):\n",
    "        print(\"Iteration {i}: {ary}\".\n",
    "              format(i = i, ary = ary)) # remove # for detailed informations\n",
    "        value = ary[i]\n",
    "        j = i - 1\n",
    "        while j >= 0 and value > ary[j]:\n",
    "            ary[j + 1] = ary[j]\n",
    "            j -= 1\n",
    "        ary[j + 1] = value\n",
    "insertionSort(ary)\n",
    "print(\"Sorted array:{ary}\".format(ary = ary))"
   ]
  },
  {
   "cell_type": "code",
   "execution_count": 3,
   "metadata": {},
   "outputs": [
    {
     "name": "stdout",
     "output_type": "stream",
     "text": [
      "4\n"
     ]
    }
   ],
   "source": [
    "print(4%7)"
   ]
  },
  {
   "cell_type": "code",
   "execution_count": 4,
   "metadata": {},
   "outputs": [],
   "source": [
    "# Class Node only contains a value and placeholder for additional nodes\n",
    "# Most of the code will be provided via the Tree class\n",
    "\n",
    "class Node(object):\n",
    "    def __init__(self, value):\n",
    "        self.value = value\n",
    "        self.left = None\n",
    "        self.right = None\n",
    "\n",
    "# Class Tree contains a root node and the functions\n",
    "# It uses the class node\n",
    "\n",
    "class Tree:\n",
    "    def __init__(self):\n",
    "        self.root = None\n",
    "\n",
    "    def add_node(self, node, value): # Add function\n",
    "        if (self.root != None):\n",
    "            if (node.value == value):\n",
    "                print (\"Can't add same value twice!\")\n",
    "                return False\n",
    "            elif (value < node.value):\n",
    "                if (node.left == None):\n",
    "                    node.left = Node(value)\n",
    "                else:\n",
    "                    self.add_node(node.left, value)\n",
    "            else:\n",
    "                if (node.right == None):\n",
    "                    node.right = Node(value)\n",
    "                else:\n",
    "                    self.add_node(node.right, value)\n",
    "        else:\n",
    "            self.root = Node(value)\n",
    "        return True\n",
    "\n",
    "\n",
    "    def search(self, node, value): # Search function\n",
    "        # Returns the node that contains the value or False if the tree doesn't contain the value\n",
    "        if (node.value == value):\n",
    "            return node\n",
    "        elif (value < node.value and node.left != None):\n",
    "            return self.search(node.left, value)\n",
    "        elif (value > node.value and node.right != None):\n",
    "            return self.search(node.right, value)\n",
    "        return False\n",
    "\n",
    "    def depth(self, node):\n",
    "        if (node == None):\n",
    "            return 0\n",
    "        else:\n",
    "            leftDepth = self.depth(node.left)\n",
    "            rightDepth = self.depth(node.right)\n",
    "\n",
    "            if (leftDepth > rightDepth):\n",
    "                return leftDepth + 1\n",
    "            else:\n",
    "                return rightDepth + 1\n",
    "\n",
    "    def minValueNode(self, node):\n",
    "        current = node\n",
    "        while (current.left is not None):\n",
    "            current = current.left\n",
    "        return current\n",
    "            \n",
    "    def delete_node(self, node, value):\n",
    "        if(node is None):\n",
    "            return node\n",
    "        if (value < node.value):\n",
    "            node.left = self.delete_node(node.left, value)\n",
    "        elif (value > node.value):\n",
    "            node.right = self.delete_node(node.right, value)\n",
    "        else:\n",
    "            if (node.left is None):\n",
    "                temp = node.right\n",
    "                node = None\n",
    "                return temp\n",
    "            elif (node.right is None):\n",
    "                temp = node.left\n",
    "                node = None\n",
    "                return temp\n",
    "            temp = self.minValueNode(node.right)\n",
    "            node.value = temp.value\n",
    "            node.right = self.delete_node(node.right, temp.value)\n",
    "        return node\n",
    "            \n",
    "    def printInorder(self, node): # Inorder traversing as explained above\n",
    "        if (node != None):\n",
    "            self.printInorder(node.left)\n",
    "            print(node.value)\n",
    "            self.printInorder(node.right)\n",
    "\n",
    "    def printPreorder(self, node): # Preorder traversing as explained above\n",
    "        if (node != None):\n",
    "            print(node.value)\n",
    "            self.printPreorder(node.left)\n",
    "            self.printPreorder(node.right)\n",
    "\n",
    "    def printPostorder(self, node): # Postorder traversing as explained above\n",
    "        if (node != None):\n",
    "            self.printPostorder(node.left)\n",
    "            self.printPostorder(node.right)\n",
    "            print(node.value)\n",
    "            \n",
    "    # level order isn't a recursive function\n",
    "    def printLevelorder(self): \n",
    "        # we process all nodes using a queue\n",
    "        # initially, there is only the root node in the queue\n",
    "        queue = [self.root] \n",
    "        while len(queue) > 0: \n",
    "            current_node = queue.pop(0) # process/remove the first element from the queue\n",
    "            if (current_node != None):\n",
    "                print(current_node.value)\n",
    "                queue.append(current_node.left) # add the left and right nodes\n",
    "                queue.append(current_node.right)"
   ]
  },
  {
   "cell_type": "code",
   "execution_count": 5,
   "metadata": {},
   "outputs": [
    {
     "data": {
      "text/plain": [
       "True"
      ]
     },
     "execution_count": 5,
     "metadata": {},
     "output_type": "execute_result"
    }
   ],
   "source": [
    "binaryTree = Tree()\n",
    "\n",
    "# test values, add function\n",
    "binaryTree.add_node(binaryTree.root, 'Rony') # root is always the startpoint here\n",
    "binaryTree.add_node(binaryTree.root, 'Fred')\n",
    "binaryTree.add_node(binaryTree.root, 'Sirius')\n",
    "binaryTree.add_node(binaryTree.root, 'Draco')\n",
    "binaryTree.add_node(binaryTree.root, 'Severus')\n",
    "binaryTree.add_node(binaryTree.root, 'Ginny')\n",
    "\n",
    "binaryTree.add_node(binaryTree.root, 'Tom')\n"
   ]
  },
  {
   "cell_type": "code",
   "execution_count": 6,
   "metadata": {},
   "outputs": [
    {
     "data": {
      "text/plain": [
       "<__main__.Node at 0x7f8ff09f4d00>"
      ]
     },
     "execution_count": 6,
     "metadata": {},
     "output_type": "execute_result"
    }
   ],
   "source": [
    "binaryTree.add_node(binaryTree.root, 'George')\n",
    "binaryTree.add_node(binaryTree.root, 'Hermione')\n",
    "binaryTree.add_node(binaryTree.root, 'Harry')\n",
    "binaryTree.delete_node(binaryTree.root, 'Hermione')\n",
    "binaryTree.delete_node(binaryTree.root, 'Rony')"
   ]
  },
  {
   "cell_type": "code",
   "execution_count": 7,
   "metadata": {},
   "outputs": [
    {
     "name": "stdout",
     "output_type": "stream",
     "text": [
      "Severus\n",
      "Fred\n",
      "Draco\n",
      "Ginny\n",
      "George\n",
      "Harry\n",
      "Sirius\n",
      "Tom\n"
     ]
    }
   ],
   "source": [
    "binaryTree.printPreorder(binaryTree.root)"
   ]
  },
  {
   "cell_type": "code",
   "execution_count": 8,
   "metadata": {},
   "outputs": [
    {
     "data": {
      "text/plain": [
       "True"
      ]
     },
     "execution_count": 8,
     "metadata": {},
     "output_type": "execute_result"
    }
   ],
   "source": [
    "binaryTree = Tree()\n",
    "\n",
    "# test values, add function\n",
    "binaryTree.add_node(binaryTree.root, 'Rony') # root is always the startpoint here\n",
    "binaryTree.add_node(binaryTree.root, 'Fred')\n",
    "binaryTree.add_node(binaryTree.root, 'Sirius')\n",
    "binaryTree.add_node(binaryTree.root, 'Draco')\n",
    "binaryTree.add_node(binaryTree.root, 'Severus')\n",
    "binaryTree.add_node(binaryTree.root, 'Ginny')\n",
    "binaryTree.add_node(binaryTree.root, 'Tom')\n"
   ]
  },
  {
   "cell_type": "code",
   "execution_count": 9,
   "metadata": {},
   "outputs": [
    {
     "data": {
      "text/plain": [
       "<__main__.Node at 0x7f8ff0a0fe80>"
      ]
     },
     "execution_count": 9,
     "metadata": {},
     "output_type": "execute_result"
    }
   ],
   "source": [
    "binaryTree.add_node(binaryTree.root, 'George')\n",
    "binaryTree.add_node(binaryTree.root, 'Harry')\n",
    "binaryTree.add_node(binaryTree.root, 'Hermione')\n",
    "binaryTree.delete_node(binaryTree.root, 'Harry')\n",
    "binaryTree.delete_node(binaryTree.root, 'Rony')"
   ]
  },
  {
   "cell_type": "code",
   "execution_count": 10,
   "metadata": {},
   "outputs": [
    {
     "name": "stdout",
     "output_type": "stream",
     "text": [
      "Severus\n",
      "Fred\n",
      "Draco\n",
      "Ginny\n",
      "George\n",
      "Hermione\n",
      "Sirius\n",
      "Tom\n"
     ]
    }
   ],
   "source": [
    "binaryTree.printPreorder(binaryTree.root)"
   ]
  },
  {
   "cell_type": "code",
   "execution_count": 11,
   "metadata": {},
   "outputs": [
    {
     "name": "stdout",
     "output_type": "stream",
     "text": [
      "Draco\n",
      "George\n",
      "Hermione\n",
      "Ginny\n",
      "Fred\n",
      "Tom\n",
      "Sirius\n",
      "Severus\n"
     ]
    }
   ],
   "source": [
    "binaryTree.printPostorder(binaryTree.root)"
   ]
  },
  {
   "cell_type": "code",
   "execution_count": 12,
   "metadata": {},
   "outputs": [],
   "source": [
    "class Node:\n",
    "    def __init__(self,value):\n",
    "        self.value = value\n",
    "        self.next = None\n",
    "        \n",
    "class SortedLinkedList:\n",
    "    def __init__(self):\n",
    "        self.first = None\n",
    "        \n",
    "    def insert(self, value):\n",
    "        new_node = Node(value)\n",
    "        \n",
    "        if self.first is None or self.first.value > value:\n",
    "            new_node.next = self.first\n",
    "            self.first = new_node\n",
    "            return self.first\n",
    "            \n",
    "        current = self.first\n",
    "        while current.next is not None and current.next.value < value:\n",
    "            current = current.next\n",
    "            \n",
    "        new_node.next = current.next\n",
    "        current.next = new_node\n",
    "        return current        \n",
    "                \n",
    "    def printList(self):\n",
    "        result = []\n",
    "        current = self.first\n",
    "        while current is not None:\n",
    "            result.append(str(current.value))\n",
    "            current = current.next\n",
    "        return \", \".join(result) + \", \"\n"
   ]
  },
  {
   "cell_type": "code",
   "execution_count": 13,
   "metadata": {},
   "outputs": [],
   "source": [
    "my_ll = SortedLinkedList()\n",
    "l = [5, 8, 3, 2, 1, 4, 6, 9, 7]\n",
    "for value in l:\n",
    "    my_ll.insert(value)\n",
    "my_ll.printList()\n",
    "assert my_ll.printList() == \"1, 2, 3, 4, 5, 6, 7, 8, 9, \""
   ]
  },
  {
   "cell_type": "code",
   "execution_count": 14,
   "metadata": {},
   "outputs": [],
   "source": [
    "class BSTNode(object):\n",
    "    def __init__(self, value):\n",
    "        self.value = value\n",
    "        self.left = None\n",
    "        self.right = None\n",
    "\n",
    "class BinarySearchTree:\n",
    "  \n",
    "    def __init__(self):\n",
    "        self.root = None\n",
    "  \n",
    "    def add(self, n, value):\n",
    "        if self.root == None:\n",
    "            self.root = BSTNode(value)\n",
    "        else:\n",
    "            if n == None:\n",
    "                return BSTNode(value)\n",
    "            if value < n.value:\n",
    "                n.left = self.add(n.left, value)\n",
    "            else:\n",
    "                n.right = self.add(n.right, value)\n",
    "            return n\n",
    "  \n",
    "    def contains(self, node, value):\n",
    "        if self.root == None:\n",
    "            return False\n",
    "        elif (node.value == value):\n",
    "            return True\n",
    "        elif (value < node.value and node.left != None):\n",
    "            return self.contains(node.left, value)\n",
    "        elif (value > node.value and node.right != None):\n",
    "            return self.contains(node.right, value)\n",
    "        return False\n",
    "  \n",
    "    def level(self, value):\n",
    "        current = self.root\n",
    "        level = 0\n",
    "        if self.root == None or self.contains(self.root,value) is False:\n",
    "            return None\n",
    "        while current is not None:\n",
    "            if current.value == value:\n",
    "                return level \n",
    "            elif value > current.value:\n",
    "                current = current.right\n",
    "            elif value < current.value:\n",
    "                current = current.left\n",
    "            level += 1\n",
    "        return False\n",
    "        \n",
    "       \n",
    "  \n"
   ]
  },
  {
   "cell_type": "code",
   "execution_count": 15,
   "metadata": {},
   "outputs": [],
   "source": [
    "bst = BinarySearchTree()\n",
    "L = [10, 4, 18, 5, 12]\n",
    "for i in L:\n",
    "    bst.add(bst.root, i)\n",
    "# test cases\n",
    "assert bst.level(10) == 0\n",
    "assert bst.level(5) == 2\n",
    "assert bst.level(7) == None\n",
    "assert bst.contains(bst.root, 12) == True\n",
    "bst2 = BinarySearchTree()\n",
    "assert bst2.contains(bst2.root, 12) == False\n"
   ]
  },
  {
   "cell_type": "code",
   "execution_count": null,
   "metadata": {},
   "outputs": [],
   "source": []
  }
 ],
 "metadata": {
  "kernelspec": {
   "display_name": "Python 3",
   "language": "python",
   "name": "python3"
  },
  "language_info": {
   "codemirror_mode": {
    "name": "ipython",
    "version": 3
   },
   "file_extension": ".py",
   "mimetype": "text/x-python",
   "name": "python",
   "nbconvert_exporter": "python",
   "pygments_lexer": "ipython3",
   "version": "3.8.5"
  }
 },
 "nbformat": 4,
 "nbformat_minor": 4
}
