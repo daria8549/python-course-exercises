{
 "cells": [
  {
   "cell_type": "code",
   "execution_count": 1,
   "metadata": {},
   "outputs": [],
   "source": [
    "\n",
    "presidents = [\n",
    "    [\"Karl Renner\", 1945, 1950],\n",
    "    [\"Theodor Körner\", 1951, 1957],\n",
    "    [\"Adolf Schärf\", 1957, 1965],\n",
    "    [\"Franz Jonas\", 1965, 1974],\n",
    "    [\"Rudolf Kirchschläger\", 1974, 1986],\n",
    "    [\"Kurt Waldheim\", 1986, 1992],\n",
    "    [\"Thomas Klestil\", 1992, 2004],\n",
    "    [\"Heinz Fischer\", 2004, 2016]\n",
    "]\n",
    "\n",
    "\n",
    "def sortByDuration(array):\n",
    "    n = len(array)\n",
    "    for i in range(n):\n",
    "        swapped = False\n",
    "        for j in range (0,n-i-1):\n",
    "            current_duration = array[j][2]-array[j][1]\n",
    "            next_duration = array[j+1][2]-array[j+1][1]\n",
    "        \n",
    "            if current_duration > next_duration:\n",
    "                array[j], array[j+1] = array[j+1], array[j]\n",
    "                swapped = True\n",
    "        if not swapped:\n",
    "            break\n",
    "      \n",
    "            \n",
    "def isSorted(array):\n",
    "    for i in range(len(array) - 1):\n",
    "        current_duration = array[i][2] - array[i][1]\n",
    "        next_duration = array[i + 1][2] - array[i + 1][1]\n",
    "        \n",
    "        if current_duration > next_duration:\n",
    "            return False\n",
    "    return True\n",
    "\n",
    "presidents = [\n",
    "    [\"Karl Renner\", 1945, 1950],\n",
    "    [\"Theodor Körner\", 1951, 1957],\n",
    "    [\"Adolf Schärf\", 1957, 1965],\n",
    "    [\"Franz Jonas\", 1965, 1974],\n",
    "    [\"Rudolf Kirchschläger\", 1974, 1986],\n",
    "    [\"Kurt Waldheim\", 1986, 1992],\n",
    "    [\"Thomas Klestil\", 1992, 2004],\n",
    "    [\"Heinz Fischer\", 2004, 2016]\n",
    "]\n",
    "\n",
    "\n",
    "assert isSorted(presidents) == False\n",
    "sortByDuration(presidents)\n",
    "assert isSorted(presidents) == True\n"
   ]
  }
 ],
 "metadata": {
  "kernelspec": {
   "display_name": "Python 3",
   "language": "python",
   "name": "python3"
  },
  "language_info": {
   "codemirror_mode": {
    "name": "ipython",
    "version": 3
   },
   "file_extension": ".py",
   "mimetype": "text/x-python",
   "name": "python",
   "nbconvert_exporter": "python",
   "pygments_lexer": "ipython3",
   "version": "3.8.5"
  }
 },
 "nbformat": 4,
 "nbformat_minor": 4
}
