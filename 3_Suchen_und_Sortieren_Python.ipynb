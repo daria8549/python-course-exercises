{
 "cells": [
  {
   "cell_type": "markdown",
   "metadata": {},
   "source": [
    "# Search and sort"
   ]
  },
  {
   "cell_type": "markdown",
   "metadata": {},
   "source": [
    "\n",
    "## Search algorithms"
   ]
  },
  {
   "cell_type": "markdown",
   "metadata": {},
   "source": [
    "**Prior knowledge:** Strings and lists in Python"
   ]
  },
  {
   "cell_type": "code",
   "execution_count": 1,
   "metadata": {},
   "outputs": [
    {
     "name": "stdout",
     "output_type": "stream",
     "text": [
      "The first character:\n",
      "I\n",
      "Characters from position 7 (included) to 14 (not included):\n",
      "string!\n",
      "Only the last character:\n",
      "!\n"
     ]
    }
   ],
   "source": [
    "#This is a String. \n",
    "\n",
    "\"I am a string!\"\n",
    "\n",
    "#Saving it in a variable.\n",
    "\n",
    "text_string = \"I am a string!\"\n",
    "\n",
    "#For the case of searching it can be helpful to think of a string as a list of characters. \n",
    "#That means individual characters can be referenced by their position in the string (staring with 0!).\n",
    "\n",
    "print(\"The first character:\")\n",
    "print(text_string[0])\n",
    "\n",
    "#Other list operations work too.\n",
    "\n",
    "print(\"Characters from position 7 (included) to 14 (not included):\")\n",
    "print(text_string[7:14])\n",
    "\n",
    "\n",
    "print(\"Only the last character:\")\n",
    "print(text_string[-1])"
   ]
  },
  {
   "cell_type": "code",
   "execution_count": 2,
   "metadata": {},
   "outputs": [
    {
     "data": {
      "text/plain": [
       "14"
      ]
     },
     "execution_count": 2,
     "metadata": {},
     "output_type": "execute_result"
    }
   ],
   "source": [
    "#len() can be used to obtain the length of a string. \n",
    "\n",
    "len(text_string)"
   ]
  },
  {
   "cell_type": "code",
   "execution_count": 3,
   "metadata": {},
   "outputs": [
    {
     "name": "stdout",
     "output_type": "stream",
     "text": [
      "I\n",
      " \n",
      "a\n",
      "m\n",
      " \n",
      "a\n",
      " \n",
      "s\n",
      "t\n",
      "r\n",
      "i\n",
      "n\n",
      "g\n",
      "!\n",
      "0: I\n",
      "1:  \n",
      "2: a\n",
      "3: m\n",
      "4:  \n",
      "5: a\n",
      "6:  \n",
      "7: s\n",
      "8: t\n",
      "9: r\n",
      "10: i\n",
      "11: n\n",
      "12: g\n",
      "13: !\n",
      "T: I\n",
      "T:  \n",
      "T: a\n",
      "T: m\n",
      "T:  \n",
      "T: a\n",
      "T:  \n",
      "T: s\n",
      "T: t\n",
      "T: r\n",
      "T: i\n",
      "T: n\n",
      "T: g\n",
      "T: !\n"
     ]
    }
   ],
   "source": [
    "#A for loop can be used to iterate over each individual character.\n",
    "\n",
    "for i in range(14):\n",
    "    print(text_string[i])\n",
    "\n",
    "#This in combination with len() can be used to iterate over the characters in a string without \n",
    "#knowing its excact length.\n",
    "\n",
    "\n",
    "for i in range(len(text_string)):\n",
    "    print(str(i) + \": \" + text_string[i])\n",
    "    \n",
    "#Be careful however, while the positions of a string start with 0 (in this case 0 - 13), \n",
    "#the function len() returns the absolute number of characters.\n",
    "#Luckily this poses no problem with range(), it does not include the given parameter in the list.\n",
    "#range(13) -> [0,1,2,3,...,10,11,12]\n",
    "#text_string[len(text_string)] does NOT give you the last element!\n",
    "\n",
    "for c in text_string:\n",
    "    print('T:', c)"
   ]
  },
  {
   "cell_type": "markdown",
   "metadata": {},
   "source": [
    "### Linear Search \n",
    "(ref: Chapter 5.1.1 p. 116)"
   ]
  },
  {
   "cell_type": "code",
   "execution_count": 4,
   "metadata": {},
   "outputs": [
    {
     "name": "stdout",
     "output_type": "stream",
     "text": [
      "Pattern found at position 9\n",
      "Pattern found at position 13\n"
     ]
    }
   ],
   "source": [
    "#Probably the simplest way to search in a string or list is the linear search.\n",
    "#It just checks every character or list entry from beginning to end.\n",
    "\n",
    "string_to_search = \"Where is @the@ at sign?\"\n",
    "pattern = \"@\"\n",
    "\n",
    "for i in range(len(string_to_search)):\n",
    "    \n",
    "    if string_to_search[i] == pattern:\n",
    "        \n",
    "        print(\"Pattern found at position \" + str(i))"
   ]
  },
  {
   "cell_type": "markdown",
   "metadata": {},
   "source": [
    "<div style=\"border:3px red solid; padding: 0px 20px 10px;\">\n",
    "    <h2 style=\"color:red\">Exercise 4</h2>\n",
    "    <ul>\n",
    "        <li style=\"color:red\">How many times is the <code>for i in range(len(string_to_search))</code> loop performed?</li>\n",
    "        <li style=\"color:red\">Rewrite the loop to search the string from back to front.</li>\n",
    "        <li style=\"color:red\">Note: <a href=\"https://www.w3schools.com/python/ref_func_range.asp\">range</a></li>\n",
    "    </ul>\n",
    "</div>"
   ]
  },
  {
   "cell_type": "code",
   "execution_count": 6,
   "metadata": {},
   "outputs": [
    {
     "name": "stdout",
     "output_type": "stream",
     "text": [
      "Pattern found at position 13\n",
      "Pattern found at position 9\n"
     ]
    }
   ],
   "source": [
    "string_to_search = \"Where is @the@ at sign?\"\n",
    "pattern = \"@\"\n",
    "i = len(string_to_search)\n",
    "while i != 0:\n",
    "    i -= 1\n",
    "    if string_to_search[i] == pattern:\n",
    "        \n",
    "        print(\"Pattern found at position \" + str(i))"
   ]
  },
  {
   "cell_type": "markdown",
   "metadata": {},
   "source": [
    "We now write our own function for this linear search, which we can use to search both lists and strings:"
   ]
  },
  {
   "cell_type": "code",
   "execution_count": 8,
   "metadata": {},
   "outputs": [],
   "source": [
    "#A simple linear search function\n",
    "\n",
    "def lin_search(string_or_list,key):\n",
    "    \n",
    "    for i in range(len(string_or_list)):\n",
    "        \n",
    "        if string_or_list[i] == key:\n",
    "            \n",
    "            return i\n",
    "        \n",
    "    return \"no_key\""
   ]
  },
  {
   "cell_type": "code",
   "execution_count": 9,
   "metadata": {},
   "outputs": [
    {
     "name": "stdout",
     "output_type": "stream",
     "text": [
      "6\n"
     ]
    }
   ],
   "source": [
    "#The function returns the position of the first instance encountered.\n",
    "out = lin_search(\"Hello World!\", \"W\")\n",
    "\n",
    "assert out == 6\n",
    "\n",
    "print(out)"
   ]
  },
  {
   "cell_type": "code",
   "execution_count": 10,
   "metadata": {},
   "outputs": [
    {
     "name": "stdout",
     "output_type": "stream",
     "text": [
      "3\n"
     ]
    }
   ],
   "source": [
    "#The same function also works for lists.\n",
    "\n",
    "search_list = [\"dog\", \"cat\", \"bird\", \"fish\"]\n",
    "\n",
    "out = lin_search(search_list, \"fish\")\n",
    "\n",
    "assert out == 3\n",
    "\n",
    "print(out)"
   ]
  },
  {
   "cell_type": "markdown",
   "metadata": {},
   "source": [
    "### Binary Search\n",
    "(ref: Chapter 5.1.2 p. 118)"
   ]
  },
  {
   "cell_type": "markdown",
   "metadata": {},
   "source": [
    "To determine the middle position of a list, we use division with truncation ([\"floor division\"](https://python-reference.readthedocs.io/en/latest/docs/operators/floor_division.html)) `//`: Here the (possible) decimal places of a division are cut off and we get an integer (i.e. a whole number)."
   ]
  },
  {
   "cell_type": "markdown",
   "metadata": {},
   "source": [
    "<div style=\"border:3px red solid; padding: 0px 20px 10px;\">\n",
    "    <h2 style=\"color:red\">Exercise 5</h2>\n",
    "    <li style=\"color:red\">Given the lists <code>my_list1</code>, <code>my_list2</code>.</li>\n",
    "    <li style=\"color:red\">Use the \"floor division\" to determine the middle positions (<i>Index</i>) of these lists.</li>\n",
    "    <li style=\"color:red\">Note that positions start at 0 and round down if there is no middle position.</li>\n",
    "</div>"
   ]
  },
  {
   "cell_type": "code",
   "execution_count": 12,
   "metadata": {},
   "outputs": [],
   "source": [
    "my_list1 = [\"first\", \"second\", \"middle\", \"somewhere\", \"last\"]\n",
    "my_list2 = [7, 5, 4, 3, 6, 9]"
   ]
  },
  {
   "cell_type": "code",
   "execution_count": 22,
   "metadata": {},
   "outputs": [],
   "source": [
    "# Exercise 5: your code here\n",
    "def get_middle_position(my_list):\n",
    "    if len(my_list)%2 != 0:\n",
    "        return(len(my_list)//2)\n",
    "    if len(my_list)%2 == 0:\n",
    "        return(len(my_list)//2-1)"
   ]
  },
  {
   "cell_type": "code",
   "execution_count": 25,
   "metadata": {},
   "outputs": [
    {
     "name": "stdout",
     "output_type": "stream",
     "text": [
      "2\n",
      "2\n",
      "middle\n",
      "4\n"
     ]
    }
   ],
   "source": [
    "print(get_middle_position(my_list1))\n",
    "print(get_middle_position(my_list2))\n",
    "print(my_list1[get_middle_position(my_list1)])\n",
    "print(my_list2[get_middle_position(my_list2)])"
   ]
  },
  {
   "cell_type": "markdown",
   "metadata": {},
   "source": [
    "Here is an implementation of a binary search. Read through the documentation (given as a comment here)."
   ]
  },
  {
   "cell_type": "code",
   "execution_count": 44,
   "metadata": {
    "scrolled": true
   },
   "outputs": [],
   "source": [
    "#Example implementation of a binary search search function in python:\n",
    "\n",
    "#The function takes an ordered list as input as well as a key.\n",
    "#In this case both have to be integers and the first occurance the function finds is returned.\n",
    "#(Not necesserily the first in the ordered list)\n",
    "#If you want to see how the middle, upper and lower limit change while running the function a debug parameter \n",
    "#provided. To turn it on call the function with 'debug = True'.\n",
    "\n",
    "def bin_search(x, key, debug = True):\n",
    "    \n",
    "    low_lim = 0 \n",
    "    up_lim = len(x) -1\n",
    "    \n",
    "    while low_lim <= up_lim:\n",
    "    \n",
    "        #The middle between upper and lower limit is calculated using the floored division operator '//'.\n",
    "        print(low_lim,up_lim)\n",
    "        middle = (low_lim + up_lim)//2\n",
    "        print(middle)\n",
    "    \n",
    "        if x[middle] == key:\n",
    "        \n",
    "            #If the key matches the middle it is returned.\n",
    "        \n",
    "            return middle\n",
    "        \n",
    "        #Otherwise, the upper or lower limit are adjusted to lie closer around the key.\n",
    "    \n",
    "        elif x[middle] > key:\n",
    "        \n",
    "            up_lim = middle - 1\n",
    "        \n",
    "        else:\n",
    "        \n",
    "            low_lim = middle + 1\n",
    "            \n",
    "        if debug == True:\n",
    "        \n",
    "            print('DEBUG: lower='+str(low_lim) + ', upper=' + str(up_lim) + ', middle=' + str(middle))\n",
    "    \n",
    "    #This is repeated until the key is found or the lower and upper limit meet.\n",
    "    #In the latter case \"No Key\" is returned.\n",
    "    \n",
    "    return \"no_key\"\n"
   ]
  },
  {
   "cell_type": "code",
   "execution_count": 45,
   "metadata": {},
   "outputs": [
    {
     "name": "stdout",
     "output_type": "stream",
     "text": [
      "0 19\n",
      "9\n",
      "DEBUG: lower=0, upper=8, middle=9\n",
      "0 8\n",
      "4\n",
      "DEBUG: lower=0, upper=3, middle=4\n",
      "0 3\n",
      "1\n",
      "DEBUG: lower=0, upper=0, middle=1\n",
      "0 0\n",
      "0\n",
      "0\n"
     ]
    }
   ],
   "source": [
    "#Let's put it to the test:\n",
    "\n",
    "num_list = [1,2,3,4,5,6,7,8,9,10,11,12,13,14,15,16,17,18,19,20]\n",
    "\n",
    "out = bin_search(x = num_list,key = 1, debug = True)\n",
    "\n",
    "assert out == 0\n",
    "\n",
    "print(out)"
   ]
  },
  {
   "cell_type": "code",
   "execution_count": null,
   "metadata": {
    "scrolled": true
   },
   "outputs": [],
   "source": [
    "out = bin_search(x = num_list,key = 28)\n",
    "\n",
    "assert out == 'no_key'\n",
    "\n",
    "print(out)"
   ]
  },
  {
   "cell_type": "markdown",
   "metadata": {},
   "source": [
    "### Built-in Functions: Built-in search functions\n",
    "\n",
    "Python comes with built-in search functions that we don't need to install/import.\n",
    "This allows strings and lists to be searched:"
   ]
  },
  {
   "cell_type": "code",
   "execution_count": 31,
   "metadata": {},
   "outputs": [
    {
     "name": "stdout",
     "output_type": "stream",
     "text": [
      "True\n"
     ]
    }
   ],
   "source": [
    "#To check whether a key exists in a list 'in' is used:\n",
    "#It returns a boolean value (True/False)\n",
    "\n",
    "out = 3 in [1,2,3]\n",
    "\n",
    "assert out == True\n",
    "\n",
    "print(out)"
   ]
  },
  {
   "cell_type": "code",
   "execution_count": 32,
   "metadata": {},
   "outputs": [
    {
     "name": "stdout",
     "output_type": "stream",
     "text": [
      "False\n"
     ]
    }
   ],
   "source": [
    "num_list = [1,2,4,8,9,12,16,19,20,23,26,33,40,58]\n",
    "\n",
    "out = 54 in num_list\n",
    "\n",
    "assert out == False\n",
    "\n",
    "print(out)"
   ]
  },
  {
   "cell_type": "code",
   "execution_count": 33,
   "metadata": {},
   "outputs": [
    {
     "name": "stdout",
     "output_type": "stream",
     "text": [
      "True\n"
     ]
    }
   ],
   "source": [
    "out = 'a' in 'atari'\n",
    "\n",
    "assert out == True\n",
    "\n",
    "print(out)"
   ]
  },
  {
   "cell_type": "code",
   "execution_count": 34,
   "metadata": {},
   "outputs": [
    {
     "name": "stdout",
     "output_type": "stream",
     "text": [
      "False\n"
     ]
    }
   ],
   "source": [
    "out = 'b' in 'atari'\n",
    "\n",
    "assert out == False\n",
    "\n",
    "print(out)"
   ]
  },
  {
   "cell_type": "code",
   "execution_count": 35,
   "metadata": {},
   "outputs": [
    {
     "name": "stdout",
     "output_type": "stream",
     "text": [
      "6\n"
     ]
    }
   ],
   "source": [
    "#To find out the position of a key the 'index' function can be used:\n",
    "\n",
    "out = num_list.index(16)\n",
    "\n",
    "assert out == 6\n",
    "\n",
    "print(out)"
   ]
  },
  {
   "cell_type": "code",
   "execution_count": 36,
   "metadata": {},
   "outputs": [
    {
     "ename": "ValueError",
     "evalue": "3 is not in list",
     "output_type": "error",
     "traceback": [
      "\u001b[0;31m---------------------------------------------------------------------------\u001b[0m",
      "\u001b[0;31mValueError\u001b[0m                                Traceback (most recent call last)",
      "\u001b[0;32m<ipython-input-36-b4f77e7affc3>\u001b[0m in \u001b[0;36m<module>\u001b[0;34m\u001b[0m\n\u001b[1;32m      1\u001b[0m \u001b[0;31m#If the key is not present in the list/string a ValueError is returned:\u001b[0m\u001b[0;34m\u001b[0m\u001b[0;34m\u001b[0m\u001b[0;34m\u001b[0m\u001b[0m\n\u001b[1;32m      2\u001b[0m \u001b[0;34m\u001b[0m\u001b[0m\n\u001b[0;32m----> 3\u001b[0;31m \u001b[0mnum_list\u001b[0m\u001b[0;34m.\u001b[0m\u001b[0mindex\u001b[0m\u001b[0;34m(\u001b[0m\u001b[0;36m3\u001b[0m\u001b[0;34m)\u001b[0m\u001b[0;34m\u001b[0m\u001b[0;34m\u001b[0m\u001b[0m\n\u001b[0m",
      "\u001b[0;31mValueError\u001b[0m: 3 is not in list"
     ]
    }
   ],
   "source": [
    "#If the key is not present in the list/string a ValueError is returned:\n",
    "\n",
    "num_list.index(3)"
   ]
  },
  {
   "cell_type": "code",
   "execution_count": 37,
   "metadata": {},
   "outputs": [
    {
     "name": "stdout",
     "output_type": "stream",
     "text": [
      "0\n"
     ]
    }
   ],
   "source": [
    "#This works both on ordered and unordered list/strings, however, only the first occurance of a key is returned.\n",
    "\n",
    "out = 'atari'.index('a')\n",
    "\n",
    "assert out == 0\n",
    "\n",
    "print(out)"
   ]
  },
  {
   "cell_type": "markdown",
   "metadata": {},
   "source": [
    "<div style=\"border:3px red solid; padding: 0px 20px 10px;\">\n",
    "    <h2 style=\"color:red\">Exercise 6</h2>\n",
    "    <ul>\n",
    "        <li style=\"color:red\">Search in 2-dimensional matrix:</li>\n",
    "        <li style=\"color:red\">Find the coordinates of all squares of this \"chess board\" whose playing figure contains an umlaut (ä, ö, ü).</li>\n",
    "        <li style=\"color:red\">To do this, create a function that receives a 2-dimensional matrix and a list of umlauts as parameters.</li>\n",
    "        <li style=\"color:red\">A 2-dimensional matrix with coordinates should be returned as the return value.</li>\n",
    "        <li style=\"color:red\">OUTPUT: <code>[[0, 2], [0, 4], [0, 5], [7, 2], [7, 3], [7, 5]]</code></li>\n",
    "        <li style=\"color:red\">Note: Here, the row is specified first, then the column.</li>\n",
    "    </ul>\n",
    "</div>\n",
    "\n"
   ]
  },
  {
   "cell_type": "code",
   "execution_count": 59,
   "metadata": {},
   "outputs": [
    {
     "name": "stdout",
     "output_type": "stream",
     "text": [
      "[[0, 2], [0, 4], [0, 5], [7, 2], [7, 3], [7, 5]]\n",
      "8\n",
      "Springer\n"
     ]
    }
   ],
   "source": [
    "matrix = [  [  'Turm', 'Springer', 'Läufer',  'Dame', 'König', 'Läufer', 'Springer', 'Turm'  ],\n",
    "            [ 'Bauer',    'Bauer',  'Bauer', 'Bauer', 'Bauer',  'Bauer',    'Bauer', 'Bauer' ],\n",
    "            [ '-----',    '-----',  '-----', '-----', '-----',  '-----',    '-----', '-----' ],\n",
    "            [ '-----',    '-----',  '-----', '-----', '-----',  '-----',    '-----', '-----' ],\n",
    "            [ '-----',    '-----',  '-----', '-----', '-----',  '-----',    '-----', '-----' ],\n",
    "            [ '-----',    '-----',  '-----', '-----', '-----',  '-----',    '-----', '-----' ],\n",
    "            [ 'Bauer',    'Bauer',  'Bauer', 'Bauer', 'Bauer',  'Bauer',    'Bauer', 'Bauer' ],\n",
    "            [  'Turm', 'Springer', 'Läufer', 'König',  'Dame', 'Läufer', 'Springer', 'Turm'  ],  ]\n",
    "\n",
    "\n",
    "def contains_key(keys, pos):\n",
    "    for i in keys:\n",
    "        if i in pos:\n",
    "            return True\n",
    "    return False\n",
    "\n",
    "\n",
    "def myFunction(matrix, keys):\n",
    "    arr = []\n",
    "    for y in range(len(matrix)):\n",
    "        row = matrix[y]\n",
    "        #print(matrix[y])\n",
    "        for x in range(len(row)):\n",
    "            pos = row[x]\n",
    "            #print(row[x])\n",
    "            if contains_key(keys, pos):\n",
    "                arr.append([y, x])\n",
    "    return arr\n",
    "        \n",
    "\n",
    "print(myFunction(matrix, ['ä', 'ö', 'ü']))\n",
    "print(len(matrix))\n",
    "assert myFunction(matrix, ['ä', 'ö', 'ü']) == [[0, 2], [0, 4], [0, 5], [7, 2], [7, 3], [7, 5]]\n",
    "print(matrix[7][1])\n"
   ]
  },
  {
   "cell_type": "markdown",
   "metadata": {},
   "source": [
    "## Sorting algorithms\n",
    "\n",
    "We use sorting algorithms to rearrange a set of unsorted elements into an order.\n",
    "\n",
    "This process can be applied to a variety of objects. Typical examples are a list or an array."
   ]
  },
  {
   "cell_type": "markdown",
   "metadata": {},
   "source": [
    "### Bubble sort / Shell sort\n",
    "\n",
    "The \"bubble sort\" is one of the simplest, but not the most efficient sorting algorithms, which is why it is hardly used in practice.\n",
    "\n",
    "With \"bubble sort\" the given set is iterated over and the current element is compared with the following element. If the current element is larger than the following element, they are swapped."
   ]
  },
  {
   "cell_type": "code",
   "execution_count": 1,
   "metadata": {
    "scrolled": true
   },
   "outputs": [
    {
     "name": "stdout",
     "output_type": "stream",
     "text": [
      "Number of swaps: 9\n",
      "Sorted array:[1, 3, 4, 5, 7, 8, 10]\n"
     ]
    }
   ],
   "source": [
    "ary = [5, 3, 7, 10, 1, 4, 8]\n",
    "\n",
    "def bubbleSort(ary):\n",
    "    counter = 0\n",
    "    for i in range(len(ary)):\n",
    "        is_sorted = True\n",
    "        #print(i)\n",
    "        for j in range(len(ary) - i - 1):   # -i is used to reduce the runtime, as the highest elements are already ordered\n",
    "                                            # -1 is used to avoid an index out of range error\n",
    "            #print(j)\n",
    "            \n",
    "            if (ary[j] > ary[j + 1]):\n",
    "                \n",
    "                is_sorted = False\n",
    "                #print(ary[j], ary[j+1])\n",
    "                ary[j], ary[j+1] = ary[j+1], ary[j]\n",
    "                counter += 1\n",
    "                #print(ary[j], ary[j+1])\n",
    "        \n",
    "        if is_sorted:\n",
    "            print(\"Number of swaps:\",counter)\n",
    "            break\n",
    "    \n",
    "    \n",
    "bubbleSort(ary)\n",
    "print(\"Sorted array:{ary}\".format(ary = ary))\n"
   ]
  },
  {
   "cell_type": "markdown",
   "metadata": {},
   "source": [
    "<div style=\"border:3px red solid; padding: 0px 20px 10px;\">\n",
    "    <h2 style=\"color:red\">Exercise 7</h2>\n",
    "    <ul>\n",
    "        <li style=\"color:red\">In the above example (<code>[5, 3, 7, 10, 1, 4, 8]</code>), how often is a swap performed with Bubble Sort?</li>\n",
    "        <li style=\"color:red\">Note: You don't have to go through the algorithm and count the swaps.</li>\n",
    "        <li style=\"color:red\">Just change <code>bubbleSort</code> and count each swap.</li>\n",
    "    </ul>\n",
    "</div>\n",
    "\n"
   ]
  },
  {
   "cell_type": "markdown",
   "metadata": {},
   "source": [
    "### Insertion sort\n",
    "\n",
    "It is a simple algorithm, but should only be used with small amounts of data, since efficiency is a critical factor.\n",
    "\n",
    "With \"Insertion sort\" an element is selected and inserted at the correct position."
   ]
  },
  {
   "cell_type": "code",
   "execution_count": 5,
   "metadata": {},
   "outputs": [
    {
     "name": "stdout",
     "output_type": "stream",
     "text": [
      "Iteration 1: [5, 29, 38, 13, 1, 48, 22, 32, 6, 27, 15, 16]\n",
      "Iteration 2: [29, 5, 38, 13, 1, 48, 22, 32, 6, 27, 15, 16]\n",
      "Iteration 3: [38, 29, 5, 13, 1, 48, 22, 32, 6, 27, 15, 16]\n",
      "Iteration 4: [38, 29, 13, 5, 1, 48, 22, 32, 6, 27, 15, 16]\n",
      "Iteration 5: [38, 29, 13, 5, 1, 48, 22, 32, 6, 27, 15, 16]\n",
      "Iteration 6: [48, 38, 29, 13, 5, 1, 22, 32, 6, 27, 15, 16]\n",
      "Iteration 7: [48, 38, 29, 22, 13, 5, 1, 32, 6, 27, 15, 16]\n",
      "Iteration 8: [48, 38, 32, 29, 22, 13, 5, 1, 6, 27, 15, 16]\n",
      "Iteration 9: [48, 38, 32, 29, 22, 13, 6, 5, 1, 27, 15, 16]\n",
      "Iteration 10: [48, 38, 32, 29, 27, 22, 13, 6, 5, 1, 15, 16]\n",
      "Iteration 11: [48, 38, 32, 29, 27, 22, 15, 13, 6, 5, 1, 16]\n",
      "Sorted array:[48, 38, 32, 29, 27, 22, 16, 15, 13, 6, 5, 1]\n"
     ]
    }
   ],
   "source": [
    "ary = [5,29,38,13,1,48,22,32,6,27,15,16]\n",
    "\n",
    "def insertionSort(ary):\n",
    "    for i in range(1, len(ary)):\n",
    "        print(\"Iteration {i}: {ary}\".\n",
    "              format(i = i, ary = ary)) # remove # for detailed informations\n",
    "        value = ary[i]\n",
    "        j = i - 1\n",
    "        while j >= 0 and value > ary[j]:\n",
    "            ary[j + 1] = ary[j]\n",
    "            j -= 1\n",
    "        ary[j + 1] = value\n",
    "insertionSort(ary)\n",
    "print(\"Sorted array:{ary}\".format(ary = ary))"
   ]
  },
  {
   "cell_type": "markdown",
   "metadata": {},
   "source": [
    "# Stable sorting process\n",
    "In addition to the \"Bubble sort\", the \"Insertion sort\" is also a stable sorting method. This becomes relevant when sorting data that has a key.\n",
    "\n",
    "A stable method leaves the order of the associated data records unchanged when sorting using the key values."
   ]
  },
  {
   "attachments": {
    "Sorting_stabiles%20Verfahren.JPG": {
     "image/jpeg": "[encoded data removed]"
    }
   },
   "cell_type": "markdown",
   "metadata": {},
   "source": [
    "![Sorting_stabiles%20Verfahren.JPG](attachment:Sorting_stabiles%20Verfahren.JPG)"
   ]
  },
  {
   "cell_type": "markdown",
   "metadata": {},
   "source": [
    "Anton stays ahead of Paul.\n",
    "\n",
    "An unstable procedure also allows Paul to come before Anton."
   ]
  },
  {
   "attachments": {
    "Sorting_instabiles%20Verfahren.JPG": {
     "image/jpeg": "[encoded data removed]"
    }
   },
   "cell_type": "markdown",
   "metadata": {},
   "source": [
    "![Sorting_instabiles%20Verfahren.JPG](attachment:Sorting_instabiles%20Verfahren.JPG)"
   ]
  },
  {
   "cell_type": "markdown",
   "metadata": {},
   "source": [
    "#### In - place\n",
    "\n",
    "Furthermore, the \"Bubble sort\" and the \"Insertion sort\" are algorithms that work \"in-place\". In-place means that you don't need additional memory to sort the amount of data."
   ]
  },
  {
   "cell_type": "markdown",
   "metadata": {},
   "source": [
    "### Selection sort\n",
    "\n",
    "Like the \"bubble sort\" and the \"insertion sort\", the \"selection sort\" is an algorithm that works \"in-place\". In contrast to the two algorithms mentioned, however, it is unstable in its basic form.\n",
    "\n",
    "The list is split into two parts, a sorted part on the left and an unsorted part on the right. Initially, the sorted part is empty. Now the smallest element of the unsorted half is inserted into the sorted half."
   ]
  },
  {
   "cell_type": "code",
   "execution_count": 81,
   "metadata": {},
   "outputs": [
    {
     "name": "stdout",
     "output_type": "stream",
     "text": [
      "Iteration 0: [4, 6, 8, 2, 9, 5, 1, 7, 3]\n",
      "Iteration 1: [1, 6, 8, 2, 9, 5, 4, 7, 3]\n",
      "Iteration 2: [1, 2, 8, 6, 9, 5, 4, 7, 3]\n",
      "Iteration 3: [1, 2, 3, 6, 9, 5, 4, 7, 8]\n",
      "Iteration 4: [1, 2, 3, 4, 9, 5, 6, 7, 8]\n",
      "Iteration 5: [1, 2, 3, 4, 5, 9, 6, 7, 8]\n",
      "Iteration 6: [1, 2, 3, 4, 5, 6, 9, 7, 8]\n",
      "Iteration 7: [1, 2, 3, 4, 5, 6, 7, 9, 8]\n",
      "Iteration 8: [1, 2, 3, 4, 5, 6, 7, 8, 9]\n",
      "Sorted array:[1, 2, 3, 4, 5, 6, 7, 8, 9]\n"
     ]
    }
   ],
   "source": [
    "ary = [4, 6, 8, 2, 9, 5, 1, 7, 3]\n",
    "\n",
    "def selectionSort(ary):\n",
    "    for i in range(len(ary)):\n",
    "        print(\"Iteration {i}: {ary}\".\n",
    "              format(i = i, ary = ary)) # remove # for detailed informations\n",
    "        min_index = i\n",
    "        for j in range(i + 1, len(ary)):\n",
    "            if (ary[min_index] > ary[j]):\n",
    "                min_index = j\n",
    "        tmp = ary[i]\n",
    "        ary[i] = ary[min_index]\n",
    "        ary[min_index] = tmp\n",
    "\n",
    "selectionSort(ary)\n",
    "print(\"Sorted array:{ary}\".format(ary = ary))"
   ]
  },
  {
   "cell_type": "markdown",
   "metadata": {},
   "source": [
    "### Built-In Functions: Built-in sorting functions\n",
    "\n",
    "In most cases, manual programming of a sorting algorithm is no longer necessary, as common programming languages have already implemented built-in functions."
   ]
  },
  {
   "cell_type": "code",
   "execution_count": 78,
   "metadata": {
    "scrolled": true
   },
   "outputs": [
    {
     "name": "stdout",
     "output_type": "stream",
     "text": [
      "Ascending:[1, 3, 4, 5, 7, 8, 10]\n",
      "Descending:[10, 8, 7, 5, 4, 3, 1]\n"
     ]
    }
   ],
   "source": [
    "ary = [5, 3, 7, 10, 1, 4, 8]\n",
    "\n",
    "ary.sort() # sort in ascending order\n",
    "\n",
    "print(\"Ascending:{ary}\".format(ary = ary))\n",
    "\n",
    "ary.sort(reverse=True) # sort in descending order\n",
    "\n",
    "print(\"Descending:{ary}\".format(ary = ary))"
   ]
  },
  {
   "cell_type": "markdown",
   "metadata": {},
   "source": [
    "<div style=\"border:3px red solid; padding: 0px 20px 10px;\">\n",
    "    <h2 style=\"color:red\">Exercise 8</h2>\n",
    "    <ul>\n",
    "        <li style=\"color:red\">Find out how to automatically create a list of 100 random values and program it. You should then use this list. Now look for all values in the previously created list that contain the number 2 and save those values.</li>\n",
    "        <li style=\"color:red\">In the last step, use a sorting algorithm that you know to sort the values in ascending order.</li>\n",
    "        <li style=\"color:red\">Also justify why you have chosen this algorithm.</li>\n",
    "    </ul>\n",
    "</div>\n"
   ]
  },
  {
   "cell_type": "code",
   "execution_count": 33,
   "metadata": {},
   "outputs": [
    {
     "name": "stdout",
     "output_type": "stream",
     "text": [
      "Random list: [94, 71, 10, 37, 96, 92, 11, 1, 67, 27, 45, 96, 57, 60, 3, 94, 7, 65, 68, 40, 9, 47, 14, 43, 37, 100, 20, 91, 20, 70, 77, 76, 97, 71, 49, 90, 18, 56, 98, 57, 55, 28, 10, 19, 100, 92, 18, 60, 38, 6, 10, 29, 30, 14, 76, 89, 87, 40, 18, 38, 5, 53, 26, 87, 22, 55, 89, 62, 15, 76, 75, 48, 20, 57, 63, 15, 79, 55, 22, 44, 69, 96, 56, 58, 39, 23, 6, 49, 2, 96, 51, 98, 26, 18, 17, 10, 11, 17, 13, 56]\n",
      "Values that contains 2:  [92, 27, 20, 20, 28, 92, 29, 26, 22, 62, 20, 22, 23, 2, 26]\n",
      "Sorted array:[2, 20, 20, 20, 22, 22, 23, 26, 26, 27, 28, 29, 62, 92, 92]\n"
     ]
    }
   ],
   "source": [
    "# Exercise 8: your code here\n",
    "import random\n",
    "\n",
    "my_list = [random.randint(1, 100) for i in range(100)]\n",
    "print('Random list:', my_list)\n",
    "\n",
    "my_list2 = []\n",
    "for values in my_list:\n",
    "    if '2' in str(values):\n",
    "        my_list2.append(values)\n",
    "\n",
    "print('Values that contains 2: ', my_list2)\n",
    "\n",
    "def bubble_sort(my_list):\n",
    "    sorted_ary = True\n",
    "    for j in range(len(my_list)-1):\n",
    "        for i in range(len(my_list)-j-1):\n",
    "            if my_list[i] > my_list[i+1]:\n",
    "                my_list[i], my_list[i+1] = my_list[i+1], my_list[i]\n",
    "\n",
    "\n",
    "bubble_sort(my_list2)\n",
    "print(\"Sorted array:{ary}\".format(ary=my_list2))\n",
    "\n",
    "# I used a bubble sort due to its simplicity, \n",
    "# because performance is not an issue while working with a 100 items long list"
   ]
  },
  {
   "cell_type": "markdown",
   "metadata": {},
   "source": [
    "<div style=\"border:3px red solid; padding: 0px 20px 10px;\">\n",
    "    <h2 style=\"color:red\">Exercise 9</h2>\n",
    "    <ul>\n",
    "        <li style=\"color:red\">A list contains the numbers 1 to 20; this is searched with <b>binary search</b>.</li>\n",
    "        <li style=\"color:red\">Which number in this list must be searched for so that the maximum number of comparisons is necessary. How many comparisons are there?</li>\n",
    "    </ul>\n",
    "</div>\n"
   ]
  },
  {
   "cell_type": "code",
   "execution_count": null,
   "metadata": {},
   "outputs": [],
   "source": [
    "  while low_lim <= up_lim:\n",
    "    \n",
    "        #The middle between upper and lower limit is calculated using the floored division operator '//'.\n",
    "        \n",
    "        middle = (low_lim + up_lim)//2\n",
    "    \n",
    "        if x[middle] == key:\n",
    "        \n",
    "            #If the key matches the middle it is returned.\n",
    "        \n",
    "            return middle\n",
    "        \n",
    "        #Otherwise, the upper or lower limit are adjusted to lie closer around the key.\n",
    "    \n",
    "        elif x[middle] > key:\n",
    "        \n",
    "            up_lim = middle - 1\n",
    "        \n",
    "        else:\n",
    "        \n",
    "            low_lim = middle + 1"
   ]
  },
  {
   "cell_type": "markdown",
   "metadata": {},
   "source": [
    "Most of the comparisons are needed when looking for the number in the first or last position, 1 or 20 in our case.\n",
    "\n",
    "The following comparisons are necessary when searching for 1 in [1,2,3,4,5,6,7,8,9,10,11,12,13,14,15,16,17,18,19,20]:\n",
    "\n",
    "low_limit = 0\n",
    "up_limit = len(list) - 1 = 19\n",
    "middle = 10\n",
    "\n",
    "low_limit = 0\n",
    "new_up_limit = 10-1=9\n",
    "new_middle = 5\n",
    "\n",
    "low_limit = 0\n",
    "new_up_limit = 5-1=4\n",
    "middle = 2\n",
    "\n",
    "low_limit = 0 \n",
    "new_up_limit = 2-1 = 1\n",
    "new_middle = 1\n",
    "\n",
    "low_limit = 0\n",
    "new_up_limit = 1-1=0\n",
    "new_ middle = 0\n",
    "\n",
    "key found\n",
    "Number of comparisons^ 5\n"
   ]
  },
  {
   "cell_type": "markdown",
   "metadata": {},
   "source": [
    "<div style=\"border:3px red solid; padding: 0px 20px 10px;\">\n",
    "    <h2 style=\"color:red\">Exercise 10</h2>\n",
    "    <ul>\n",
    "        <li style=\"color:red\">Use binary search to program a \"guess-my-number\" game: you think of a number between 1 and 10000. Your program guesses a number, you give \"higher\" or \"lower\" as <a href=\"https://www.w3schools.com/python/ref_func_input.asp\">input</a> until you guess the correct number.</li>\n",
    "    </ul>\n",
    "</div>"
   ]
  },
  {
   "cell_type": "code",
   "execution_count": 56,
   "metadata": {},
   "outputs": [],
   "source": [
    "import random\n",
    "# Aufgabe: your code here\n",
    "\n",
    "def guess_my_number(low=0, up=10000):\n",
    "    inpt = ''\n",
    "    middle = random.randint(low, up)\n",
    "    while low < up:\n",
    "        print('My guess is: ', middle)\n",
    "        inpt = input('higher/lower/correct')\n",
    "        if inpt == 'correct':\n",
    "            return middle\n",
    "        elif inpt == 'higher':\n",
    "            low = middle+1\n",
    "            middle = (low + up)//2\n",
    "        elif inpt == 'lower':\n",
    "            up = middle+1\n",
    "            middle = (low + up)//2\n",
    "        else:\n",
    "            print('Sorry, I could not understand you.')\n",
    "            return"
   ]
  },
  {
   "cell_type": "code",
   "execution_count": 59,
   "metadata": {},
   "outputs": [
    {
     "name": "stdout",
     "output_type": "stream",
     "text": [
      "My guess is:  8520\n"
     ]
    },
    {
     "name": "stdin",
     "output_type": "stream",
     "text": [
      "higher/lower/correct lower\n"
     ]
    },
    {
     "name": "stdout",
     "output_type": "stream",
     "text": [
      "My guess is:  4260\n"
     ]
    },
    {
     "name": "stdin",
     "output_type": "stream",
     "text": [
      "higher/lower/correct lower\n"
     ]
    },
    {
     "name": "stdout",
     "output_type": "stream",
     "text": [
      "My guess is:  2130\n"
     ]
    },
    {
     "name": "stdin",
     "output_type": "stream",
     "text": [
      "higher/lower/correct lower\n"
     ]
    },
    {
     "name": "stdout",
     "output_type": "stream",
     "text": [
      "My guess is:  1065\n"
     ]
    },
    {
     "name": "stdin",
     "output_type": "stream",
     "text": [
      "higher/lower/correct lower\n"
     ]
    },
    {
     "name": "stdout",
     "output_type": "stream",
     "text": [
      "My guess is:  533\n"
     ]
    },
    {
     "name": "stdin",
     "output_type": "stream",
     "text": [
      "higher/lower/correct lower\n"
     ]
    },
    {
     "name": "stdout",
     "output_type": "stream",
     "text": [
      "My guess is:  267\n"
     ]
    },
    {
     "name": "stdin",
     "output_type": "stream",
     "text": [
      "higher/lower/correct lower\n"
     ]
    },
    {
     "name": "stdout",
     "output_type": "stream",
     "text": [
      "My guess is:  134\n"
     ]
    },
    {
     "name": "stdin",
     "output_type": "stream",
     "text": [
      "higher/lower/correct lower\n"
     ]
    },
    {
     "name": "stdout",
     "output_type": "stream",
     "text": [
      "My guess is:  67\n"
     ]
    },
    {
     "name": "stdin",
     "output_type": "stream",
     "text": [
      "higher/lower/correct lower\n"
     ]
    },
    {
     "name": "stdout",
     "output_type": "stream",
     "text": [
      "My guess is:  34\n"
     ]
    },
    {
     "name": "stdin",
     "output_type": "stream",
     "text": [
      "higher/lower/correct lower\n"
     ]
    },
    {
     "name": "stdout",
     "output_type": "stream",
     "text": [
      "My guess is:  17\n"
     ]
    },
    {
     "name": "stdin",
     "output_type": "stream",
     "text": [
      "higher/lower/correct lower\n"
     ]
    },
    {
     "name": "stdout",
     "output_type": "stream",
     "text": [
      "My guess is:  9\n"
     ]
    },
    {
     "name": "stdin",
     "output_type": "stream",
     "text": [
      "higher/lower/correct lower\n"
     ]
    },
    {
     "name": "stdout",
     "output_type": "stream",
     "text": [
      "My guess is:  5\n"
     ]
    },
    {
     "name": "stdin",
     "output_type": "stream",
     "text": [
      "higher/lower/correct higher\n"
     ]
    },
    {
     "name": "stdout",
     "output_type": "stream",
     "text": [
      "My guess is:  8\n"
     ]
    },
    {
     "name": "stdin",
     "output_type": "stream",
     "text": [
      "higher/lower/correct lower\n"
     ]
    },
    {
     "name": "stdout",
     "output_type": "stream",
     "text": [
      "My guess is:  7\n"
     ]
    },
    {
     "name": "stdin",
     "output_type": "stream",
     "text": [
      "higher/lower/correct correct\n"
     ]
    },
    {
     "data": {
      "text/plain": [
       "7"
      ]
     },
     "execution_count": 59,
     "metadata": {},
     "output_type": "execute_result"
    }
   ],
   "source": [
    "# my number is 7\n",
    "guess_my_number()"
   ]
  },
  {
   "cell_type": "markdown",
   "metadata": {},
   "source": [
    "<div style=\"border:3px red solid; padding: 0px 20px 10px;\">\n",
    "    <h2 style=\"color:red\">Exercise 11</h2>\n",
    "    <ul>\n",
    "        <li style=\"color:red\">Sort the list <code>4 6 8 2 9 5 1 7 3</code> manually with insertion sort.</li>\n",
    "    </ul>\n",
    "</div>"
   ]
  },
  {
   "cell_type": "markdown",
   "metadata": {},
   "source": [
    "1: 4 6 8 2 9 5 1 7 3 # Sratt with second element, while 6 > 4, he is considered sorted\n",
    "2: 4 6 8 2 9 5 1 7 3 # Move to third element, with the same logic he also considered sorted\n",
    "3: 2 4 6 8 9 5 1 7 3 # Fourth element is not sorted, we compare 2 first of all with 8, than with 6, than with 4\n",
    "4: 2 4 6 8 9 5 1 7 3 # Fifth element is sorted \n",
    "5: 2 4 5 6 8 9 1 7 3 # Sixth element is not sorted, so we compare it with 9, than with 8, than with 6\n",
    "6: 1 2 4 5 6 8 9 7 3\n",
    "7: 1 2 4 5 6 7 8 9 3\n",
    "8: 1 2 3 4 5 6 7 8 9\n"
   ]
  },
  {
   "cell_type": "code",
   "execution_count": 78,
   "metadata": {},
   "outputs": [],
   "source": [
    "def insertion_sort(ary):\n",
    "    for i in range (1, len(ary)):\n",
    "        print(\"Iteration {i}: {ary}\".\n",
    "              format(i = i, ary = ary))\n",
    "        value = ary[i]\n",
    "        j = i-1\n",
    "        while j >= 0 and value < ary[j]: #we start with the second one \n",
    "                ary[j+1] = ary[j]\n",
    "                j -= 1\n",
    "        ary[j+1] = value"
   ]
  },
  {
   "cell_type": "code",
   "execution_count": 80,
   "metadata": {},
   "outputs": [
    {
     "name": "stdout",
     "output_type": "stream",
     "text": [
      "Iteration 1: [4, 6, 8, 2, 9, 5, 1, 7, 3]\n",
      "Iteration 2: [4, 6, 8, 2, 9, 5, 1, 7, 3]\n",
      "Iteration 3: [4, 6, 8, 2, 9, 5, 1, 7, 3]\n",
      "Iteration 4: [2, 4, 6, 8, 9, 5, 1, 7, 3]\n",
      "Iteration 5: [2, 4, 6, 8, 9, 5, 1, 7, 3]\n",
      "Iteration 6: [2, 4, 5, 6, 8, 9, 1, 7, 3]\n",
      "Iteration 7: [1, 2, 4, 5, 6, 8, 9, 7, 3]\n",
      "Iteration 8: [1, 2, 4, 5, 6, 7, 8, 9, 3]\n",
      "[1, 2, 3, 4, 5, 6, 7, 8, 9]\n"
     ]
    }
   ],
   "source": [
    "ary = [4,6,8,2,9,5,1,7,3]\n",
    "insertion_sort(ary)\n",
    "print(ary)"
   ]
  },
  {
   "cell_type": "code",
   "execution_count": null,
   "metadata": {},
   "outputs": [],
   "source": []
  }
 ],
 "metadata": {
  "kernelspec": {
   "display_name": "Python 3",
   "language": "python",
   "name": "python3"
  },
  "language_info": {
   "codemirror_mode": {
    "name": "ipython",
    "version": 3
   },
   "file_extension": ".py",
   "mimetype": "text/x-python",
   "name": "python",
   "nbconvert_exporter": "python",
   "pygments_lexer": "ipython3",
   "version": "3.8.5"
  }
 },
 "nbformat": 4,
 "nbformat_minor": 4
}
