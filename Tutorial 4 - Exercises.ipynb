{
 "cells": [
  {
   "cell_type": "markdown",
   "metadata": {},
   "source": [
    "# Tutorial 4 -  Exercises"
   ]
  },
  {
   "cell_type": "markdown",
   "metadata": {},
   "source": [
    "## Exercise 1\n",
    "\n",
    "Below you can see a function that multiplies all elements of a list together iteratively and returns the product. An empty list is defined as having the product $1$. Take a look to see how it works. There are also test cases to verify that it works."
   ]
  },
  {
   "cell_type": "code",
   "execution_count": 1,
   "metadata": {},
   "outputs": [],
   "source": [
    "def prod_it(elements):\n",
    "    product = 1\n",
    "    for element in elements:\n",
    "        product *= element\n",
    "    return product\n",
    "\n",
    "assert prod_it([]) == 1\n",
    "assert prod_it([5]) == 5\n",
    "assert prod_it([5, 5]) == 25\n",
    "assert prod_it([2, 4, 6]) == 48"
   ]
  },
  {
   "cell_type": "markdown",
   "metadata": {},
   "source": [
    "Now, think about how this function could be defined using *recursion*. Try completing the function \"prod_rec\" that recursively multiplies all elements of a list. That means you have to find a solution without using any kind of loop structure (while, for). The test cases are the same ones used for the iterative solution.\n",
    "\n",
    "**Hint:** If you are unsure how to solve the problem recursively, then these steps can guide you:\n",
    "1. Define the *base case(s)*. Ask yourself: What lists can you solve right away, because they are so simple?\n",
    "2. Define the *recursion step*. Ask yourself: If you take the base case and make it longer by one element, is there a way to use the base case to solve the problem?"
   ]
  },
  {
   "cell_type": "code",
   "execution_count": 2,
   "metadata": {},
   "outputs": [],
   "source": [
    "def prod_rec(elements):\n",
    "    if len(elements) == 0:\n",
    "        return 1\n",
    "    else:\n",
    "        return elements[0] * prod_rec(elements[1:])\n",
    "    \n",
    "assert prod_rec([]) == 1\n",
    "assert prod_rec([5]) == 5\n",
    "assert prod_rec([5, 5]) == 25\n",
    "assert prod_rec([2, 4, 6]) == 48"
   ]
  },
  {
   "cell_type": "markdown",
   "metadata": {},
   "source": [
    "## Exercise 2\n",
    "\n",
    "In Python, we can count the elements of a list using the \"len\" function that is built-in. It is also possible to determine the length recursively. Use the same strategy as before to complete the recursive function \"len_rec\"."
   ]
  },
  {
   "cell_type": "code",
   "execution_count": 3,
   "metadata": {},
   "outputs": [],
   "source": [
    "def len_rec(elements):\n",
    "    if not elements:\n",
    "        return 0\n",
    "    else:\n",
    "        return 1 + len_rec(elements[1:])\n",
    "\n",
    "assert len_rec([]) == 0\n",
    "assert len_rec([5]) == 1\n",
    "assert len_rec([5, 5]) == 2\n",
    "assert len_rec([2, 4, 6]) == 3\n",
    "assert len_rec(list(range(100))) == 100"
   ]
  },
  {
   "cell_type": "markdown",
   "metadata": {},
   "source": [
    "## Exercise 3\n",
    "\n",
    "Below you will find a definition for a linked list node. Run the cell so that you can use the class. You can also see how nodes are created and linked together."
   ]
  },
  {
   "cell_type": "code",
   "execution_count": 4,
   "metadata": {},
   "outputs": [
    {
     "name": "stdout",
     "output_type": "stream",
     "text": [
      "Node(5)\n",
      "Node(10)\n"
     ]
    }
   ],
   "source": [
    "class Node:\n",
    "    def __init__(self, value):\n",
    "        self.value = value\n",
    "        self.next = None\n",
    "        \n",
    "    def __str__(self):\n",
    "        return \"Node(\" + str(self.value) + \")\"\n",
    "    \n",
    "    def print_all(self):\n",
    "        print(self)\n",
    "        if self.next != None:\n",
    "            self.next.print_all()\n",
    "    \n",
    "# This is how to create new nodes\n",
    "a = Node(5)\n",
    "b = Node(10)\n",
    "\n",
    "# This is how to link them together (after a comes b)\n",
    "a.next = b\n",
    "\n",
    "# Let's take a look at the list\n",
    "a.print_all()"
   ]
  },
  {
   "cell_type": "markdown",
   "metadata": {},
   "source": [
    "The function below iteratively adds a value to the end of a linked list. Take a look (and run it) to see how it works. The function assumes that the list is not empty."
   ]
  },
  {
   "cell_type": "code",
   "execution_count": 5,
   "metadata": {},
   "outputs": [
    {
     "name": "stdout",
     "output_type": "stream",
     "text": [
      "Node(1)\n",
      "Node(2)\n",
      "Node(3)\n",
      "Node(4)\n",
      "Node(5)\n"
     ]
    }
   ],
   "source": [
    "def add_last_it(node, new_value):\n",
    "    while node.next != None:\n",
    "        node = node.next\n",
    "    node.next = Node(new_value)\n",
    "    \n",
    "head = Node(1)\n",
    "add_last_it(head, 2)\n",
    "add_last_it(head, 3)\n",
    "add_last_it(head, 4)\n",
    "add_last_it(head, 5)\n",
    "\n",
    "head.print_all()"
   ]
  },
  {
   "cell_type": "markdown",
   "metadata": {},
   "source": [
    "Can you create a recursive version of the \"add_last_it\" function? Remember: we want to add to the *back* of the list, not the front."
   ]
  },
  {
   "cell_type": "code",
   "execution_count": 6,
   "metadata": {},
   "outputs": [
    {
     "name": "stdout",
     "output_type": "stream",
     "text": [
      "Node(1)\n",
      "Node(2)\n",
      "Node(3)\n",
      "Node(4)\n",
      "Node(5)\n"
     ]
    }
   ],
   "source": [
    "def add_last_rec(node, new_value):\n",
    "    if node.next == None:\n",
    "        node.next = Node(new_value)\n",
    "    else:\n",
    "        add_last_rec(node.next, new_value)\n",
    "    \n",
    "head = Node(1)\n",
    "add_last_rec(head, 2)\n",
    "add_last_rec(head, 3)\n",
    "add_last_rec(head, 4)\n",
    "add_last_rec(head, 5)\n",
    "\n",
    "head.print_all()"
   ]
  },
  {
   "cell_type": "markdown",
   "metadata": {},
   "source": [
    "## Exercise 4\n",
    "\n",
    "Now that we can recursively add elements to the list, we would like to count them. Below you can see an iterative solution."
   ]
  },
  {
   "cell_type": "code",
   "execution_count": 7,
   "metadata": {},
   "outputs": [],
   "source": [
    "def count_it(node):\n",
    "    counter = 0\n",
    "    while node != None:\n",
    "        counter += 1\n",
    "        node = node.next\n",
    "    return counter\n",
    "\n",
    "assert count_it(None) == 0\n",
    "assert count_it(Node(5)) == 1\n",
    "\n",
    "head = Node(1)\n",
    "add_last_it(head, 2)\n",
    "add_last_it(head, 3)\n",
    "add_last_it(head, 4)\n",
    "add_last_it(head, 5)\n",
    "assert count_it(head) == 5"
   ]
  },
  {
   "cell_type": "markdown",
   "metadata": {},
   "source": [
    "What would a recursive solution to this problem look like? Complete the recursive function below."
   ]
  },
  {
   "cell_type": "code",
   "execution_count": 8,
   "metadata": {},
   "outputs": [],
   "source": [
    "def count_rec(node):\n",
    "    if node == None:\n",
    "        return 0\n",
    "    else:\n",
    "        return 1 + count_rec(node.next)\n",
    "\n",
    "assert count_rec(None) == 0\n",
    "assert count_rec(Node(5)) == 1\n",
    "\n",
    "head = Node(1)\n",
    "add_last_it(head, 2)\n",
    "add_last_it(head, 3)\n",
    "add_last_it(head, 4)\n",
    "add_last_it(head, 5)\n",
    "assert count_rec(head) == 5"
   ]
  }
 ],
 "metadata": {
  "kernelspec": {
   "display_name": "Python 3",
   "language": "python",
   "name": "python3"
  },
  "language_info": {
   "codemirror_mode": {
    "name": "ipython",
    "version": 3
   },
   "file_extension": ".py",
   "mimetype": "text/x-python",
   "name": "python",
   "nbconvert_exporter": "python",
   "pygments_lexer": "ipython3",
   "version": "3.8.5"
  }
 },
 "nbformat": 4,
 "nbformat_minor": 4
}
