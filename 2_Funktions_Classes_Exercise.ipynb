{
 "cells": [
  {
   "cell_type": "markdown",
   "metadata": {},
   "source": [
    "<div style=\"border:3px red solid; padding: 0px 20px 10px;\">\n",
    "    <h2 style=\"color:red\">Exercise 1</h2>\n",
    "    <ul>\n",
    "        <li style=\"color:red\">A palindrome is a word that reads the same from the front and from the back.</li>\n",
    "        <li style=\"color:red\">Write a function that returns true if a string contains a palindrome.</li>\n",
    "    </ul>\n",
    "    <code>E.g.: \"lagerregal\" → true</code>\n",
    "</div>\n"
   ]
  },
  {
   "cell_type": "code",
   "execution_count": 29,
   "metadata": {},
   "outputs": [],
   "source": [
    "\n",
    "def is_palindrom(string):\n",
    "    for i in range (len(string)):\n",
    "        j = len(string)-1-i\n",
    "        if string[i] != string[j]:\n",
    "            return False\n",
    "    return True\n",
    "        "
   ]
  },
  {
   "cell_type": "code",
   "execution_count": 30,
   "metadata": {},
   "outputs": [
    {
     "data": {
      "text/plain": [
       "True"
      ]
     },
     "execution_count": 30,
     "metadata": {},
     "output_type": "execute_result"
    }
   ],
   "source": [
    "string = \"lagerregal\"\n",
    "is_palindrom(string)"
   ]
  },
  {
   "cell_type": "code",
   "execution_count": 31,
   "metadata": {},
   "outputs": [
    {
     "name": "stdout",
     "output_type": "stream",
     "text": [
      "False\n"
     ]
    }
   ],
   "source": [
    "w = \"isthisapalindrom\"\n",
    "\n",
    "result = is_palindrom(w)\n",
    "\n",
    "print(result)"
   ]
  },
  {
   "cell_type": "code",
   "execution_count": 32,
   "metadata": {},
   "outputs": [
    {
     "name": "stdout",
     "output_type": "stream",
     "text": [
      "True\n",
      "True\n",
      "False\n"
     ]
    }
   ],
   "source": [
    "# These are some test cases for your function is_palindrom. Note, that you have to implement the function is_palindorm\n",
    "print(is_palindrom(\"rentner\"))\n",
    "print(is_palindrom(\"lagerregal\"))\n",
    "print(is_palindrom(\"test\"))"
   ]
  },
  {
   "cell_type": "markdown",
   "metadata": {},
   "source": [
    "<div style=\"border:3px red solid; padding: 0px 20px 10px;\">\n",
    "    <h2 style=\"color:red\">Exercise 2</h2>\n",
    "    <ul>\n",
    "        <li style=\"color:red\">Write the function avg_distance, which should calculate the average distance of neighboring values in an array of increasing double values.</li>\n",
    "        <li style=\"color:red\">The function is passed a list of monotonically increasing double values as parameters, e.g.: <code>[0.4, 1.6, 2.0, 2.1, 4.5]</code>.</li>\n",
    "        <li style=\"color:red\">The average difference between two consecutive numbers is to be returned as the return value.</li>\n",
    "    </ul>\n",
    "</div>"
   ]
  },
  {
   "cell_type": "code",
   "execution_count": 49,
   "metadata": {},
   "outputs": [],
   "source": [
    "my_list = [0.4, 1.6, 2.0, 2.1, 4.5]\n",
    "def avg_distance(my_list):\n",
    "    d = 0\n",
    "    for i in range (len(my_list)-1):\n",
    "        d += (my_list[i+1] - my_list[i])\n",
    "        \n",
    "    return d / (len(my_list)-1)"
   ]
  },
  {
   "cell_type": "code",
   "execution_count": 50,
   "metadata": {},
   "outputs": [
    {
     "data": {
      "text/plain": [
       "1.025"
      ]
     },
     "execution_count": 50,
     "metadata": {},
     "output_type": "execute_result"
    }
   ],
   "source": [
    "my_list = [0.4, 1.6, 2.0, 2.1, 4.5]\n",
    "avg_distance(my_list)"
   ]
  },
  {
   "cell_type": "code",
   "execution_count": 51,
   "metadata": {},
   "outputs": [
    {
     "name": "stdout",
     "output_type": "stream",
     "text": [
      "True\n",
      "True\n"
     ]
    }
   ],
   "source": [
    "# These are again some test cases for your implementation\n",
    "a = [1, 2, 3]\n",
    "avgA = avg_distance(a)\n",
    "print(avgA == 1.0)\n",
    "\n",
    "b = [0.4, 1.6, 2.0, 2.1, 4.5]\n",
    "avgB = avg_distance(b)\n",
    "print(avgB == 1.025)"
   ]
  },
  {
   "cell_type": "markdown",
   "metadata": {},
   "source": [
    "<div style=\"border:3px red solid; padding: 0px 20px 10px;\">\n",
    "    <h2 style=\"color:red\">Exercise 3</h2>\n",
    "    <ul>\n",
    "        <li style=\"color:red\">Write a Python class <code>Rectangle</code> that takes <code>length</code> and <code>width</code> in the <u><i>constructor</i></u>. </li>\n",
    "        <li style=\"color:red\">The class should have a <code>get_area</code> method that calculates and returns the area.</li>\n",
    "    </ul>\n",
    "</div>\n",
    "\n"
   ]
  },
  {
   "cell_type": "code",
   "execution_count": 57,
   "metadata": {},
   "outputs": [],
   "source": [
    "class Rectangle:\n",
    "    def __init__(self,length,width):\n",
    "        self.length = length\n",
    "        self.width = width\n",
    "    \n",
    "    def get_area(self, depth=1):\n",
    "        return self.length * self.width * depth\n",
    "        "
   ]
  },
  {
   "cell_type": "code",
   "execution_count": 58,
   "metadata": {},
   "outputs": [
    {
     "name": "stdout",
     "output_type": "stream",
     "text": [
      "R1: 10 5\n",
      "R2: 4 5\n",
      "R2 area: 40\n",
      "R1: 4 1\n"
     ]
    }
   ],
   "source": [
    "# Give here a short example of a new Rectangle with length 4, width 5, and a calculation of the area.\n",
    "\n",
    "r1 = Rectangle(10, 5)\n",
    "print(\"R1:\", r1.length, r1.width)\n",
    "\n",
    "r2 = Rectangle(4, 5)\n",
    "print(\"R2:\", r2.length, r2.width)\n",
    "a = r2.get_area(2)\n",
    "print(\"R2 area:\", a)\n",
    "\n",
    "r1.length = r2.length\n",
    "r1.width = 1\n",
    "print(\"R1:\", r1.length, r1.width)"
   ]
  },
  {
   "cell_type": "code",
   "execution_count": null,
   "metadata": {},
   "outputs": [],
   "source": []
  }
 ],
 "metadata": {
  "kernelspec": {
   "display_name": "Python 3",
   "language": "python",
   "name": "python3"
  },
  "language_info": {
   "codemirror_mode": {
    "name": "ipython",
    "version": 3
   },
   "file_extension": ".py",
   "mimetype": "text/x-python",
   "name": "python",
   "nbconvert_exporter": "python",
   "pygments_lexer": "ipython3",
   "version": "3.8.5"
  }
 },
 "nbformat": 4,
 "nbformat_minor": 4
}
