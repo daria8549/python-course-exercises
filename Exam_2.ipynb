{
 "cells": [
  {
   "cell_type": "code",
   "execution_count": null,
   "metadata": {},
   "outputs": [],
   "source": [
    "class ListItem:\n",
    "    def __init__(self, value):\n",
    "        self.value = value\n",
    "        self.next = None\n",
    "\n",
    "class LinkedList:\n",
    "    def __init__(self):\n",
    "        self.head = None\n",
    "    \n",
    "    def print_all(self):\n",
    "        p = self.head\n",
    "        print('[', end='')\n",
    "        if self.head:\n",
    "            while p.next:\n",
    "                print(p.value, end=', ')\n",
    "                p = p.next\n",
    "            print(p.value, end='')\n",
    "        print(']')\n",
    "    \n",
    "    def insert(self, value):\n",
    "        item = ListItem(value)\n",
    "        if self.head is None:\n",
    "            self.head = item\n",
    "        else:\n",
    "            item.next = self.head\n",
    "            self.head = item\n",
    "    \n",
    "    def pop(self, index):\n",
    "        if self.head is None:\n",
    "            return None\n",
    "        if index == 0:\n",
    "            value = self.head\n",
    "            self.head = self.head.next\n",
    "            return value\n",
    "        \n",
    "        \n",
    "        current = self.head\n",
    "        while index != 1:\n",
    "            current = current.next\n",
    "            index -= 1\n",
    "            \n",
    "            if current.next is None:\n",
    "                return None \n",
    "        \n",
    "        old_value = current.next.value\n",
    "        current.next = current.next.next\n",
    "        return old_value\n",
    "\n",
    "        \n",
    "    \n",
    "    def reverse(self):\n",
    "        if self.head is None:\n",
    "            return None\n",
    "        \n",
    "        rev = LinkedList()\n",
    "        current = self.head\n",
    "        while current is not None:\n",
    "            rev.insert(current.value)\n",
    "            current = current.next\n",
    "        \n",
    "        return rev\n",
    "        \n"
   ]
  },
  {
   "cell_type": "code",
   "execution_count": 2,
   "metadata": {},
   "outputs": [
    {
     "name": "stdout",
     "output_type": "stream",
     "text": [
      "[Harry, Hermione, Ron]\n",
      "[Harry, Ron]\n",
      "[Ron, Harry]\n"
     ]
    }
   ],
   "source": [
    "ll = LinkedList()\n",
    "ll.insert(\"Ron\")\n",
    "ll.insert(\"Hermione\")\n",
    "ll.insert(\"Harry\")\n",
    "ll.print_all()  # prints: [Harry, Hermione, Ron]\n",
    "assert ll.pop(1) == \"Hermione\"\n",
    "ll.print_all()  # prints: [Harry, Ron]\n",
    "reversed = ll.reverse()\n",
    "reversed.print_all()  # prints: [Ron, Harry]"
   ]
  },
  {
   "cell_type": "code",
   "execution_count": 3,
   "metadata": {},
   "outputs": [],
   "source": [
    "class Node:\n",
    "    def __init__(self, value, color):\n",
    "        self.value = value\n",
    "        self.color = color\n",
    "        self.left = None\n",
    "        self.right = None\n",
    "\n",
    "class BinarySearchTree:\n",
    "    def __init__(self):\n",
    "        self.root = None\n",
    "    \n",
    "    def count_reds(self, n):\n",
    "        if n == None:\n",
    "            return 0\n",
    "        else:\n",
    "            reds = self.count_reds(n.left) + self.count_reds(n.right)\n",
    "            if n.color == 1:\n",
    "                reds += 1\n",
    "            return reds\n",
    "    \n",
    "    def search_accumulated_sum(self, value):\n",
    "        if self.root is None:\n",
    "            return 0\n",
    "        elif value == self.root.value:\n",
    "            return 0\n",
    "        else:\n",
    "            acc_sum = 0\n",
    "            current = self.root\n",
    "            while current is not None:\n",
    "                if current.color == 0:\n",
    "                    acc_sum -= current.value\n",
    "                else:\n",
    "                    acc_sum += current.value\n",
    "                        \n",
    "                if value == current.value:\n",
    "                    return acc_sum\n",
    "                elif value > current.value:\n",
    "                    current = current.right\n",
    "                else:\n",
    "                    current = current.left\n",
    "                    \n",
    "            return 0\n",
    "                \n",
    "        print(acc_sum)     \n",
    "                \n",
    "                \n",
    "            \n",
    "    \n",
    "    def add(self, value, color):\n",
    "        b = Node(value, color)\n",
    "        self.root = self.rec_add(self.root, b)\n",
    "    \n",
    "    def rec_add(self, n, b):\n",
    "        if n is None:\n",
    "            return b\n",
    "        if b.value < n.value:\n",
    "            n.left = self.rec_add(n.left, b)\n",
    "        else:\n",
    "            n.right = self.rec_add(n.right, b)\n",
    "        return n\n",
    "\n"
   ]
  },
  {
   "cell_type": "code",
   "execution_count": 4,
   "metadata": {},
   "outputs": [
    {
     "data": {
      "text/plain": [
       "23"
      ]
     },
     "execution_count": 4,
     "metadata": {},
     "output_type": "execute_result"
    }
   ],
   "source": [
    "my_bst = BinarySearchTree()\n",
    "my_bst.add(10, 1)\n",
    "my_bst.add(5, 0)\n",
    "my_bst.add(25, 1)\n",
    "my_bst.add(6, 1)\n",
    "my_bst.add(12, 0)\n",
    "my_bst.count_reds(my_bst.root)\n",
    "my_bst.search_accumulated_sum(12)\n"
   ]
  },
  {
   "cell_type": "code",
   "execution_count": 5,
   "metadata": {},
   "outputs": [],
   "source": [
    "    def search(self, node, value): # Search function\n",
    "        # Returns the node that contains the value or False if the tree doesn't contain the value\n",
    "        if (node.value == value):\n",
    "            return node\n",
    "        elif (value < node.value and node.left != None):\n",
    "            return self.search(node.left, value)\n",
    "        elif (value > node.value and node.right != None):\n",
    "            return self.search(node.right, value)\n",
    "        return False"
   ]
  },
  {
   "cell_type": "code",
   "execution_count": null,
   "metadata": {},
   "outputs": [],
   "source": []
  }
 ],
 "metadata": {
  "kernelspec": {
   "display_name": "Python 3",
   "language": "python",
   "name": "python3"
  },
  "language_info": {
   "codemirror_mode": {
    "name": "ipython",
    "version": 3
   },
   "file_extension": ".py",
   "mimetype": "text/x-python",
   "name": "python",
   "nbconvert_exporter": "python",
   "pygments_lexer": "ipython3",
   "version": "3.8.5"
  }
 },
 "nbformat": 4,
 "nbformat_minor": 4
}
